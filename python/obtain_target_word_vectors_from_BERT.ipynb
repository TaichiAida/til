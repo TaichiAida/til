{
  "nbformat": 4,
  "nbformat_minor": 0,
  "metadata": {
    "colab": {
      "name": "BERT_Embeddings.ipynb",
      "provenance": [],
      "toc_visible": true
    },
    "kernelspec": {
      "name": "python3",
      "display_name": "Python 3"
    },
    "widgets": {
      "application/vnd.jupyter.widget-state+json": {
        "613841b9eed8491ab9a37d8b602e5a90": {
          "model_module": "@jupyter-widgets/controls",
          "model_name": "HBoxModel",
          "state": {
            "_view_name": "HBoxView",
            "_dom_classes": [],
            "_model_name": "HBoxModel",
            "_view_module": "@jupyter-widgets/controls",
            "_model_module_version": "1.5.0",
            "_view_count": null,
            "_view_module_version": "1.5.0",
            "box_style": "",
            "layout": "IPY_MODEL_4fa5a95be4c14800967e140a445e4fbd",
            "_model_module": "@jupyter-widgets/controls",
            "children": [
              "IPY_MODEL_9e600265414a485ea72b07e70eb9f874",
              "IPY_MODEL_6455b057cbdd48e5b47c56ec154c892d"
            ]
          }
        },
        "4fa5a95be4c14800967e140a445e4fbd": {
          "model_module": "@jupyter-widgets/base",
          "model_name": "LayoutModel",
          "state": {
            "_view_name": "LayoutView",
            "grid_template_rows": null,
            "right": null,
            "justify_content": null,
            "_view_module": "@jupyter-widgets/base",
            "overflow": null,
            "_model_module_version": "1.2.0",
            "_view_count": null,
            "flex_flow": null,
            "width": null,
            "min_width": null,
            "border": null,
            "align_items": null,
            "bottom": null,
            "_model_module": "@jupyter-widgets/base",
            "top": null,
            "grid_column": null,
            "overflow_y": null,
            "overflow_x": null,
            "grid_auto_flow": null,
            "grid_area": null,
            "grid_template_columns": null,
            "flex": null,
            "_model_name": "LayoutModel",
            "justify_items": null,
            "grid_row": null,
            "max_height": null,
            "align_content": null,
            "visibility": null,
            "align_self": null,
            "height": null,
            "min_height": null,
            "padding": null,
            "grid_auto_rows": null,
            "grid_gap": null,
            "max_width": null,
            "order": null,
            "_view_module_version": "1.2.0",
            "grid_template_areas": null,
            "object_position": null,
            "object_fit": null,
            "grid_auto_columns": null,
            "margin": null,
            "display": null,
            "left": null
          }
        },
        "9e600265414a485ea72b07e70eb9f874": {
          "model_module": "@jupyter-widgets/controls",
          "model_name": "FloatProgressModel",
          "state": {
            "_view_name": "ProgressView",
            "style": "IPY_MODEL_b846d04404714320bbf63f95f13e1ccb",
            "_dom_classes": [],
            "description": "Downloading: 100%",
            "_model_name": "FloatProgressModel",
            "bar_style": "success",
            "max": 433,
            "_view_module": "@jupyter-widgets/controls",
            "_model_module_version": "1.5.0",
            "value": 433,
            "_view_count": null,
            "_view_module_version": "1.5.0",
            "orientation": "horizontal",
            "min": 0,
            "description_tooltip": null,
            "_model_module": "@jupyter-widgets/controls",
            "layout": "IPY_MODEL_53336e1019904d288e9b888cd59017ec"
          }
        },
        "6455b057cbdd48e5b47c56ec154c892d": {
          "model_module": "@jupyter-widgets/controls",
          "model_name": "HTMLModel",
          "state": {
            "_view_name": "HTMLView",
            "style": "IPY_MODEL_ef89cc074d6944caa4655d7ec770de08",
            "_dom_classes": [],
            "description": "",
            "_model_name": "HTMLModel",
            "placeholder": "​",
            "_view_module": "@jupyter-widgets/controls",
            "_model_module_version": "1.5.0",
            "value": " 433/433 [05:11&lt;00:00, 1.39B/s]",
            "_view_count": null,
            "_view_module_version": "1.5.0",
            "description_tooltip": null,
            "_model_module": "@jupyter-widgets/controls",
            "layout": "IPY_MODEL_58be7ebfb5e64f478c26f0c22d1b4159"
          }
        },
        "b846d04404714320bbf63f95f13e1ccb": {
          "model_module": "@jupyter-widgets/controls",
          "model_name": "ProgressStyleModel",
          "state": {
            "_view_name": "StyleView",
            "_model_name": "ProgressStyleModel",
            "description_width": "initial",
            "_view_module": "@jupyter-widgets/base",
            "_model_module_version": "1.5.0",
            "_view_count": null,
            "_view_module_version": "1.2.0",
            "bar_color": null,
            "_model_module": "@jupyter-widgets/controls"
          }
        },
        "53336e1019904d288e9b888cd59017ec": {
          "model_module": "@jupyter-widgets/base",
          "model_name": "LayoutModel",
          "state": {
            "_view_name": "LayoutView",
            "grid_template_rows": null,
            "right": null,
            "justify_content": null,
            "_view_module": "@jupyter-widgets/base",
            "overflow": null,
            "_model_module_version": "1.2.0",
            "_view_count": null,
            "flex_flow": null,
            "width": null,
            "min_width": null,
            "border": null,
            "align_items": null,
            "bottom": null,
            "_model_module": "@jupyter-widgets/base",
            "top": null,
            "grid_column": null,
            "overflow_y": null,
            "overflow_x": null,
            "grid_auto_flow": null,
            "grid_area": null,
            "grid_template_columns": null,
            "flex": null,
            "_model_name": "LayoutModel",
            "justify_items": null,
            "grid_row": null,
            "max_height": null,
            "align_content": null,
            "visibility": null,
            "align_self": null,
            "height": null,
            "min_height": null,
            "padding": null,
            "grid_auto_rows": null,
            "grid_gap": null,
            "max_width": null,
            "order": null,
            "_view_module_version": "1.2.0",
            "grid_template_areas": null,
            "object_position": null,
            "object_fit": null,
            "grid_auto_columns": null,
            "margin": null,
            "display": null,
            "left": null
          }
        },
        "ef89cc074d6944caa4655d7ec770de08": {
          "model_module": "@jupyter-widgets/controls",
          "model_name": "DescriptionStyleModel",
          "state": {
            "_view_name": "StyleView",
            "_model_name": "DescriptionStyleModel",
            "description_width": "",
            "_view_module": "@jupyter-widgets/base",
            "_model_module_version": "1.5.0",
            "_view_count": null,
            "_view_module_version": "1.2.0",
            "_model_module": "@jupyter-widgets/controls"
          }
        },
        "58be7ebfb5e64f478c26f0c22d1b4159": {
          "model_module": "@jupyter-widgets/base",
          "model_name": "LayoutModel",
          "state": {
            "_view_name": "LayoutView",
            "grid_template_rows": null,
            "right": null,
            "justify_content": null,
            "_view_module": "@jupyter-widgets/base",
            "overflow": null,
            "_model_module_version": "1.2.0",
            "_view_count": null,
            "flex_flow": null,
            "width": null,
            "min_width": null,
            "border": null,
            "align_items": null,
            "bottom": null,
            "_model_module": "@jupyter-widgets/base",
            "top": null,
            "grid_column": null,
            "overflow_y": null,
            "overflow_x": null,
            "grid_auto_flow": null,
            "grid_area": null,
            "grid_template_columns": null,
            "flex": null,
            "_model_name": "LayoutModel",
            "justify_items": null,
            "grid_row": null,
            "max_height": null,
            "align_content": null,
            "visibility": null,
            "align_self": null,
            "height": null,
            "min_height": null,
            "padding": null,
            "grid_auto_rows": null,
            "grid_gap": null,
            "max_width": null,
            "order": null,
            "_view_module_version": "1.2.0",
            "grid_template_areas": null,
            "object_position": null,
            "object_fit": null,
            "grid_auto_columns": null,
            "margin": null,
            "display": null,
            "left": null
          }
        },
        "658785ee26464cd9a4e6c91df241a940": {
          "model_module": "@jupyter-widgets/controls",
          "model_name": "HBoxModel",
          "state": {
            "_view_name": "HBoxView",
            "_dom_classes": [],
            "_model_name": "HBoxModel",
            "_view_module": "@jupyter-widgets/controls",
            "_model_module_version": "1.5.0",
            "_view_count": null,
            "_view_module_version": "1.5.0",
            "box_style": "",
            "layout": "IPY_MODEL_ea5121d5df464a37b198078cf4cb9603",
            "_model_module": "@jupyter-widgets/controls",
            "children": [
              "IPY_MODEL_88f6c6ee031b402297e3d9ac3d0f5763",
              "IPY_MODEL_42af889707c9455a994bf18f140c53d1"
            ]
          }
        },
        "ea5121d5df464a37b198078cf4cb9603": {
          "model_module": "@jupyter-widgets/base",
          "model_name": "LayoutModel",
          "state": {
            "_view_name": "LayoutView",
            "grid_template_rows": null,
            "right": null,
            "justify_content": null,
            "_view_module": "@jupyter-widgets/base",
            "overflow": null,
            "_model_module_version": "1.2.0",
            "_view_count": null,
            "flex_flow": null,
            "width": null,
            "min_width": null,
            "border": null,
            "align_items": null,
            "bottom": null,
            "_model_module": "@jupyter-widgets/base",
            "top": null,
            "grid_column": null,
            "overflow_y": null,
            "overflow_x": null,
            "grid_auto_flow": null,
            "grid_area": null,
            "grid_template_columns": null,
            "flex": null,
            "_model_name": "LayoutModel",
            "justify_items": null,
            "grid_row": null,
            "max_height": null,
            "align_content": null,
            "visibility": null,
            "align_self": null,
            "height": null,
            "min_height": null,
            "padding": null,
            "grid_auto_rows": null,
            "grid_gap": null,
            "max_width": null,
            "order": null,
            "_view_module_version": "1.2.0",
            "grid_template_areas": null,
            "object_position": null,
            "object_fit": null,
            "grid_auto_columns": null,
            "margin": null,
            "display": null,
            "left": null
          }
        },
        "88f6c6ee031b402297e3d9ac3d0f5763": {
          "model_module": "@jupyter-widgets/controls",
          "model_name": "FloatProgressModel",
          "state": {
            "_view_name": "ProgressView",
            "style": "IPY_MODEL_d58309b6b1144cd6807749d4520d4ade",
            "_dom_classes": [],
            "description": "Downloading: 100%",
            "_model_name": "FloatProgressModel",
            "bar_style": "success",
            "max": 440473133,
            "_view_module": "@jupyter-widgets/controls",
            "_model_module_version": "1.5.0",
            "value": 440473133,
            "_view_count": null,
            "_view_module_version": "1.5.0",
            "orientation": "horizontal",
            "min": 0,
            "description_tooltip": null,
            "_model_module": "@jupyter-widgets/controls",
            "layout": "IPY_MODEL_47f29d6bee254d648031f5ebb4c03a20"
          }
        },
        "42af889707c9455a994bf18f140c53d1": {
          "model_module": "@jupyter-widgets/controls",
          "model_name": "HTMLModel",
          "state": {
            "_view_name": "HTMLView",
            "style": "IPY_MODEL_6cdaff5c740442978411b456c16a4dc7",
            "_dom_classes": [],
            "description": "",
            "_model_name": "HTMLModel",
            "placeholder": "​",
            "_view_module": "@jupyter-widgets/controls",
            "_model_module_version": "1.5.0",
            "value": " 440M/440M [00:06&lt;00:00, 65.8MB/s]",
            "_view_count": null,
            "_view_module_version": "1.5.0",
            "description_tooltip": null,
            "_model_module": "@jupyter-widgets/controls",
            "layout": "IPY_MODEL_46dc02200ae3499a90e7accaf991511c"
          }
        },
        "d58309b6b1144cd6807749d4520d4ade": {
          "model_module": "@jupyter-widgets/controls",
          "model_name": "ProgressStyleModel",
          "state": {
            "_view_name": "StyleView",
            "_model_name": "ProgressStyleModel",
            "description_width": "initial",
            "_view_module": "@jupyter-widgets/base",
            "_model_module_version": "1.5.0",
            "_view_count": null,
            "_view_module_version": "1.2.0",
            "bar_color": null,
            "_model_module": "@jupyter-widgets/controls"
          }
        },
        "47f29d6bee254d648031f5ebb4c03a20": {
          "model_module": "@jupyter-widgets/base",
          "model_name": "LayoutModel",
          "state": {
            "_view_name": "LayoutView",
            "grid_template_rows": null,
            "right": null,
            "justify_content": null,
            "_view_module": "@jupyter-widgets/base",
            "overflow": null,
            "_model_module_version": "1.2.0",
            "_view_count": null,
            "flex_flow": null,
            "width": null,
            "min_width": null,
            "border": null,
            "align_items": null,
            "bottom": null,
            "_model_module": "@jupyter-widgets/base",
            "top": null,
            "grid_column": null,
            "overflow_y": null,
            "overflow_x": null,
            "grid_auto_flow": null,
            "grid_area": null,
            "grid_template_columns": null,
            "flex": null,
            "_model_name": "LayoutModel",
            "justify_items": null,
            "grid_row": null,
            "max_height": null,
            "align_content": null,
            "visibility": null,
            "align_self": null,
            "height": null,
            "min_height": null,
            "padding": null,
            "grid_auto_rows": null,
            "grid_gap": null,
            "max_width": null,
            "order": null,
            "_view_module_version": "1.2.0",
            "grid_template_areas": null,
            "object_position": null,
            "object_fit": null,
            "grid_auto_columns": null,
            "margin": null,
            "display": null,
            "left": null
          }
        },
        "6cdaff5c740442978411b456c16a4dc7": {
          "model_module": "@jupyter-widgets/controls",
          "model_name": "DescriptionStyleModel",
          "state": {
            "_view_name": "StyleView",
            "_model_name": "DescriptionStyleModel",
            "description_width": "",
            "_view_module": "@jupyter-widgets/base",
            "_model_module_version": "1.5.0",
            "_view_count": null,
            "_view_module_version": "1.2.0",
            "_model_module": "@jupyter-widgets/controls"
          }
        },
        "46dc02200ae3499a90e7accaf991511c": {
          "model_module": "@jupyter-widgets/base",
          "model_name": "LayoutModel",
          "state": {
            "_view_name": "LayoutView",
            "grid_template_rows": null,
            "right": null,
            "justify_content": null,
            "_view_module": "@jupyter-widgets/base",
            "overflow": null,
            "_model_module_version": "1.2.0",
            "_view_count": null,
            "flex_flow": null,
            "width": null,
            "min_width": null,
            "border": null,
            "align_items": null,
            "bottom": null,
            "_model_module": "@jupyter-widgets/base",
            "top": null,
            "grid_column": null,
            "overflow_y": null,
            "overflow_x": null,
            "grid_auto_flow": null,
            "grid_area": null,
            "grid_template_columns": null,
            "flex": null,
            "_model_name": "LayoutModel",
            "justify_items": null,
            "grid_row": null,
            "max_height": null,
            "align_content": null,
            "visibility": null,
            "align_self": null,
            "height": null,
            "min_height": null,
            "padding": null,
            "grid_auto_rows": null,
            "grid_gap": null,
            "max_width": null,
            "order": null,
            "_view_module_version": "1.2.0",
            "grid_template_areas": null,
            "object_position": null,
            "object_fit": null,
            "grid_auto_columns": null,
            "margin": null,
            "display": null,
            "left": null
          }
        },
        "da8793cc79c64ea58f53e7beab6cc3ef": {
          "model_module": "@jupyter-widgets/controls",
          "model_name": "HBoxModel",
          "state": {
            "_view_name": "HBoxView",
            "_dom_classes": [],
            "_model_name": "HBoxModel",
            "_view_module": "@jupyter-widgets/controls",
            "_model_module_version": "1.5.0",
            "_view_count": null,
            "_view_module_version": "1.5.0",
            "box_style": "",
            "layout": "IPY_MODEL_bf98cd7413a845d9b574770195ec59b2",
            "_model_module": "@jupyter-widgets/controls",
            "children": [
              "IPY_MODEL_af852d04d6e14652a329c52a49716224",
              "IPY_MODEL_46eb8d46d8ab4409b2a9d7e73cd2f510"
            ]
          }
        },
        "bf98cd7413a845d9b574770195ec59b2": {
          "model_module": "@jupyter-widgets/base",
          "model_name": "LayoutModel",
          "state": {
            "_view_name": "LayoutView",
            "grid_template_rows": null,
            "right": null,
            "justify_content": null,
            "_view_module": "@jupyter-widgets/base",
            "overflow": null,
            "_model_module_version": "1.2.0",
            "_view_count": null,
            "flex_flow": null,
            "width": null,
            "min_width": null,
            "border": null,
            "align_items": null,
            "bottom": null,
            "_model_module": "@jupyter-widgets/base",
            "top": null,
            "grid_column": null,
            "overflow_y": null,
            "overflow_x": null,
            "grid_auto_flow": null,
            "grid_area": null,
            "grid_template_columns": null,
            "flex": null,
            "_model_name": "LayoutModel",
            "justify_items": null,
            "grid_row": null,
            "max_height": null,
            "align_content": null,
            "visibility": null,
            "align_self": null,
            "height": null,
            "min_height": null,
            "padding": null,
            "grid_auto_rows": null,
            "grid_gap": null,
            "max_width": null,
            "order": null,
            "_view_module_version": "1.2.0",
            "grid_template_areas": null,
            "object_position": null,
            "object_fit": null,
            "grid_auto_columns": null,
            "margin": null,
            "display": null,
            "left": null
          }
        },
        "af852d04d6e14652a329c52a49716224": {
          "model_module": "@jupyter-widgets/controls",
          "model_name": "FloatProgressModel",
          "state": {
            "_view_name": "ProgressView",
            "style": "IPY_MODEL_7f7681f81f2547c282056c6be4f38353",
            "_dom_classes": [],
            "description": "Downloading: 100%",
            "_model_name": "FloatProgressModel",
            "bar_style": "success",
            "max": 231508,
            "_view_module": "@jupyter-widgets/controls",
            "_model_module_version": "1.5.0",
            "value": 231508,
            "_view_count": null,
            "_view_module_version": "1.5.0",
            "orientation": "horizontal",
            "min": 0,
            "description_tooltip": null,
            "_model_module": "@jupyter-widgets/controls",
            "layout": "IPY_MODEL_a7ed24d9e2b34326a184a93914d348cd"
          }
        },
        "46eb8d46d8ab4409b2a9d7e73cd2f510": {
          "model_module": "@jupyter-widgets/controls",
          "model_name": "HTMLModel",
          "state": {
            "_view_name": "HTMLView",
            "style": "IPY_MODEL_1a1364240e0d4e1da81352eb9d7ca4ee",
            "_dom_classes": [],
            "description": "",
            "_model_name": "HTMLModel",
            "placeholder": "​",
            "_view_module": "@jupyter-widgets/controls",
            "_model_module_version": "1.5.0",
            "value": " 232k/232k [00:00&lt;00:00, 2.76MB/s]",
            "_view_count": null,
            "_view_module_version": "1.5.0",
            "description_tooltip": null,
            "_model_module": "@jupyter-widgets/controls",
            "layout": "IPY_MODEL_e4d8a33198cd496abf26803343839b8f"
          }
        },
        "7f7681f81f2547c282056c6be4f38353": {
          "model_module": "@jupyter-widgets/controls",
          "model_name": "ProgressStyleModel",
          "state": {
            "_view_name": "StyleView",
            "_model_name": "ProgressStyleModel",
            "description_width": "initial",
            "_view_module": "@jupyter-widgets/base",
            "_model_module_version": "1.5.0",
            "_view_count": null,
            "_view_module_version": "1.2.0",
            "bar_color": null,
            "_model_module": "@jupyter-widgets/controls"
          }
        },
        "a7ed24d9e2b34326a184a93914d348cd": {
          "model_module": "@jupyter-widgets/base",
          "model_name": "LayoutModel",
          "state": {
            "_view_name": "LayoutView",
            "grid_template_rows": null,
            "right": null,
            "justify_content": null,
            "_view_module": "@jupyter-widgets/base",
            "overflow": null,
            "_model_module_version": "1.2.0",
            "_view_count": null,
            "flex_flow": null,
            "width": null,
            "min_width": null,
            "border": null,
            "align_items": null,
            "bottom": null,
            "_model_module": "@jupyter-widgets/base",
            "top": null,
            "grid_column": null,
            "overflow_y": null,
            "overflow_x": null,
            "grid_auto_flow": null,
            "grid_area": null,
            "grid_template_columns": null,
            "flex": null,
            "_model_name": "LayoutModel",
            "justify_items": null,
            "grid_row": null,
            "max_height": null,
            "align_content": null,
            "visibility": null,
            "align_self": null,
            "height": null,
            "min_height": null,
            "padding": null,
            "grid_auto_rows": null,
            "grid_gap": null,
            "max_width": null,
            "order": null,
            "_view_module_version": "1.2.0",
            "grid_template_areas": null,
            "object_position": null,
            "object_fit": null,
            "grid_auto_columns": null,
            "margin": null,
            "display": null,
            "left": null
          }
        },
        "1a1364240e0d4e1da81352eb9d7ca4ee": {
          "model_module": "@jupyter-widgets/controls",
          "model_name": "DescriptionStyleModel",
          "state": {
            "_view_name": "StyleView",
            "_model_name": "DescriptionStyleModel",
            "description_width": "",
            "_view_module": "@jupyter-widgets/base",
            "_model_module_version": "1.5.0",
            "_view_count": null,
            "_view_module_version": "1.2.0",
            "_model_module": "@jupyter-widgets/controls"
          }
        },
        "e4d8a33198cd496abf26803343839b8f": {
          "model_module": "@jupyter-widgets/base",
          "model_name": "LayoutModel",
          "state": {
            "_view_name": "LayoutView",
            "grid_template_rows": null,
            "right": null,
            "justify_content": null,
            "_view_module": "@jupyter-widgets/base",
            "overflow": null,
            "_model_module_version": "1.2.0",
            "_view_count": null,
            "flex_flow": null,
            "width": null,
            "min_width": null,
            "border": null,
            "align_items": null,
            "bottom": null,
            "_model_module": "@jupyter-widgets/base",
            "top": null,
            "grid_column": null,
            "overflow_y": null,
            "overflow_x": null,
            "grid_auto_flow": null,
            "grid_area": null,
            "grid_template_columns": null,
            "flex": null,
            "_model_name": "LayoutModel",
            "justify_items": null,
            "grid_row": null,
            "max_height": null,
            "align_content": null,
            "visibility": null,
            "align_self": null,
            "height": null,
            "min_height": null,
            "padding": null,
            "grid_auto_rows": null,
            "grid_gap": null,
            "max_width": null,
            "order": null,
            "_view_module_version": "1.2.0",
            "grid_template_areas": null,
            "object_position": null,
            "object_fit": null,
            "grid_auto_columns": null,
            "margin": null,
            "display": null,
            "left": null
          }
        }
      }
    },
    "accelerator": "GPU"
  },
  "cells": [
    {
      "cell_type": "markdown",
      "metadata": {
        "id": "wVNJLrCin2Xn"
      },
      "source": [
        "# 0.Introduction\n",
        "Use BERT to get the average vector of any word from multiple given sentences"
      ]
    },
    {
      "cell_type": "markdown",
      "metadata": {
        "id": "PHONzQMfoKT-"
      },
      "source": [
        "# 1.Settings"
      ]
    },
    {
      "cell_type": "code",
      "metadata": {
        "id": "VtwG0Phrnxwt",
        "outputId": "e98e2f6b-0bf3-4ad5-f317-8146e119a79e",
        "colab": {
          "base_uri": "https://localhost:8080/",
          "height": 642
        }
      },
      "source": [
        "!pip install transformers"
      ],
      "execution_count": 1,
      "outputs": [
        {
          "output_type": "stream",
          "text": [
            "Collecting transformers\n",
            "\u001b[?25l  Downloading https://files.pythonhosted.org/packages/2c/4e/4f1ede0fd7a36278844a277f8d53c21f88f37f3754abf76a5d6224f76d4a/transformers-3.4.0-py3-none-any.whl (1.3MB)\n",
            "\r\u001b[K     |▎                               | 10kB 20.0MB/s eta 0:00:01\r\u001b[K     |▌                               | 20kB 25.4MB/s eta 0:00:01\r\u001b[K     |▉                               | 30kB 14.7MB/s eta 0:00:01\r\u001b[K     |█                               | 40kB 10.0MB/s eta 0:00:01\r\u001b[K     |█▎                              | 51kB 8.7MB/s eta 0:00:01\r\u001b[K     |█▋                              | 61kB 9.1MB/s eta 0:00:01\r\u001b[K     |█▉                              | 71kB 8.6MB/s eta 0:00:01\r\u001b[K     |██                              | 81kB 8.2MB/s eta 0:00:01\r\u001b[K     |██▍                             | 92kB 8.2MB/s eta 0:00:01\r\u001b[K     |██▋                             | 102kB 8.5MB/s eta 0:00:01\r\u001b[K     |██▉                             | 112kB 8.5MB/s eta 0:00:01\r\u001b[K     |███▏                            | 122kB 8.5MB/s eta 0:00:01\r\u001b[K     |███▍                            | 133kB 8.5MB/s eta 0:00:01\r\u001b[K     |███▋                            | 143kB 8.5MB/s eta 0:00:01\r\u001b[K     |████                            | 153kB 8.5MB/s eta 0:00:01\r\u001b[K     |████▏                           | 163kB 8.5MB/s eta 0:00:01\r\u001b[K     |████▍                           | 174kB 8.5MB/s eta 0:00:01\r\u001b[K     |████▊                           | 184kB 8.5MB/s eta 0:00:01\r\u001b[K     |█████                           | 194kB 8.5MB/s eta 0:00:01\r\u001b[K     |█████▏                          | 204kB 8.5MB/s eta 0:00:01\r\u001b[K     |█████▌                          | 215kB 8.5MB/s eta 0:00:01\r\u001b[K     |█████▊                          | 225kB 8.5MB/s eta 0:00:01\r\u001b[K     |██████                          | 235kB 8.5MB/s eta 0:00:01\r\u001b[K     |██████▎                         | 245kB 8.5MB/s eta 0:00:01\r\u001b[K     |██████▌                         | 256kB 8.5MB/s eta 0:00:01\r\u001b[K     |██████▊                         | 266kB 8.5MB/s eta 0:00:01\r\u001b[K     |███████                         | 276kB 8.5MB/s eta 0:00:01\r\u001b[K     |███████▎                        | 286kB 8.5MB/s eta 0:00:01\r\u001b[K     |███████▋                        | 296kB 8.5MB/s eta 0:00:01\r\u001b[K     |███████▉                        | 307kB 8.5MB/s eta 0:00:01\r\u001b[K     |████████                        | 317kB 8.5MB/s eta 0:00:01\r\u001b[K     |████████▍                       | 327kB 8.5MB/s eta 0:00:01\r\u001b[K     |████████▋                       | 337kB 8.5MB/s eta 0:00:01\r\u001b[K     |████████▉                       | 348kB 8.5MB/s eta 0:00:01\r\u001b[K     |█████████▏                      | 358kB 8.5MB/s eta 0:00:01\r\u001b[K     |█████████▍                      | 368kB 8.5MB/s eta 0:00:01\r\u001b[K     |█████████▋                      | 378kB 8.5MB/s eta 0:00:01\r\u001b[K     |██████████                      | 389kB 8.5MB/s eta 0:00:01\r\u001b[K     |██████████▏                     | 399kB 8.5MB/s eta 0:00:01\r\u001b[K     |██████████▍                     | 409kB 8.5MB/s eta 0:00:01\r\u001b[K     |██████████▊                     | 419kB 8.5MB/s eta 0:00:01\r\u001b[K     |███████████                     | 430kB 8.5MB/s eta 0:00:01\r\u001b[K     |███████████▏                    | 440kB 8.5MB/s eta 0:00:01\r\u001b[K     |███████████▌                    | 450kB 8.5MB/s eta 0:00:01\r\u001b[K     |███████████▊                    | 460kB 8.5MB/s eta 0:00:01\r\u001b[K     |████████████                    | 471kB 8.5MB/s eta 0:00:01\r\u001b[K     |████████████▎                   | 481kB 8.5MB/s eta 0:00:01\r\u001b[K     |████████████▌                   | 491kB 8.5MB/s eta 0:00:01\r\u001b[K     |████████████▊                   | 501kB 8.5MB/s eta 0:00:01\r\u001b[K     |█████████████                   | 512kB 8.5MB/s eta 0:00:01\r\u001b[K     |█████████████▎                  | 522kB 8.5MB/s eta 0:00:01\r\u001b[K     |█████████████▌                  | 532kB 8.5MB/s eta 0:00:01\r\u001b[K     |█████████████▉                  | 542kB 8.5MB/s eta 0:00:01\r\u001b[K     |██████████████                  | 552kB 8.5MB/s eta 0:00:01\r\u001b[K     |██████████████▍                 | 563kB 8.5MB/s eta 0:00:01\r\u001b[K     |██████████████▋                 | 573kB 8.5MB/s eta 0:00:01\r\u001b[K     |██████████████▉                 | 583kB 8.5MB/s eta 0:00:01\r\u001b[K     |███████████████▏                | 593kB 8.5MB/s eta 0:00:01\r\u001b[K     |███████████████▍                | 604kB 8.5MB/s eta 0:00:01\r\u001b[K     |███████████████▋                | 614kB 8.5MB/s eta 0:00:01\r\u001b[K     |████████████████                | 624kB 8.5MB/s eta 0:00:01\r\u001b[K     |████████████████▏               | 634kB 8.5MB/s eta 0:00:01\r\u001b[K     |████████████████▍               | 645kB 8.5MB/s eta 0:00:01\r\u001b[K     |████████████████▊               | 655kB 8.5MB/s eta 0:00:01\r\u001b[K     |█████████████████               | 665kB 8.5MB/s eta 0:00:01\r\u001b[K     |█████████████████▏              | 675kB 8.5MB/s eta 0:00:01\r\u001b[K     |█████████████████▌              | 686kB 8.5MB/s eta 0:00:01\r\u001b[K     |█████████████████▊              | 696kB 8.5MB/s eta 0:00:01\r\u001b[K     |██████████████████              | 706kB 8.5MB/s eta 0:00:01\r\u001b[K     |██████████████████▎             | 716kB 8.5MB/s eta 0:00:01\r\u001b[K     |██████████████████▌             | 727kB 8.5MB/s eta 0:00:01\r\u001b[K     |██████████████████▊             | 737kB 8.5MB/s eta 0:00:01\r\u001b[K     |███████████████████             | 747kB 8.5MB/s eta 0:00:01\r\u001b[K     |███████████████████▎            | 757kB 8.5MB/s eta 0:00:01\r\u001b[K     |███████████████████▌            | 768kB 8.5MB/s eta 0:00:01\r\u001b[K     |███████████████████▉            | 778kB 8.5MB/s eta 0:00:01\r\u001b[K     |████████████████████            | 788kB 8.5MB/s eta 0:00:01\r\u001b[K     |████████████████████▎           | 798kB 8.5MB/s eta 0:00:01\r\u001b[K     |████████████████████▋           | 808kB 8.5MB/s eta 0:00:01\r\u001b[K     |████████████████████▉           | 819kB 8.5MB/s eta 0:00:01\r\u001b[K     |█████████████████████           | 829kB 8.5MB/s eta 0:00:01\r\u001b[K     |█████████████████████▍          | 839kB 8.5MB/s eta 0:00:01\r\u001b[K     |█████████████████████▋          | 849kB 8.5MB/s eta 0:00:01\r\u001b[K     |██████████████████████          | 860kB 8.5MB/s eta 0:00:01\r\u001b[K     |██████████████████████▏         | 870kB 8.5MB/s eta 0:00:01\r\u001b[K     |██████████████████████▍         | 880kB 8.5MB/s eta 0:00:01\r\u001b[K     |██████████████████████▊         | 890kB 8.5MB/s eta 0:00:01\r\u001b[K     |███████████████████████         | 901kB 8.5MB/s eta 0:00:01\r\u001b[K     |███████████████████████▏        | 911kB 8.5MB/s eta 0:00:01\r\u001b[K     |███████████████████████▌        | 921kB 8.5MB/s eta 0:00:01\r\u001b[K     |███████████████████████▊        | 931kB 8.5MB/s eta 0:00:01\r\u001b[K     |████████████████████████        | 942kB 8.5MB/s eta 0:00:01\r\u001b[K     |████████████████████████▎       | 952kB 8.5MB/s eta 0:00:01\r\u001b[K     |████████████████████████▌       | 962kB 8.5MB/s eta 0:00:01\r\u001b[K     |████████████████████████▊       | 972kB 8.5MB/s eta 0:00:01\r\u001b[K     |█████████████████████████       | 983kB 8.5MB/s eta 0:00:01\r\u001b[K     |█████████████████████████▎      | 993kB 8.5MB/s eta 0:00:01\r\u001b[K     |█████████████████████████▌      | 1.0MB 8.5MB/s eta 0:00:01\r\u001b[K     |█████████████████████████▉      | 1.0MB 8.5MB/s eta 0:00:01\r\u001b[K     |██████████████████████████      | 1.0MB 8.5MB/s eta 0:00:01\r\u001b[K     |██████████████████████████▎     | 1.0MB 8.5MB/s eta 0:00:01\r\u001b[K     |██████████████████████████▋     | 1.0MB 8.5MB/s eta 0:00:01\r\u001b[K     |██████████████████████████▉     | 1.1MB 8.5MB/s eta 0:00:01\r\u001b[K     |███████████████████████████     | 1.1MB 8.5MB/s eta 0:00:01\r\u001b[K     |███████████████████████████▍    | 1.1MB 8.5MB/s eta 0:00:01\r\u001b[K     |███████████████████████████▋    | 1.1MB 8.5MB/s eta 0:00:01\r\u001b[K     |███████████████████████████▉    | 1.1MB 8.5MB/s eta 0:00:01\r\u001b[K     |████████████████████████████▏   | 1.1MB 8.5MB/s eta 0:00:01\r\u001b[K     |████████████████████████████▍   | 1.1MB 8.5MB/s eta 0:00:01\r\u001b[K     |████████████████████████████▊   | 1.1MB 8.5MB/s eta 0:00:01\r\u001b[K     |█████████████████████████████   | 1.1MB 8.5MB/s eta 0:00:01\r\u001b[K     |█████████████████████████████▏  | 1.1MB 8.5MB/s eta 0:00:01\r\u001b[K     |█████████████████████████████▌  | 1.2MB 8.5MB/s eta 0:00:01\r\u001b[K     |█████████████████████████████▊  | 1.2MB 8.5MB/s eta 0:00:01\r\u001b[K     |██████████████████████████████  | 1.2MB 8.5MB/s eta 0:00:01\r\u001b[K     |██████████████████████████████▎ | 1.2MB 8.5MB/s eta 0:00:01\r\u001b[K     |██████████████████████████████▌ | 1.2MB 8.5MB/s eta 0:00:01\r\u001b[K     |██████████████████████████████▊ | 1.2MB 8.5MB/s eta 0:00:01\r\u001b[K     |███████████████████████████████ | 1.2MB 8.5MB/s eta 0:00:01\r\u001b[K     |███████████████████████████████▎| 1.2MB 8.5MB/s eta 0:00:01\r\u001b[K     |███████████████████████████████▌| 1.2MB 8.5MB/s eta 0:00:01\r\u001b[K     |███████████████████████████████▉| 1.2MB 8.5MB/s eta 0:00:01\r\u001b[K     |████████████████████████████████| 1.3MB 8.5MB/s \n",
            "\u001b[?25hRequirement already satisfied: packaging in /usr/local/lib/python3.6/dist-packages (from transformers) (20.4)\n",
            "Requirement already satisfied: requests in /usr/local/lib/python3.6/dist-packages (from transformers) (2.23.0)\n",
            "Requirement already satisfied: regex!=2019.12.17 in /usr/local/lib/python3.6/dist-packages (from transformers) (2019.12.20)\n",
            "Collecting sentencepiece!=0.1.92\n",
            "\u001b[?25l  Downloading https://files.pythonhosted.org/packages/d4/a4/d0a884c4300004a78cca907a6ff9a5e9fe4f090f5d95ab341c53d28cbc58/sentencepiece-0.1.91-cp36-cp36m-manylinux1_x86_64.whl (1.1MB)\n",
            "\u001b[K     |████████████████████████████████| 1.1MB 47.6MB/s \n",
            "\u001b[?25hRequirement already satisfied: dataclasses; python_version < \"3.7\" in /usr/local/lib/python3.6/dist-packages (from transformers) (0.7)\n",
            "Collecting sacremoses\n",
            "\u001b[?25l  Downloading https://files.pythonhosted.org/packages/7d/34/09d19aff26edcc8eb2a01bed8e98f13a1537005d31e95233fd48216eed10/sacremoses-0.0.43.tar.gz (883kB)\n",
            "\u001b[K     |████████████████████████████████| 890kB 50.4MB/s \n",
            "\u001b[?25hRequirement already satisfied: filelock in /usr/local/lib/python3.6/dist-packages (from transformers) (3.0.12)\n",
            "Collecting tokenizers==0.9.2\n",
            "\u001b[?25l  Downloading https://files.pythonhosted.org/packages/7c/a5/78be1a55b2ac8d6a956f0a211d372726e2b1dd2666bb537fea9b03abd62c/tokenizers-0.9.2-cp36-cp36m-manylinux1_x86_64.whl (2.9MB)\n",
            "\u001b[K     |████████████████████████████████| 2.9MB 43.2MB/s \n",
            "\u001b[?25hRequirement already satisfied: numpy in /usr/local/lib/python3.6/dist-packages (from transformers) (1.18.5)\n",
            "Requirement already satisfied: protobuf in /usr/local/lib/python3.6/dist-packages (from transformers) (3.12.4)\n",
            "Requirement already satisfied: tqdm>=4.27 in /usr/local/lib/python3.6/dist-packages (from transformers) (4.41.1)\n",
            "Requirement already satisfied: pyparsing>=2.0.2 in /usr/local/lib/python3.6/dist-packages (from packaging->transformers) (2.4.7)\n",
            "Requirement already satisfied: six in /usr/local/lib/python3.6/dist-packages (from packaging->transformers) (1.15.0)\n",
            "Requirement already satisfied: urllib3!=1.25.0,!=1.25.1,<1.26,>=1.21.1 in /usr/local/lib/python3.6/dist-packages (from requests->transformers) (1.24.3)\n",
            "Requirement already satisfied: chardet<4,>=3.0.2 in /usr/local/lib/python3.6/dist-packages (from requests->transformers) (3.0.4)\n",
            "Requirement already satisfied: idna<3,>=2.5 in /usr/local/lib/python3.6/dist-packages (from requests->transformers) (2.10)\n",
            "Requirement already satisfied: certifi>=2017.4.17 in /usr/local/lib/python3.6/dist-packages (from requests->transformers) (2020.6.20)\n",
            "Requirement already satisfied: click in /usr/local/lib/python3.6/dist-packages (from sacremoses->transformers) (7.1.2)\n",
            "Requirement already satisfied: joblib in /usr/local/lib/python3.6/dist-packages (from sacremoses->transformers) (0.16.0)\n",
            "Requirement already satisfied: setuptools in /usr/local/lib/python3.6/dist-packages (from protobuf->transformers) (50.3.0)\n",
            "Building wheels for collected packages: sacremoses\n",
            "  Building wheel for sacremoses (setup.py) ... \u001b[?25l\u001b[?25hdone\n",
            "  Created wheel for sacremoses: filename=sacremoses-0.0.43-cp36-none-any.whl size=893257 sha256=fe4bcf4c2b02af135e18ec492d8fae0d986e170189d34be5ff790e1d461e0d74\n",
            "  Stored in directory: /root/.cache/pip/wheels/29/3c/fd/7ce5c3f0666dab31a50123635e6fb5e19ceb42ce38d4e58f45\n",
            "Successfully built sacremoses\n",
            "Installing collected packages: sentencepiece, sacremoses, tokenizers, transformers\n",
            "Successfully installed sacremoses-0.0.43 sentencepiece-0.1.91 tokenizers-0.9.2 transformers-3.4.0\n"
          ],
          "name": "stdout"
        }
      ]
    },
    {
      "cell_type": "code",
      "metadata": {
        "id": "vMrbjwL8oO-r"
      },
      "source": [
        "import torch\n",
        "from transformers import BertModel, BertTokenizer"
      ],
      "execution_count": 2,
      "outputs": []
    },
    {
      "cell_type": "markdown",
      "metadata": {
        "id": "XpUaTZznrs8q"
      },
      "source": [
        "# 2.Load Models"
      ]
    },
    {
      "cell_type": "code",
      "metadata": {
        "id": "TC43a_OAoqB1",
        "outputId": "34aa3650-3bd0-4cd2-b35c-e42444d8b4c8",
        "colab": {
          "base_uri": "https://localhost:8080/",
          "height": 163,
          "referenced_widgets": [
            "613841b9eed8491ab9a37d8b602e5a90",
            "4fa5a95be4c14800967e140a445e4fbd",
            "9e600265414a485ea72b07e70eb9f874",
            "6455b057cbdd48e5b47c56ec154c892d",
            "b846d04404714320bbf63f95f13e1ccb",
            "53336e1019904d288e9b888cd59017ec",
            "ef89cc074d6944caa4655d7ec770de08",
            "58be7ebfb5e64f478c26f0c22d1b4159",
            "658785ee26464cd9a4e6c91df241a940",
            "ea5121d5df464a37b198078cf4cb9603",
            "88f6c6ee031b402297e3d9ac3d0f5763",
            "42af889707c9455a994bf18f140c53d1",
            "d58309b6b1144cd6807749d4520d4ade",
            "47f29d6bee254d648031f5ebb4c03a20",
            "6cdaff5c740442978411b456c16a4dc7",
            "46dc02200ae3499a90e7accaf991511c",
            "da8793cc79c64ea58f53e7beab6cc3ef",
            "bf98cd7413a845d9b574770195ec59b2",
            "af852d04d6e14652a329c52a49716224",
            "46eb8d46d8ab4409b2a9d7e73cd2f510",
            "7f7681f81f2547c282056c6be4f38353",
            "a7ed24d9e2b34326a184a93914d348cd",
            "1a1364240e0d4e1da81352eb9d7ca4ee",
            "e4d8a33198cd496abf26803343839b8f"
          ]
        }
      },
      "source": [
        "model = BertModel.from_pretrained('bert-base-uncased', return_dict=True)\n",
        "tokenizer = BertTokenizer.from_pretrained('bert-base-uncased')"
      ],
      "execution_count": 3,
      "outputs": [
        {
          "output_type": "display_data",
          "data": {
            "application/vnd.jupyter.widget-view+json": {
              "model_id": "613841b9eed8491ab9a37d8b602e5a90",
              "version_minor": 0,
              "version_major": 2
            },
            "text/plain": [
              "HBox(children=(FloatProgress(value=0.0, description='Downloading', max=433.0, style=ProgressStyle(description_…"
            ]
          },
          "metadata": {
            "tags": []
          }
        },
        {
          "output_type": "stream",
          "text": [
            "\n"
          ],
          "name": "stdout"
        },
        {
          "output_type": "display_data",
          "data": {
            "application/vnd.jupyter.widget-view+json": {
              "model_id": "658785ee26464cd9a4e6c91df241a940",
              "version_minor": 0,
              "version_major": 2
            },
            "text/plain": [
              "HBox(children=(FloatProgress(value=0.0, description='Downloading', max=440473133.0, style=ProgressStyle(descri…"
            ]
          },
          "metadata": {
            "tags": []
          }
        },
        {
          "output_type": "stream",
          "text": [
            "\n"
          ],
          "name": "stdout"
        },
        {
          "output_type": "display_data",
          "data": {
            "application/vnd.jupyter.widget-view+json": {
              "model_id": "da8793cc79c64ea58f53e7beab6cc3ef",
              "version_minor": 0,
              "version_major": 2
            },
            "text/plain": [
              "HBox(children=(FloatProgress(value=0.0, description='Downloading', max=231508.0, style=ProgressStyle(descripti…"
            ]
          },
          "metadata": {
            "tags": []
          }
        },
        {
          "output_type": "stream",
          "text": [
            "\n"
          ],
          "name": "stdout"
        }
      ]
    },
    {
      "cell_type": "markdown",
      "metadata": {
        "id": "E4MHVBFerw2V"
      },
      "source": [
        "# 3.Obtain word vectors from each sentence vector"
      ]
    },
    {
      "cell_type": "code",
      "metadata": {
        "id": "C780RX-ZpItX"
      },
      "source": [
        "s1 = \"i eat an apple today .\"\n",
        "s2 = \"you eat an apple today .\""
      ],
      "execution_count": 4,
      "outputs": []
    },
    {
      "cell_type": "code",
      "metadata": {
        "id": "2lZLIG5ArcwV"
      },
      "source": [
        "inputs1 = tokenizer(s1, return_tensors=\"pt\")\n",
        "inputs2 = tokenizer(s2, return_tensors=\"pt\")"
      ],
      "execution_count": 5,
      "outputs": []
    },
    {
      "cell_type": "code",
      "metadata": {
        "id": "gwA1JR-7rn4f",
        "outputId": "615f885d-7e77-4df5-9d25-57af868bf46a",
        "colab": {
          "base_uri": "https://localhost:8080/",
          "height": 54
        }
      },
      "source": [
        "inputs1"
      ],
      "execution_count": 6,
      "outputs": [
        {
          "output_type": "execute_result",
          "data": {
            "text/plain": [
              "{'input_ids': tensor([[ 101, 1045, 4521, 2019, 6207, 2651, 1012,  102]]), 'token_type_ids': tensor([[0, 0, 0, 0, 0, 0, 0, 0]]), 'attention_mask': tensor([[1, 1, 1, 1, 1, 1, 1, 1]])}"
            ]
          },
          "metadata": {
            "tags": []
          },
          "execution_count": 6
        }
      ]
    },
    {
      "cell_type": "code",
      "metadata": {
        "id": "POFNzM9yrpRo",
        "outputId": "dc9fdf50-46f9-452d-c3de-9c39808e82c0",
        "colab": {
          "base_uri": "https://localhost:8080/",
          "height": 54
        }
      },
      "source": [
        "inputs2"
      ],
      "execution_count": 7,
      "outputs": [
        {
          "output_type": "execute_result",
          "data": {
            "text/plain": [
              "{'input_ids': tensor([[ 101, 2017, 4521, 2019, 6207, 2651, 1012,  102]]), 'token_type_ids': tensor([[0, 0, 0, 0, 0, 0, 0, 0]]), 'attention_mask': tensor([[1, 1, 1, 1, 1, 1, 1, 1]])}"
            ]
          },
          "metadata": {
            "tags": []
          },
          "execution_count": 7
        }
      ]
    },
    {
      "cell_type": "code",
      "metadata": {
        "id": "sdRO2JsJrrri"
      },
      "source": [
        "with torch.no_grad():\n",
        "  outputs1 = model(**inputs1)\n",
        "  outputs2 = model(**inputs2)"
      ],
      "execution_count": 8,
      "outputs": []
    },
    {
      "cell_type": "code",
      "metadata": {
        "id": "KyGIPwCatwi7"
      },
      "source": [
        "last_hidden_state1 = outputs1.last_hidden_state[0]\n",
        "last_hidden_state2 = outputs1.last_hidden_state[0]"
      ],
      "execution_count": 9,
      "outputs": []
    },
    {
      "cell_type": "code",
      "metadata": {
        "id": "j_Dc2TMOuNB3",
        "outputId": "09275945-bf62-45ba-e223-1b614ad46ec8",
        "colab": {
          "base_uri": "https://localhost:8080/",
          "height": 134
        }
      },
      "source": [
        "last_hidden_state1"
      ],
      "execution_count": 10,
      "outputs": [
        {
          "output_type": "execute_result",
          "data": {
            "text/plain": [
              "tensor([[ 0.0465,  0.1496, -0.3968,  ...,  0.0412,  0.5392,  0.5326],\n",
              "        [ 0.2066,  0.0756, -0.3788,  ..., -0.0933,  1.1465,  0.3369],\n",
              "        [-0.0625,  0.7618,  0.1640,  ...,  0.3169,  0.8769,  0.1139],\n",
              "        ...,\n",
              "        [-0.4008, -0.0939, -0.3059,  ..., -0.2158,  0.2630, -0.7132],\n",
              "        [ 0.3049, -0.0819, -0.3699,  ...,  0.3447,  0.2585, -0.5883],\n",
              "        [ 0.7464,  0.2905, -0.1306,  ...,  0.3689, -0.2140, -0.4930]])"
            ]
          },
          "metadata": {
            "tags": []
          },
          "execution_count": 10
        }
      ]
    },
    {
      "cell_type": "code",
      "metadata": {
        "id": "SYN653z4ubcU"
      },
      "source": [
        "apple1 = last_hidden_state1[4]\n",
        "apple2 = last_hidden_state2[4]"
      ],
      "execution_count": 11,
      "outputs": []
    },
    {
      "cell_type": "code",
      "metadata": {
        "id": "p3unP2ZcxDNd"
      },
      "source": [
        "cos = torch.nn.CosineSimilarity(dim=0)"
      ],
      "execution_count": 12,
      "outputs": []
    },
    {
      "cell_type": "code",
      "metadata": {
        "id": "uwzhbt5oxdYy",
        "outputId": "5d1db6e7-c85c-4450-9ce3-9940006aa5ef",
        "colab": {
          "base_uri": "https://localhost:8080/",
          "height": 34
        }
      },
      "source": [
        "cos(apple1, apple2)"
      ],
      "execution_count": 13,
      "outputs": [
        {
          "output_type": "execute_result",
          "data": {
            "text/plain": [
              "tensor(1.)"
            ]
          },
          "metadata": {
            "tags": []
          },
          "execution_count": 13
        }
      ]
    },
    {
      "cell_type": "code",
      "metadata": {
        "id": "hmT49SCux7Cr",
        "outputId": "56462aab-463f-49de-d3e8-0f35a1a64674",
        "colab": {
          "base_uri": "https://localhost:8080/",
          "height": 34
        }
      },
      "source": [
        "torch.dot(apple1, apple2)/(torch.norm(apple1)*torch.norm(apple2) + 1e-8)"
      ],
      "execution_count": 14,
      "outputs": [
        {
          "output_type": "execute_result",
          "data": {
            "text/plain": [
              "tensor(1.0000)"
            ]
          },
          "metadata": {
            "tags": []
          },
          "execution_count": 14
        }
      ]
    },
    {
      "cell_type": "markdown",
      "metadata": {
        "id": "uv1ZmnUusbkg"
      },
      "source": [
        "## 3.1 What is '**'?"
      ]
    },
    {
      "cell_type": "code",
      "metadata": {
        "id": "DCkIdeD1sKci"
      },
      "source": [
        "def print_kwargs(**kwargs):\n",
        "    print(\"Keyword arguments:\", kwargs)"
      ],
      "execution_count": 15,
      "outputs": []
    },
    {
      "cell_type": "code",
      "metadata": {
        "id": "jKkYpXsKslNP",
        "outputId": "f8b165d2-c020-4f32-c854-647736931c27",
        "colab": {
          "base_uri": "https://localhost:8080/",
          "height": 50
        }
      },
      "source": [
        "print_kwargs()\n",
        "\n",
        "print_kwargs(num=1, text=\"aaa\")"
      ],
      "execution_count": 16,
      "outputs": [
        {
          "output_type": "stream",
          "text": [
            "Keyword arguments: {}\n",
            "Keyword arguments: {'num': 1, 'text': 'aaa'}\n"
          ],
          "name": "stdout"
        }
      ]
    },
    {
      "cell_type": "code",
      "metadata": {
        "id": "mciclVJasnk3",
        "outputId": "402c877f-d6ad-42e9-b0c0-9ba6453db161",
        "colab": {
          "base_uri": "https://localhost:8080/",
          "height": 54
        }
      },
      "source": [
        "print_kwargs(**inputs1)"
      ],
      "execution_count": 17,
      "outputs": [
        {
          "output_type": "stream",
          "text": [
            "Keyword arguments: {'input_ids': tensor([[ 101, 1045, 4521, 2019, 6207, 2651, 1012,  102]]), 'token_type_ids': tensor([[0, 0, 0, 0, 0, 0, 0, 0]]), 'attention_mask': tensor([[1, 1, 1, 1, 1, 1, 1, 1]])}\n"
          ],
          "name": "stdout"
        }
      ]
    },
    {
      "cell_type": "markdown",
      "metadata": {
        "id": "hG5JP_5xdxb5"
      },
      "source": [
        "# 4.Main: single sentence\n",
        "Create average target word vectors from a corpus.  \n",
        "target words: 'apple', 'you'\n",
        "1. convert word->id by tokenizer\n",
        "1. get the ***word_id*** contained in ***target_words*** and the ***position*** in the sentence in the word_id\n",
        "1. obtain sentence vectors by BERT\n",
        "1. store the target word vectors"
      ]
    },
    {
      "cell_type": "code",
      "metadata": {
        "id": "Jwqsblifswhi"
      },
      "source": [
        "corpus = [\"i eat an apple today .\",\n",
        "                \"you eat an apple today .\",\n",
        "                \"i drink an apple juice .\",\n",
        "                \"you like an apple .\",\n",
        "                \"an apple tree is heavy with fruit .\",\n",
        "                \"this apple is sweet .\",\n",
        "                \"you make a sweet apple pie .\",\n",
        "                \"apple trees fructify .\",\n",
        "                \"i buy an apple computer at an apple store .\",\n",
        "                \"you buy an apple computer today .\"]"
      ],
      "execution_count": 18,
      "outputs": []
    },
    {
      "cell_type": "code",
      "metadata": {
        "id": "fCYfGfGQ4obh"
      },
      "source": [
        "target_words = [\"apple\", \"you\"]"
      ],
      "execution_count": 19,
      "outputs": []
    },
    {
      "cell_type": "markdown",
      "metadata": {
        "id": "boUvAoiEOoZz"
      },
      "source": [
        "## 4.1 Prepare word2id and id2word dictionaries from BERT vocaburary"
      ]
    },
    {
      "cell_type": "code",
      "metadata": {
        "id": "i_QbBZ4e_tcQ",
        "outputId": "476e87c3-8818-4b28-8a4a-90b85ea0c492",
        "colab": {
          "base_uri": "https://localhost:8080/",
          "height": 222
        }
      },
      "source": [
        " !wget https://raw.githubusercontent.com/microsoft/SDNet/master/bert_vocab_files/bert-base-uncased-vocab.txt"
      ],
      "execution_count": 20,
      "outputs": [
        {
          "output_type": "stream",
          "text": [
            "--2020-10-22 16:39:09--  https://raw.githubusercontent.com/microsoft/SDNet/master/bert_vocab_files/bert-base-uncased-vocab.txt\n",
            "Resolving raw.githubusercontent.com (raw.githubusercontent.com)... 151.101.0.133, 151.101.64.133, 151.101.128.133, ...\n",
            "Connecting to raw.githubusercontent.com (raw.githubusercontent.com)|151.101.0.133|:443... connected.\n",
            "HTTP request sent, awaiting response... 200 OK\n",
            "Length: 231508 (226K) [text/plain]\n",
            "Saving to: ‘bert-base-uncased-vocab.txt’\n",
            "\n",
            "\r          bert-base   0%[                    ]       0  --.-KB/s               \rbert-base-uncased-v 100%[===================>] 226.08K  --.-KB/s    in 0.007s  \n",
            "\n",
            "2020-10-22 16:39:09 (30.1 MB/s) - ‘bert-base-uncased-vocab.txt’ saved [231508/231508]\n",
            "\n"
          ],
          "name": "stdout"
        }
      ]
    },
    {
      "cell_type": "code",
      "metadata": {
        "id": "tCQVSFS3Oxe8"
      },
      "source": [
        "word2id = {}\n",
        "id2word = {}"
      ],
      "execution_count": 21,
      "outputs": []
    },
    {
      "cell_type": "code",
      "metadata": {
        "id": "ZrRlqHu0O0Sl"
      },
      "source": [
        "id = 0\n",
        "with open('bert-base-uncased-vocab.txt') as fp:\n",
        "  for line in fp:\n",
        "    word = line.strip()\n",
        "    word2id[word] = id\n",
        "    id2word[id] = word\n",
        "    id += 1"
      ],
      "execution_count": 22,
      "outputs": []
    },
    {
      "cell_type": "code",
      "metadata": {
        "id": "HVp1Fwe9PT90",
        "outputId": "0656f26b-be42-4211-fe60-c7d990ef1651",
        "colab": {
          "base_uri": "https://localhost:8080/",
          "height": 34
        }
      },
      "source": [
        "word2id['apple']"
      ],
      "execution_count": 23,
      "outputs": [
        {
          "output_type": "execute_result",
          "data": {
            "text/plain": [
              "6207"
            ]
          },
          "metadata": {
            "tags": []
          },
          "execution_count": 23
        }
      ]
    },
    {
      "cell_type": "code",
      "metadata": {
        "id": "xsBUMlRiPYm_",
        "outputId": "846212f4-91fd-48fb-bff5-bc67bcfbbe8f",
        "colab": {
          "base_uri": "https://localhost:8080/",
          "height": 34
        }
      },
      "source": [
        "word2id['you']"
      ],
      "execution_count": 24,
      "outputs": [
        {
          "output_type": "execute_result",
          "data": {
            "text/plain": [
              "2017"
            ]
          },
          "metadata": {
            "tags": []
          },
          "execution_count": 24
        }
      ]
    },
    {
      "cell_type": "markdown",
      "metadata": {
        "id": "hUWiqrFUjcDO"
      },
      "source": [
        "## 4.3 Store the target word vectors"
      ]
    },
    {
      "cell_type": "code",
      "metadata": {
        "id": "A3AGqAQQWAii"
      },
      "source": [
        "target_ids = [word2id[word] for word in target_words if word in word2id]"
      ],
      "execution_count": 25,
      "outputs": []
    },
    {
      "cell_type": "code",
      "metadata": {
        "id": "SDZnZ3RRkJ72",
        "outputId": "a8212d75-24c4-449f-84da-30802f1133e4",
        "colab": {
          "base_uri": "https://localhost:8080/",
          "height": 34
        }
      },
      "source": [
        "print(f'{len(target_ids)} / {len(target_words)}')"
      ],
      "execution_count": 26,
      "outputs": [
        {
          "output_type": "stream",
          "text": [
            "2 / 2\n"
          ],
          "name": "stdout"
        }
      ]
    },
    {
      "cell_type": "code",
      "metadata": {
        "id": "tjgthARVXARt"
      },
      "source": [
        "target_vecs = torch.zeros([len(target_ids), 768])"
      ],
      "execution_count": 34,
      "outputs": []
    },
    {
      "cell_type": "code",
      "metadata": {
        "id": "GnJoecC6MY2a"
      },
      "source": [
        "targetid_freq = [0]*len(target_ids)"
      ],
      "execution_count": 29,
      "outputs": []
    },
    {
      "cell_type": "code",
      "metadata": {
        "id": "H4mn1nJkYz7U"
      },
      "source": [
        "with torch.no_grad():\n",
        "  for sentence in corpus:\n",
        "    sentence_tokenized = tokenizer(sentence, return_tensors=\"pt\")\n",
        "    last_hidden_states = model(**sentence_tokenized).last_hidden_state[0]\n",
        "    for i, input_id in enumerate(sentence_tokenized['input_ids'][0]):\n",
        "      target_id = int(input_id)\n",
        "      if target_id in target_ids:\n",
        "        target_vecs[target_ids.index(target_id)] += last_hidden_states[i]\n",
        "        targetid_freq[target_ids.index(target_id)] += 1"
      ],
      "execution_count": 35,
      "outputs": []
    },
    {
      "cell_type": "code",
      "metadata": {
        "id": "Ul2TeO5yNBYb",
        "outputId": "0485d01c-9c16-471e-ecce-4e588ec81fe8",
        "colab": {
          "base_uri": "https://localhost:8080/",
          "height": 1000
        }
      },
      "source": [
        "for target_id in target_ids:\n",
        "  print(f'word: {id2word[target_id]}')\n",
        "  print(f'vec: {target_vecs[target_ids.index(target_id)]}')"
      ],
      "execution_count": 37,
      "outputs": [
        {
          "output_type": "stream",
          "text": [
            "word: apple\n",
            "vec: tensor([ 1.8931e+00,  5.8149e+00, -1.5698e+00, -3.0820e+00,  1.4313e+01,\n",
            "         9.1385e+00, -3.2755e+00,  1.0480e+01, -4.8699e-01, -3.0038e+00,\n",
            "        -2.6320e+00, -5.9830e-01, -2.1299e+00,  7.7760e-02, -3.0052e-02,\n",
            "         3.0557e+00,  5.8750e+00,  9.7794e+00, -4.1202e+00,  3.2106e+00,\n",
            "         3.1494e+00, -5.1906e+00, -1.2630e-01,  2.7443e+00,  1.0151e+01,\n",
            "        -6.2851e+00, -4.6552e+00, -1.6419e+00, -1.5092e+00, -7.9071e+00,\n",
            "        -4.2983e+00,  1.0407e+01,  1.1130e+01, -1.8547e+00, -7.3365e+00,\n",
            "        -4.8821e+00, -7.3216e+00,  9.8755e-01, -8.9279e+00,  2.5594e+00,\n",
            "        -3.9658e+00, -4.6125e+00,  5.0215e+00, -1.8313e+00,  3.0903e+00,\n",
            "        -5.3100e+00, -8.5286e+00, -3.5770e+00,  8.6085e-01,  1.3234e+00,\n",
            "        -3.7144e+00,  6.0103e+00, -3.0013e+00, -4.1651e+00,  3.6610e+00,\n",
            "         1.0166e+01, -6.3988e-01, -1.0324e+01,  5.3186e+00,  2.3172e+00,\n",
            "        -2.1985e+00, -3.9365e+00,  2.6749e+00, -4.2643e+00, -5.3746e+00,\n",
            "         3.9527e+00,  3.4801e+00,  6.2024e+00, -1.1592e+01,  2.6668e+00,\n",
            "         8.3067e-01, -9.6653e+00, -9.1833e+00, -4.0932e+00, -1.5949e+00,\n",
            "        -3.6272e+00,  2.5412e+00,  1.7801e+00, -1.7276e+00,  3.2453e-01,\n",
            "        -4.6531e+00,  7.7999e+00,  3.9188e+00,  1.1425e+01, -5.0738e+00,\n",
            "         3.6846e+00, -9.6148e+00,  2.7153e+00, -8.7630e+00, -1.4141e-01,\n",
            "        -2.5131e+00,  1.8993e+00,  3.1472e+00,  6.5998e+00, -1.2393e+00,\n",
            "        -2.1956e+00, -1.3940e+00, -3.8532e+00, -4.2631e+00,  6.2625e+00,\n",
            "         4.3559e+00, -3.0007e-02,  5.4164e+00,  6.6191e+00, -6.9712e+00,\n",
            "         1.1380e+00, -1.0769e+00,  3.8579e+00,  4.6427e+00, -6.2053e-01,\n",
            "        -6.3478e+00, -1.1926e+00,  1.8477e+00, -5.6645e-02, -9.3347e+00,\n",
            "         1.3172e+00,  2.5820e+00,  3.6132e+00, -2.1724e+00, -3.8293e+00,\n",
            "        -4.0541e+00,  1.0786e+00,  2.6055e+00,  8.1456e+00,  5.5321e-01,\n",
            "        -9.0561e+00, -2.7981e-01,  4.1287e+00, -1.3664e+00, -4.1924e-01,\n",
            "        -3.9959e+00,  1.8838e+00, -1.5449e+00, -1.7375e+00,  1.0703e-01,\n",
            "         6.4889e+00, -1.6174e+00,  9.8316e-01, -1.3235e+00,  1.4224e+00,\n",
            "        -1.9628e+00,  4.1920e+00, -1.2514e+00,  4.6747e+00,  5.2580e+00,\n",
            "         1.1268e-01, -3.4841e+00,  4.4719e+00,  2.9946e+00, -1.1299e+00,\n",
            "         5.0389e+00, -9.3737e-01, -4.8462e+00, -5.9788e+00, -1.0200e-01,\n",
            "         4.2291e+00, -6.2910e+00, -2.1905e-02,  1.7402e+00, -3.3246e-01,\n",
            "        -8.5659e-01, -3.0539e+00, -5.8787e-01,  7.2104e-01, -2.7203e+00,\n",
            "         1.9973e+00,  8.7343e-02,  3.3005e+00, -6.6771e-01, -1.1494e+00,\n",
            "         1.9572e+00,  7.2615e-01,  1.2665e+01, -3.9901e+00, -5.7894e+00,\n",
            "         4.7916e+00,  4.7891e+00,  2.4785e+00,  5.1183e+00,  7.3574e+00,\n",
            "        -5.0674e+00,  1.8754e+00,  1.0801e+01,  9.8311e+00, -7.1386e+00,\n",
            "        -4.9943e+00,  1.4434e+00, -1.4196e+00,  3.1475e+00,  4.4921e+00,\n",
            "        -5.7748e+00, -8.8394e+00,  1.9140e+00,  1.1103e-01, -1.4790e+00,\n",
            "        -5.3429e+00, -1.5584e+01, -4.2298e+00, -5.0259e+00,  3.4828e-01,\n",
            "         1.0889e+00, -1.7871e+00, -1.1250e+00, -5.1948e+00, -5.7450e+00,\n",
            "         2.1871e+00,  1.6514e+00, -1.4200e+00, -6.9171e+00,  5.8916e+00,\n",
            "        -6.0450e+00,  3.7997e+00,  2.4458e+00, -2.7993e+00,  2.6714e+00,\n",
            "         5.4066e+00,  3.0545e-01, -8.4797e+00, -1.4577e+00, -1.1162e+00,\n",
            "         3.7377e+00, -1.4380e+00, -4.7918e+00,  4.9355e+00, -5.9757e+00,\n",
            "         9.0080e+00,  5.8151e+00,  1.9873e+00,  5.3470e+00, -6.2279e+00,\n",
            "        -3.1284e-01,  3.3092e+00,  4.2102e+00,  5.5964e+00, -5.1379e+00,\n",
            "         3.5657e-01, -4.2824e+00, -3.3496e+00,  3.4701e+00,  3.5146e+00,\n",
            "        -6.7831e+00,  1.6341e+00,  4.3495e+00, -1.0185e+00,  3.1133e+00,\n",
            "        -2.7631e+00, -2.5584e+00, -5.3701e+00,  2.2020e-01, -7.2101e+00,\n",
            "        -8.8337e+00, -2.1089e+00,  3.6531e+00, -3.7728e+00,  4.5899e+00,\n",
            "        -8.4767e+00,  2.5274e-01,  1.2080e+01,  3.0898e+00,  5.7350e+00,\n",
            "         3.0566e+00,  4.1809e-01,  1.7849e+00,  6.9892e+00, -3.2187e+00,\n",
            "        -8.7189e+00,  3.4798e-01, -3.8044e+00,  4.3620e+00, -1.4708e+00,\n",
            "         2.9043e+00,  2.9967e+00, -2.5536e+00,  1.6990e+00, -4.7253e+00,\n",
            "        -9.1471e+00, -1.7765e+00,  2.2891e+00, -2.6556e+00, -9.1365e+00,\n",
            "         7.9473e+00,  1.1791e+01, -3.2083e+00,  3.2462e+00,  2.5621e+00,\n",
            "        -7.2362e+00,  4.2133e+00, -2.5508e+00, -2.6187e+00,  4.7347e-01,\n",
            "        -2.3382e+00,  5.1239e+00, -3.5027e+00, -1.1348e+01,  1.6602e+01,\n",
            "         3.2292e+00,  1.1081e+00, -9.5593e-01,  4.6151e-01, -8.3108e+00,\n",
            "         7.7864e+00,  3.0751e+00,  4.3906e+00, -5.3250e+00, -8.6844e+00,\n",
            "         1.2192e+01,  4.9067e+00, -2.6176e+00, -3.7623e+01, -1.2841e+00,\n",
            "         1.9842e-01, -3.3512e+00, -1.8579e+00, -5.1448e-01, -7.0042e+00,\n",
            "        -4.8531e+00, -9.9761e-01, -1.8864e+00,  1.4569e-02, -5.3150e+00,\n",
            "         9.6520e+00,  6.3953e+00,  3.7807e+00, -5.3083e-01,  2.1648e+00,\n",
            "        -4.8597e+00,  3.3651e-01,  1.1454e+01, -3.5011e+00, -7.6508e+00,\n",
            "        -2.1212e+00,  2.8377e+00, -4.4692e-01, -6.4479e-01,  8.8312e+00,\n",
            "        -1.4604e+00, -8.4899e-01,  3.5456e+00, -4.0964e+00,  7.1553e-01,\n",
            "         3.0373e+00,  1.3803e-01, -2.5979e-01, -4.4768e+00, -2.5442e+00,\n",
            "        -1.4075e+00,  3.3417e+00, -6.7940e-01,  4.6670e+00, -7.2929e+00,\n",
            "        -1.3606e-01,  3.3977e+00,  2.8043e+00, -1.8949e+00, -5.0413e+00,\n",
            "        -6.0555e+00,  2.0585e+00,  1.5926e+00,  2.1489e+00,  5.4440e+00,\n",
            "        -2.9086e+00, -1.5877e+00,  5.5107e+00,  5.3280e-01,  5.4131e+00,\n",
            "         1.1789e+01,  3.1553e+00, -6.8523e+00,  6.5627e+00, -1.9273e-01,\n",
            "        -2.7904e+00, -3.2015e+00,  8.2573e+00, -5.8319e+00, -1.4892e+01,\n",
            "         2.2879e+00,  4.6402e+00,  2.1388e+00, -3.5325e+00, -6.7621e+00,\n",
            "        -3.3927e+00, -1.3820e+01, -3.6542e+00, -1.4018e+00,  2.7066e+00,\n",
            "         1.1555e+00, -7.2416e+00, -7.5262e-01, -8.2426e+00, -1.6374e+00,\n",
            "         7.8736e+00,  3.0308e+00, -4.4751e-01, -5.7716e+00, -1.3365e+00,\n",
            "         4.4021e+00, -1.5306e+00,  4.4277e+00,  1.3195e+00, -2.2486e+00,\n",
            "         5.0726e+00,  3.8664e+00,  2.9702e+00,  2.1322e-01,  5.8805e-01,\n",
            "         1.8306e+00,  5.1544e+00, -5.8370e+00, -6.8478e+00,  5.2286e+00,\n",
            "         5.4196e+00, -3.4015e+00, -3.8288e+00,  6.7578e+00, -5.4983e+00,\n",
            "        -3.0494e+00,  4.7266e+00, -2.8447e-01,  1.4756e+00, -7.3429e+00,\n",
            "         8.5792e+00, -9.4015e+00, -7.6502e+00, -2.7190e+00,  4.9985e+00,\n",
            "         7.4202e+00,  8.9255e-01, -7.1140e+00, -1.2396e+01,  6.4291e+00,\n",
            "         4.3913e+00, -5.0560e-01, -6.2852e+00,  2.2276e+00,  1.5436e+00,\n",
            "         7.0415e+00, -2.4498e+00,  1.7442e+00, -4.8715e+00, -1.5568e+00,\n",
            "        -8.1503e-01,  8.6960e+00,  6.5605e-01,  5.9112e+00, -6.6655e+00,\n",
            "        -5.6223e+00, -2.2215e+00,  2.4513e+00,  6.1750e+00,  8.2868e-01,\n",
            "         1.5204e+00,  5.6151e+00,  6.8769e+00,  1.2561e+00,  1.3060e+00,\n",
            "        -5.8949e+00, -2.8053e+00, -2.2866e+00, -1.7879e+00,  2.4982e+00,\n",
            "         2.3236e-01, -2.9978e-02, -9.2665e-01, -2.3815e+00,  8.5813e-01,\n",
            "        -3.7681e+00, -6.6288e+00, -3.6231e+00,  8.1912e+00,  5.0012e+00,\n",
            "         6.3136e+00, -3.5228e+00, -7.1301e-01,  4.2940e+00,  2.2051e+00,\n",
            "        -1.3068e+00,  5.5996e-01,  4.1570e+00,  6.3487e-01, -4.7365e+00,\n",
            "        -4.0530e+00,  2.3252e+00, -6.5199e-01,  4.0144e+00,  4.3561e+00,\n",
            "        -1.2182e+01, -6.7925e+00,  4.9023e+00,  3.9332e+00, -4.3321e+00,\n",
            "        -1.7772e+00, -2.3336e+00,  4.0895e+00, -1.1421e+01, -1.0203e+00,\n",
            "        -4.5086e+00, -4.2528e-01, -7.3905e+00, -7.4973e+00,  3.6115e+00,\n",
            "         5.1796e+00, -4.6629e+00, -5.0466e+00, -3.1362e+00,  7.9549e-01,\n",
            "        -4.5991e+00,  5.2659e+00, -2.6455e+00, -6.5470e-01, -5.0539e+00,\n",
            "        -1.1096e+00,  2.9658e+00, -4.3495e+00,  4.5118e+00,  3.8234e+00,\n",
            "         5.7241e+00,  1.7860e+00,  5.9968e+00, -2.2913e-01, -1.1881e+01,\n",
            "         3.3364e+00, -4.7028e-01,  7.8851e+00,  8.5289e+00, -2.5705e+00,\n",
            "         2.8006e+00, -3.1241e+00,  4.6033e+00, -1.9587e+00,  1.6814e+00,\n",
            "         2.4486e-01, -2.0286e+00, -2.0131e+00,  5.4770e+00,  9.5950e-01,\n",
            "         3.5776e+00,  1.8893e+00,  1.8003e+00,  3.5531e+00, -8.9538e+00,\n",
            "        -3.6645e+00,  3.0267e+00,  2.7351e+00, -3.2646e+00, -1.2421e+01,\n",
            "        -9.3743e+00,  1.8579e+00,  6.8270e-01, -5.3341e+00, -3.7566e-01,\n",
            "        -8.8363e+00,  2.9966e+00, -1.1580e+00,  4.7786e+00, -5.1860e+00,\n",
            "         2.4616e+00, -4.5397e+00,  2.7590e+00, -5.3178e+00,  8.2020e+00,\n",
            "         5.2378e+00, -9.0988e+00, -1.6113e+00,  2.6438e-01, -1.7896e+00,\n",
            "         8.0918e+00, -5.3845e+00, -5.0567e+00, -2.2217e+00, -7.9583e+00,\n",
            "         9.9234e-01,  8.8913e+00, -2.5901e+00, -1.6715e+00,  3.0909e+00,\n",
            "         2.2699e+00,  3.4751e+00, -2.9318e+00,  3.4545e+00, -7.8036e+00,\n",
            "         1.9834e+00,  8.8566e-01, -4.3781e+00, -3.7160e+00, -3.3720e+00,\n",
            "        -7.5523e+00,  7.9616e+00, -3.9429e+00, -8.6761e-01,  5.9993e+00,\n",
            "        -1.1907e+01, -4.2856e+00,  1.0731e-02, -4.2697e+00, -3.0744e+00,\n",
            "         7.5175e+00,  1.3170e-01,  5.6487e+00,  2.4487e+00,  4.1399e+00,\n",
            "         5.8680e-01,  6.7302e+00, -8.1735e+00,  6.9020e+00,  3.2734e+00,\n",
            "         3.2860e+00, -8.3066e+00,  7.5029e-01, -5.1499e+00,  4.4396e+00,\n",
            "         5.7580e+00,  5.7718e+00, -6.7059e+00,  8.9241e+00, -3.5825e+00,\n",
            "        -8.6871e+00, -9.1295e+00,  4.1290e+00, -3.8547e+00, -2.7724e+00,\n",
            "         5.8347e+00,  2.8843e+00, -4.8477e+00, -7.8239e-01, -3.6329e+00,\n",
            "        -1.7162e+00, -9.1600e-01,  1.5996e+00, -1.6844e+00,  2.4872e+00,\n",
            "         1.6960e-01,  1.6010e-01,  3.2360e+00,  4.8798e+00,  5.6986e+00,\n",
            "        -3.6503e+00, -2.3084e+00,  2.5888e+00, -4.8906e+00,  6.2093e+00,\n",
            "        -4.0450e+00,  8.4460e+00, -3.4418e-02, -7.9776e-01, -5.4588e+00,\n",
            "        -1.4891e+00,  1.2905e+00, -2.4132e-01,  4.9339e+00,  6.9431e-01,\n",
            "        -9.0745e-01,  6.8595e+00,  5.0928e+00, -2.6400e+00, -7.4966e-01,\n",
            "         2.0992e+00,  2.4926e+00,  1.7467e+00,  4.8262e+00,  5.3218e+00,\n",
            "         4.6268e+00, -6.4240e+00, -3.6545e+00,  2.5957e-01, -1.0375e+00,\n",
            "         1.4701e+00,  5.2770e+00,  5.5319e+00,  1.8332e+00,  3.7953e+00,\n",
            "         2.4682e+00, -5.4096e+00,  1.2102e+00,  3.7127e+00, -5.4441e-01,\n",
            "         1.7087e+00, -3.3184e+00, -3.6136e-01,  1.1861e+00, -5.0010e+00,\n",
            "         1.4570e+00,  1.2889e+00, -2.6104e-01,  6.4286e+00, -1.8884e+00,\n",
            "         2.2381e+00,  3.7959e+00,  1.3505e+00, -1.1672e+00,  3.3245e+00,\n",
            "        -5.0490e+00,  2.7802e+00, -9.1185e+00,  2.7096e+00, -3.0861e+00,\n",
            "        -3.9773e+00,  8.5988e-01, -5.5000e+00, -6.6066e+00,  5.1031e-01,\n",
            "         6.8755e+00,  3.2951e+00,  6.4527e-01, -6.8875e+00,  3.0308e+00,\n",
            "         2.9831e+00,  1.8491e+00,  2.3785e+00,  6.3794e+00, -3.8501e+00,\n",
            "        -3.2518e+00,  2.0134e+00, -3.1742e-01,  5.3095e+00,  7.2229e+00,\n",
            "        -5.4537e+00, -4.5224e+00, -4.4316e+00,  6.7972e+00,  4.6357e+00,\n",
            "        -2.9412e+00, -5.6927e+00, -8.9178e-01,  2.2418e+00,  5.0735e+00,\n",
            "        -2.8209e+00,  4.3520e-01, -2.5037e+00,  8.0481e-01, -1.6370e+00,\n",
            "         1.6887e+00,  3.2304e+00,  3.7210e+00, -1.0973e+00,  1.3980e+00,\n",
            "         2.1189e+00,  1.4094e+00, -2.5383e+00, -7.7841e+00,  2.0691e+00,\n",
            "         1.0565e+00, -5.8362e+00,  9.5569e-01,  9.5038e-01, -2.8370e+00,\n",
            "         1.5061e+00, -7.5791e+00, -3.7423e+00,  6.1214e+00,  7.2495e+00,\n",
            "         2.3726e+00, -6.2084e+00, -8.3349e+00, -5.3358e+00,  5.5620e+00,\n",
            "        -7.7229e-01, -1.6385e+00, -1.6631e+00, -8.6300e+00, -4.7444e+00,\n",
            "         8.7676e-01,  1.1325e+00,  2.5329e+00,  4.7353e+00,  1.3147e+00,\n",
            "         1.1096e+00, -3.5340e+00, -8.8223e+00])\n",
            "word: you\n",
            "vec: tensor([ 4.2176e-01, -7.0368e-01, -6.7166e-01, -5.5090e-01, -7.6748e-01,\n",
            "         1.5603e+00, -1.2211e+00,  2.3606e+00,  2.0097e-01, -3.8568e-01,\n",
            "        -8.9355e-01,  2.4216e-01, -2.0347e-01,  1.4541e-01, -1.8242e+00,\n",
            "         3.9557e-01,  6.5965e-01,  1.1862e+00,  2.9644e-01,  4.1193e+00,\n",
            "        -1.8919e+00,  1.6322e+00, -8.6777e-01,  2.0734e+00, -1.1982e+00,\n",
            "        -6.4480e-01,  1.6032e-01, -9.6246e-01,  2.5450e+00, -1.6354e-01,\n",
            "        -1.7094e+00, -9.9267e-01, -9.4479e-01, -1.2871e+00,  6.5367e-01,\n",
            "         1.4689e+00,  5.3216e-01,  2.2420e+00, -8.1926e-01,  2.5826e-01,\n",
            "         9.6378e-02,  1.1768e-01,  1.2227e-01,  2.8971e-01, -6.7810e-01,\n",
            "        -2.4498e+00,  2.2788e+00, -1.0601e+00,  4.5731e-01, -2.6371e+00,\n",
            "        -1.8577e+00,  2.6129e-01, -2.2866e+00,  1.6805e+00, -3.3718e-01,\n",
            "         1.9653e+00,  9.5140e-02,  1.7418e+00, -2.4689e+00,  1.2041e+00,\n",
            "        -3.5975e+00,  1.8054e+00,  2.8016e+00, -1.6436e+00, -1.5134e+00,\n",
            "         2.4830e+00, -5.7807e-01,  2.4230e+00, -1.8647e+00, -1.6958e+00,\n",
            "         5.4604e-01, -1.0641e+00, -1.4198e+00, -2.4872e+00,  2.2382e+00,\n",
            "        -7.8499e-02, -7.3678e-01, -4.1522e-01, -1.0705e+00,  9.1027e-01,\n",
            "         4.0984e-01, -1.9284e-01, -1.0177e+00,  6.8590e-01, -1.4771e+00,\n",
            "        -1.0919e+00, -2.9340e+00,  1.2899e+00,  1.6986e+00, -3.5442e+00,\n",
            "        -2.4125e+00, -1.1520e+00,  8.8967e-01,  3.3752e+00,  3.5616e-01,\n",
            "        -2.2987e+00,  4.4139e-01,  1.5769e-01,  3.4490e+00,  1.7586e+00,\n",
            "         1.1424e+00, -3.3164e+00, -7.2520e-01, -2.3285e+00, -4.8375e-02,\n",
            "        -2.4574e-01, -1.3107e+00,  1.4234e-01,  2.3860e+00, -3.7329e+00,\n",
            "        -8.6806e-01, -3.0256e+00,  7.5491e-01,  9.2416e-01,  1.4330e-01,\n",
            "         2.1778e+00, -2.5877e-02, -2.4570e+00, -1.3682e+00,  2.0857e+00,\n",
            "        -8.7124e-01, -5.1269e-01,  2.1400e+00,  3.3723e+00, -1.0045e+00,\n",
            "        -1.3899e+00, -1.7829e-01,  1.4533e+00,  3.0766e-01, -4.2869e+00,\n",
            "         2.3448e+00,  3.6377e+00, -2.3355e-01, -5.3324e-01, -9.7856e-01,\n",
            "         8.9117e-01,  3.9887e+00,  4.4019e+00,  1.5626e+00, -1.3502e+00,\n",
            "         3.7224e+00, -6.5773e-01,  8.1255e-01, -2.8427e+00,  3.2759e+00,\n",
            "         2.1220e+00, -1.4356e+00,  1.1936e+00,  3.9647e+00,  1.1611e+00,\n",
            "         1.0034e+00,  2.4027e+00,  6.5261e-01, -3.7036e-01,  4.2971e-01,\n",
            "        -1.6472e-01, -1.8433e+00,  1.9118e+00,  1.6417e+00,  5.4522e-01,\n",
            "         2.1042e+00, -2.8108e+00, -1.1520e+00,  2.4454e+00, -2.2697e+00,\n",
            "         3.0083e-01,  6.6967e-01, -4.7430e-01, -5.8482e-01,  1.8682e-02,\n",
            "        -1.7040e+00, -1.0375e+00,  2.7491e+00,  1.9877e+00, -1.8164e+00,\n",
            "        -3.3994e+00, -1.0019e-01,  3.2939e+00,  8.0591e-01, -1.1774e+00,\n",
            "        -1.9781e+00,  3.3868e+00,  7.7541e-01, -2.6286e+00, -8.4346e-01,\n",
            "         1.2248e+00,  2.6301e+00, -3.1033e+00, -2.0795e+00,  2.3657e+00,\n",
            "         4.9097e+00, -1.4520e+00, -2.2377e-01, -1.0193e+00,  3.3457e+00,\n",
            "        -4.5451e+00, -2.4466e+00, -1.2442e+00, -4.7341e-01, -1.7509e-03,\n",
            "        -7.5312e-01, -5.8313e-01,  1.8021e+00,  1.9692e-01,  5.5093e-01,\n",
            "         5.0198e+00, -6.3220e-02, -2.4351e+00,  1.7174e+00,  1.3036e+00,\n",
            "        -2.1830e+00, -3.1233e-01, -7.1037e-01, -7.3281e-01,  2.9401e+00,\n",
            "         1.4605e+00, -4.0374e-01, -3.3174e-01, -2.2330e+00, -1.1528e+00,\n",
            "         2.3136e+00, -1.5549e+00, -1.1847e+00, -1.6645e-01, -9.4606e-01,\n",
            "         3.0902e+00, -1.6980e+00,  4.3068e+00, -1.4991e+00, -9.0571e-02,\n",
            "        -2.3850e+00, -8.9113e-02,  2.0083e+00,  1.9006e+00,  7.4295e-01,\n",
            "        -1.3172e+00, -1.0415e+00, -6.9620e-01, -6.2896e-01, -2.1698e-01,\n",
            "        -4.6633e-02,  3.5094e-02, -1.4356e-01,  3.7480e+00, -3.7283e+00,\n",
            "         2.0769e+00,  8.6053e-01, -8.9867e-01, -2.6512e+00, -6.7727e-02,\n",
            "        -1.2627e+00, -5.2219e+00,  1.5649e+00, -1.1304e-01,  1.5091e+00,\n",
            "        -7.1533e-01, -1.5395e+00,  6.2901e-01, -1.9064e+00,  2.1133e+00,\n",
            "        -7.2327e-01,  2.6948e+00,  1.6615e+00, -6.1187e-01, -1.5785e+00,\n",
            "         1.1980e+00, -7.5896e-01,  2.4092e+00,  2.3321e+00,  6.8141e-01,\n",
            "         1.0063e+00, -9.2254e-02,  2.4917e-01, -1.9013e+00, -1.8321e+00,\n",
            "         1.8436e-01,  3.6439e+00,  1.1808e+00, -1.1610e+00,  1.7419e-01,\n",
            "        -1.4170e+00,  3.1808e+00, -1.6453e-01,  2.7814e+00,  1.2631e+00,\n",
            "         1.5759e-01,  1.7298e-01, -8.5046e-01, -2.6441e+00, -2.7698e+00,\n",
            "        -1.6846e+00,  2.9705e+00, -7.0569e-01, -1.2779e+00,  2.2875e+00,\n",
            "        -4.1433e+00,  8.7978e-01, -5.5737e-03,  9.9401e-01,  1.3772e+00,\n",
            "         9.4056e-01, -1.3142e+00, -7.5479e-01,  1.6115e+00, -8.1589e-01,\n",
            "        -6.4934e-01, -2.2226e+00, -3.5887e+00, -1.6030e+01, -4.5110e+00,\n",
            "        -1.4663e+00, -1.5509e+00, -3.9108e-01, -4.5526e+00,  8.4853e-01,\n",
            "         8.6250e-01, -7.4909e-01, -7.5652e-01,  2.3830e+00, -2.9724e+00,\n",
            "        -1.6764e+00,  4.4547e-01,  1.9539e+00,  4.1329e-01,  1.2812e+00,\n",
            "        -2.6719e+00,  1.9190e-01,  5.4878e+00,  4.2636e-01,  1.4093e+00,\n",
            "         1.3687e+00, -4.7386e-01, -2.1830e+00,  5.1148e+00,  1.6848e-01,\n",
            "        -1.6622e+00, -4.0178e+00,  1.3133e+00, -3.3868e+00,  3.5592e+00,\n",
            "        -7.9964e-01,  2.3591e-01,  1.9615e+00, -2.1400e-01, -1.9334e+00,\n",
            "         1.0609e+00,  2.2215e+00, -1.4406e+00,  4.7720e-01,  2.4114e+00,\n",
            "        -1.4391e+00, -2.8269e-02,  4.5660e+00,  2.1392e+00,  1.7850e+00,\n",
            "        -2.4679e+00,  2.4592e+00,  2.5780e+00, -8.2783e-01, -1.3155e+00,\n",
            "         2.8602e+00, -1.1562e+00,  9.6143e-01,  8.0971e-01,  2.2795e+00,\n",
            "         1.4033e+00,  1.1655e+00, -1.7768e+00, -5.5619e-01, -1.2161e-01,\n",
            "        -3.9087e-01,  1.6531e+00, -1.7970e-01, -2.5957e+00, -4.2661e+00,\n",
            "         3.6997e-01,  1.3216e+00,  2.4362e+00, -9.6604e-01,  2.3227e+00,\n",
            "         1.9322e-01, -4.1661e+00, -2.4065e+00,  2.2835e+00, -6.1914e-01,\n",
            "        -8.6552e-02, -6.6787e-01,  4.7642e-02, -3.5780e+00, -2.4837e+00,\n",
            "        -1.4713e+00, -6.2212e-01, -1.6995e+00, -2.4591e+00,  3.9762e+00,\n",
            "        -1.3544e+00,  2.5305e-01, -5.8700e-01,  2.7847e+00,  8.1128e-01,\n",
            "         2.0540e+00,  2.5243e+00,  1.0516e+00, -1.9392e+00,  2.2893e+00,\n",
            "        -3.2608e+00, -1.9262e+00, -1.0648e+00, -2.5358e+00, -7.9454e-01,\n",
            "         3.0941e+00,  1.8305e+00,  4.5270e+00,  1.4483e+00, -3.5880e+00,\n",
            "        -1.6311e+00, -6.4734e-02,  1.6155e+00, -1.8464e+00, -9.2057e-01,\n",
            "        -5.9655e-01,  7.1728e-01, -1.8696e+00, -1.8396e-01,  2.2900e+00,\n",
            "         5.5727e-01, -1.2102e+00,  1.5007e+00,  1.1873e-01,  2.9435e+00,\n",
            "         9.0198e-01, -3.2020e+00, -1.2941e+00, -1.3886e+00, -1.4001e+00,\n",
            "        -5.0958e+00, -7.3501e-01,  1.5440e+00,  1.1342e+00,  8.3404e-01,\n",
            "         4.6403e-01, -1.2989e+00,  1.4754e+00, -5.9044e-01, -2.0366e+00,\n",
            "        -1.7663e+00,  1.2671e+00,  1.5649e+00, -1.4353e+00,  6.6747e-02,\n",
            "        -1.1534e+00,  6.2987e-01, -2.4091e+00, -2.7884e-01, -4.1452e+00,\n",
            "        -2.5157e+00,  8.4443e-01,  2.4229e+00, -9.1871e-01, -1.0374e-01,\n",
            "        -7.9436e-01, -1.1108e+00, -5.2652e-01, -1.9924e+00,  7.5967e-01,\n",
            "        -7.0461e-01,  6.0410e-01, -1.5143e+00, -2.2037e+00,  4.3432e+00,\n",
            "        -2.4042e+00, -7.4121e-01,  2.1979e+00,  3.9617e+00,  2.4132e+00,\n",
            "         1.0619e+00, -2.6072e+00,  1.8874e+00, -4.6560e-01,  1.3795e+00,\n",
            "         5.9144e-01, -2.3431e+00, -2.7383e+00,  8.6072e-02,  1.0456e+00,\n",
            "         1.0204e+00, -2.6337e+00,  8.2653e-01, -2.3069e-01, -2.1991e+00,\n",
            "        -1.3736e+00, -1.3416e+00,  2.5364e-01, -5.6626e-01, -2.3178e+00,\n",
            "        -1.1901e+00, -1.2703e-01,  9.6023e-01, -1.5624e+00,  7.3618e-01,\n",
            "        -1.6466e+00, -2.6662e+00, -4.6572e+00, -3.9666e+00,  9.7577e-01,\n",
            "        -2.5371e+00,  1.7843e+00,  1.4910e+00,  8.3550e-01, -1.6388e-01,\n",
            "        -2.7781e-01,  1.2898e+00, -9.5248e-01, -1.8323e+00, -5.7014e-01,\n",
            "         5.7732e-01, -1.4034e+00,  3.8995e-01, -1.8778e+00,  9.8998e-01,\n",
            "        -3.8365e+00, -3.3509e+00, -6.1286e-01, -4.9174e-01, -1.5126e-01,\n",
            "        -1.3191e-01,  4.3275e-01, -7.5190e-01, -1.6820e+00, -1.7761e+00,\n",
            "        -2.8549e+00, -1.4050e+00, -4.2595e-01,  6.4520e-01, -2.2722e+00,\n",
            "        -1.7428e+00, -2.8253e+00, -2.0883e+00,  5.9160e-01, -1.5842e+00,\n",
            "         3.7809e+00,  4.9927e+00,  3.4087e+00, -3.0006e+00, -8.3911e-01,\n",
            "         5.3339e-01,  6.6345e-01,  2.4666e+00, -9.1504e-01, -5.5302e-01,\n",
            "        -9.5254e-04, -7.5030e-01, -3.1074e-02, -2.9972e+00,  1.7428e-01,\n",
            "         9.9270e-01, -1.8817e+00,  2.1723e+00,  2.8043e+00, -6.7604e-01,\n",
            "         7.6676e-01, -3.9292e+00, -8.8043e-01, -1.0365e+00, -2.9956e+00,\n",
            "         1.0546e+00,  1.6253e+00, -1.8288e-02,  9.7964e-01,  1.9531e+00,\n",
            "         2.8898e+00, -1.4238e+00, -2.0168e+00,  2.1089e+00,  4.3172e-01,\n",
            "         9.4996e-01, -8.0701e-01, -6.9613e-02,  1.4022e+00,  9.9214e-01,\n",
            "         6.9804e-01, -1.4699e-02,  2.7379e+00, -1.1283e+00, -1.3898e+00,\n",
            "        -3.9336e-01, -1.6747e+00,  5.2440e-01,  2.0377e+00,  3.5821e+00,\n",
            "        -1.7992e-01, -3.6421e+00, -3.9476e-01, -1.5087e+00, -1.1941e+00,\n",
            "         2.9236e+00, -1.7601e+00,  1.7005e+00, -1.0094e+00,  2.2521e+00,\n",
            "         1.9011e+00,  2.1627e-01,  1.7328e+00,  1.8541e+00,  1.6866e+00,\n",
            "        -4.9073e-01, -2.4209e+00,  1.0383e+00, -1.1715e+00,  1.9233e+00,\n",
            "         1.5820e+00,  3.4997e+00, -2.9660e-01,  1.4775e+00,  1.5358e+00,\n",
            "        -2.6973e+00,  1.3411e+00,  2.8745e+00, -2.8918e+00,  1.3638e+00,\n",
            "         2.7427e+00,  1.1272e+00,  1.0779e+00, -2.5428e-01,  1.3405e+00,\n",
            "        -2.7508e-01, -2.8967e+00,  1.0628e+00,  9.4550e-01, -4.0831e+00,\n",
            "         6.3018e-01, -1.0577e+00,  3.0388e-01, -1.3618e+00, -1.9946e+00,\n",
            "         6.9790e-01,  4.9427e-01,  1.9892e+00,  6.3445e-01,  1.6965e+00,\n",
            "        -9.4286e-01,  3.8917e+00,  8.4190e-01,  1.6514e+00,  1.9386e-01,\n",
            "        -1.6405e+00,  6.8183e-01, -9.0544e-01, -1.9433e-01,  2.7432e+00,\n",
            "         3.8465e+00,  8.9380e-02,  2.1658e-01,  6.0157e-01, -2.4639e+00,\n",
            "        -7.5621e-01,  5.2476e+00,  8.1541e-01,  1.8371e+00,  3.4152e-01,\n",
            "        -1.2508e+00, -5.9299e-01,  2.3730e+00, -3.1284e-01, -1.0366e-02,\n",
            "         4.1740e+00, -2.2813e+00, -2.9030e+00,  4.1638e-01,  8.0140e-02,\n",
            "         1.1688e+00, -1.9862e+00,  4.7699e-01,  6.6756e-01,  1.3353e+00,\n",
            "         1.8764e-01, -1.4953e+00,  3.6159e-01, -9.1034e-01,  1.5061e+00,\n",
            "        -1.3403e+00,  4.5488e+00, -9.1773e-01,  5.5641e+00,  1.9703e+00,\n",
            "        -3.4001e-01,  1.4237e-01,  8.2680e-01,  3.7644e+00,  1.3793e+00,\n",
            "        -2.3111e+00, -1.5494e+00,  1.1428e-01, -2.3220e+00, -1.8537e+00,\n",
            "        -1.7513e+00,  2.1703e+00,  1.1095e+00,  4.8900e+00, -2.1123e+00,\n",
            "         1.1682e+00, -1.7763e+00, -5.5154e-01, -2.5673e+00, -1.3688e-01,\n",
            "         3.4638e+00, -4.1939e-01, -1.3189e+00,  2.5466e+00,  2.1080e-01,\n",
            "         2.6304e+00, -1.6423e+00, -7.5521e-01,  3.1974e+00, -2.7620e+00,\n",
            "        -2.6146e+00, -3.5740e+00, -4.3225e+00,  3.0911e+00,  2.0528e+00,\n",
            "        -2.4976e+00,  1.3720e+00,  1.0103e+00,  2.7716e+00,  1.9483e+00,\n",
            "        -1.6741e+00, -2.5761e+00, -1.2238e-01,  6.2285e-01, -3.8082e-01,\n",
            "         2.9275e-01,  1.2438e+00,  7.7591e-01,  4.8930e-02,  5.8315e-01,\n",
            "         3.4192e+00, -1.7375e+00, -4.1792e+00, -1.8983e+00, -5.1802e-01,\n",
            "         1.8602e+00, -2.3294e+00, -1.0564e+00, -1.6265e+00,  2.7782e+00,\n",
            "         1.2420e+00,  8.1029e-01, -2.8966e+00,  1.0858e+00, -1.3246e+00,\n",
            "        -4.1322e+00, -3.3178e+00, -8.4310e+00, -2.6136e+00, -2.7552e+00,\n",
            "        -2.1402e+00, -1.7777e+00,  9.3420e-01,  3.3502e-01, -1.0346e+00,\n",
            "         2.2282e+00,  6.4014e-01,  1.1552e+00,  5.2486e-01,  1.2677e-02,\n",
            "        -2.1295e-01,  4.1007e+00, -6.2095e-01])\n"
          ],
          "name": "stdout"
        }
      ]
    },
    {
      "cell_type": "markdown",
      "metadata": {
        "id": "Y_2ZOxPYbH2R"
      },
      "source": [
        "## 4.4 Calcurate average target word vectors"
      ]
    },
    {
      "cell_type": "code",
      "metadata": {
        "id": "VhasJR1WaIi6"
      },
      "source": [
        "target_vecs = {\n",
        "    id2word[target_ids[i]]: target_vecs[i] / targetid_freq[i] for i in range(len(target_ids))\n",
        "}"
      ],
      "execution_count": 39,
      "outputs": []
    },
    {
      "cell_type": "code",
      "metadata": {
        "id": "nUlTWgYscL8Z",
        "outputId": "b27f0288-16cc-45a0-f27c-835d0aec1c4d",
        "colab": {
          "base_uri": "https://localhost:8080/",
          "height": 1000
        }
      },
      "source": [
        "target_vecs"
      ],
      "execution_count": 40,
      "outputs": [
        {
          "output_type": "execute_result",
          "data": {
            "text/plain": [
              "{'apple': tensor([ 1.7210e-01,  5.2862e-01, -1.4271e-01, -2.8018e-01,  1.3012e+00,\n",
              "          8.3078e-01, -2.9777e-01,  9.5272e-01, -4.4272e-02, -2.7307e-01,\n",
              "         -2.3927e-01, -5.4391e-02, -1.9362e-01,  7.0691e-03, -2.7320e-03,\n",
              "          2.7779e-01,  5.3409e-01,  8.8904e-01, -3.7456e-01,  2.9187e-01,\n",
              "          2.8631e-01, -4.7187e-01, -1.1482e-02,  2.4948e-01,  9.2279e-01,\n",
              "         -5.7138e-01, -4.2320e-01, -1.4926e-01, -1.3720e-01, -7.1882e-01,\n",
              "         -3.9075e-01,  9.4611e-01,  1.0118e+00, -1.6861e-01, -6.6695e-01,\n",
              "         -4.4382e-01, -6.6560e-01,  8.9777e-02, -8.1163e-01,  2.3268e-01,\n",
              "         -3.6053e-01, -4.1931e-01,  4.5650e-01, -1.6648e-01,  2.8094e-01,\n",
              "         -4.8273e-01, -7.7533e-01, -3.2518e-01,  7.8259e-02,  1.2031e-01,\n",
              "         -3.3767e-01,  5.4639e-01, -2.7284e-01, -3.7865e-01,  3.3282e-01,\n",
              "          9.2420e-01, -5.8171e-02, -9.3855e-01,  4.8351e-01,  2.1065e-01,\n",
              "         -1.9986e-01, -3.5786e-01,  2.4317e-01, -3.8767e-01, -4.8860e-01,\n",
              "          3.5934e-01,  3.1637e-01,  5.6386e-01, -1.0538e+00,  2.4243e-01,\n",
              "          7.5516e-02, -8.7866e-01, -8.3485e-01, -3.7211e-01, -1.4499e-01,\n",
              "         -3.2974e-01,  2.3102e-01,  1.6182e-01, -1.5705e-01,  2.9503e-02,\n",
              "         -4.2301e-01,  7.0908e-01,  3.5626e-01,  1.0387e+00, -4.6125e-01,\n",
              "          3.3496e-01, -8.7408e-01,  2.4684e-01, -7.9664e-01, -1.2855e-02,\n",
              "         -2.2847e-01,  1.7267e-01,  2.8611e-01,  5.9999e-01, -1.1267e-01,\n",
              "         -1.9960e-01, -1.2673e-01, -3.5029e-01, -3.8755e-01,  5.6931e-01,\n",
              "          3.9599e-01, -2.7279e-03,  4.9240e-01,  6.0174e-01, -6.3374e-01,\n",
              "          1.0346e-01, -9.7899e-02,  3.5072e-01,  4.2207e-01, -5.6412e-02,\n",
              "         -5.7708e-01, -1.0841e-01,  1.6797e-01, -5.1496e-03, -8.4861e-01,\n",
              "          1.1974e-01,  2.3473e-01,  3.2848e-01, -1.9749e-01, -3.4812e-01,\n",
              "         -3.6856e-01,  9.8052e-02,  2.3687e-01,  7.4051e-01,  5.0292e-02,\n",
              "         -8.2328e-01, -2.5437e-02,  3.7534e-01, -1.2421e-01, -3.8113e-02,\n",
              "         -3.6327e-01,  1.7126e-01, -1.4044e-01, -1.5795e-01,  9.7297e-03,\n",
              "          5.8990e-01, -1.4704e-01,  8.9379e-02, -1.2032e-01,  1.2930e-01,\n",
              "         -1.7844e-01,  3.8109e-01, -1.1376e-01,  4.2497e-01,  4.7800e-01,\n",
              "          1.0244e-02, -3.1674e-01,  4.0654e-01,  2.7224e-01, -1.0272e-01,\n",
              "          4.5808e-01, -8.5215e-02, -4.4057e-01, -5.4352e-01, -9.2731e-03,\n",
              "          3.8446e-01, -5.7191e-01, -1.9913e-03,  1.5820e-01, -3.0224e-02,\n",
              "         -7.7872e-02, -2.7763e-01, -5.3443e-02,  6.5549e-02, -2.4730e-01,\n",
              "          1.8157e-01,  7.9403e-03,  3.0005e-01, -6.0701e-02, -1.0449e-01,\n",
              "          1.7792e-01,  6.6013e-02,  1.1513e+00, -3.6274e-01, -5.2631e-01,\n",
              "          4.3560e-01,  4.3537e-01,  2.2532e-01,  4.6530e-01,  6.6886e-01,\n",
              "         -4.6067e-01,  1.7049e-01,  9.8194e-01,  8.9374e-01, -6.4896e-01,\n",
              "         -4.5403e-01,  1.3122e-01, -1.2905e-01,  2.8614e-01,  4.0837e-01,\n",
              "         -5.2498e-01, -8.0358e-01,  1.7400e-01,  1.0094e-02, -1.3445e-01,\n",
              "         -4.8572e-01, -1.4167e+00, -3.8453e-01, -4.5690e-01,  3.1662e-02,\n",
              "          9.8990e-02, -1.6247e-01, -1.0228e-01, -4.7225e-01, -5.2228e-01,\n",
              "          1.9883e-01,  1.5013e-01, -1.2909e-01, -6.2883e-01,  5.3560e-01,\n",
              "         -5.4954e-01,  3.4543e-01,  2.2235e-01, -2.5448e-01,  2.4286e-01,\n",
              "          4.9151e-01,  2.7768e-02, -7.7088e-01, -1.3252e-01, -1.0147e-01,\n",
              "          3.3979e-01, -1.3073e-01, -4.3562e-01,  4.4868e-01, -5.4325e-01,\n",
              "          8.1891e-01,  5.2864e-01,  1.8067e-01,  4.8609e-01, -5.6617e-01,\n",
              "         -2.8440e-02,  3.0084e-01,  3.8275e-01,  5.0876e-01, -4.6708e-01,\n",
              "          3.2416e-02, -3.8931e-01, -3.0451e-01,  3.1546e-01,  3.1951e-01,\n",
              "         -6.1665e-01,  1.4856e-01,  3.9541e-01, -9.2591e-02,  2.8303e-01,\n",
              "         -2.5119e-01, -2.3258e-01, -4.8819e-01,  2.0018e-02, -6.5546e-01,\n",
              "         -8.0307e-01, -1.9172e-01,  3.3210e-01, -3.4298e-01,  4.1726e-01,\n",
              "         -7.7061e-01,  2.2976e-02,  1.0981e+00,  2.8089e-01,  5.2136e-01,\n",
              "          2.7787e-01,  3.8008e-02,  1.6226e-01,  6.3539e-01, -2.9261e-01,\n",
              "         -7.9263e-01,  3.1635e-02, -3.4585e-01,  3.9654e-01, -1.3371e-01,\n",
              "          2.6403e-01,  2.7243e-01, -2.3215e-01,  1.5446e-01, -4.2957e-01,\n",
              "         -8.3155e-01, -1.6150e-01,  2.0810e-01, -2.4142e-01, -8.3059e-01,\n",
              "          7.2248e-01,  1.0719e+00, -2.9166e-01,  2.9511e-01,  2.3292e-01,\n",
              "         -6.5784e-01,  3.8303e-01, -2.3189e-01, -2.3806e-01,  4.3043e-02,\n",
              "         -2.1257e-01,  4.6581e-01, -3.1843e-01, -1.0316e+00,  1.5093e+00,\n",
              "          2.9356e-01,  1.0073e-01, -8.6903e-02,  4.1955e-02, -7.5553e-01,\n",
              "          7.0786e-01,  2.7956e-01,  3.9914e-01, -4.8409e-01, -7.8949e-01,\n",
              "          1.1084e+00,  4.4606e-01, -2.3797e-01, -3.4203e+00, -1.1673e-01,\n",
              "          1.8038e-02, -3.0466e-01, -1.6890e-01, -4.6771e-02, -6.3675e-01,\n",
              "         -4.4119e-01, -9.0692e-02, -1.7149e-01,  1.3245e-03, -4.8318e-01,\n",
              "          8.7745e-01,  5.8139e-01,  3.4370e-01, -4.8257e-02,  1.9680e-01,\n",
              "         -4.4179e-01,  3.0592e-02,  1.0413e+00, -3.1828e-01, -6.9553e-01,\n",
              "         -1.9283e-01,  2.5797e-01, -4.0629e-02, -5.8617e-02,  8.0284e-01,\n",
              "         -1.3277e-01, -7.7181e-02,  3.2233e-01, -3.7240e-01,  6.5048e-02,\n",
              "          2.7612e-01,  1.2548e-02, -2.3618e-02, -4.0699e-01, -2.3129e-01,\n",
              "         -1.2795e-01,  3.0379e-01, -6.1764e-02,  4.2428e-01, -6.6299e-01,\n",
              "         -1.2369e-02,  3.0888e-01,  2.5494e-01, -1.7226e-01, -4.5830e-01,\n",
              "         -5.5050e-01,  1.8713e-01,  1.4478e-01,  1.9536e-01,  4.9491e-01,\n",
              "         -2.6442e-01, -1.4434e-01,  5.0097e-01,  4.8437e-02,  4.9210e-01,\n",
              "          1.0718e+00,  2.8685e-01, -6.2294e-01,  5.9661e-01, -1.7521e-02,\n",
              "         -2.5367e-01, -2.9104e-01,  7.5066e-01, -5.3018e-01, -1.3538e+00,\n",
              "          2.0799e-01,  4.2184e-01,  1.9443e-01, -3.2113e-01, -6.1474e-01,\n",
              "         -3.0843e-01, -1.2563e+00, -3.3220e-01, -1.2743e-01,  2.4605e-01,\n",
              "          1.0504e-01, -6.5832e-01, -6.8420e-02, -7.4933e-01, -1.4885e-01,\n",
              "          7.1578e-01,  2.7553e-01, -4.0683e-02, -5.2469e-01, -1.2150e-01,\n",
              "          4.0019e-01, -1.3914e-01,  4.0251e-01,  1.1995e-01, -2.0441e-01,\n",
              "          4.6115e-01,  3.5149e-01,  2.7001e-01,  1.9384e-02,  5.3459e-02,\n",
              "          1.6642e-01,  4.6858e-01, -5.3064e-01, -6.2253e-01,  4.7533e-01,\n",
              "          4.9269e-01, -3.0923e-01, -3.4808e-01,  6.1435e-01, -4.9984e-01,\n",
              "         -2.7722e-01,  4.2969e-01, -2.5861e-02,  1.3414e-01, -6.6753e-01,\n",
              "          7.7993e-01, -8.5468e-01, -6.9548e-01, -2.4718e-01,  4.5441e-01,\n",
              "          6.7457e-01,  8.1140e-02, -6.4673e-01, -1.1269e+00,  5.8447e-01,\n",
              "          3.9921e-01, -4.5964e-02, -5.7138e-01,  2.0251e-01,  1.4033e-01,\n",
              "          6.4013e-01, -2.2270e-01,  1.5856e-01, -4.4286e-01, -1.4153e-01,\n",
              "         -7.4094e-02,  7.9055e-01,  5.9641e-02,  5.3739e-01, -6.0595e-01,\n",
              "         -5.1112e-01, -2.0196e-01,  2.2285e-01,  5.6136e-01,  7.5334e-02,\n",
              "          1.3822e-01,  5.1046e-01,  6.2517e-01,  1.1419e-01,  1.1873e-01,\n",
              "         -5.3590e-01, -2.5502e-01, -2.0787e-01, -1.6254e-01,  2.2711e-01,\n",
              "          2.1123e-02, -2.7253e-03, -8.4241e-02, -2.1650e-01,  7.8012e-02,\n",
              "         -3.4255e-01, -6.0262e-01, -3.2937e-01,  7.4465e-01,  4.5466e-01,\n",
              "          5.7396e-01, -3.2025e-01, -6.4819e-02,  3.9036e-01,  2.0047e-01,\n",
              "         -1.1880e-01,  5.0905e-02,  3.7791e-01,  5.7716e-02, -4.3059e-01,\n",
              "         -3.6846e-01,  2.1138e-01, -5.9272e-02,  3.6494e-01,  3.9601e-01,\n",
              "         -1.1074e+00, -6.1750e-01,  4.4566e-01,  3.5757e-01, -3.9382e-01,\n",
              "         -1.6156e-01, -2.1215e-01,  3.7177e-01, -1.0383e+00, -9.2752e-02,\n",
              "         -4.0987e-01, -3.8662e-02, -6.7187e-01, -6.8157e-01,  3.2832e-01,\n",
              "          4.7087e-01, -4.2390e-01, -4.5878e-01, -2.8511e-01,  7.2317e-02,\n",
              "         -4.1810e-01,  4.7872e-01, -2.4050e-01, -5.9518e-02, -4.5945e-01,\n",
              "         -1.0087e-01,  2.6962e-01, -3.9541e-01,  4.1017e-01,  3.4758e-01,\n",
              "          5.2037e-01,  1.6236e-01,  5.4516e-01, -2.0830e-02, -1.0801e+00,\n",
              "          3.0331e-01, -4.2752e-02,  7.1683e-01,  7.7536e-01, -2.3368e-01,\n",
              "          2.5460e-01, -2.8401e-01,  4.1848e-01, -1.7806e-01,  1.5286e-01,\n",
              "          2.2260e-02, -1.8442e-01, -1.8301e-01,  4.9791e-01,  8.7228e-02,\n",
              "          3.2524e-01,  1.7175e-01,  1.6367e-01,  3.2301e-01, -8.1398e-01,\n",
              "         -3.3314e-01,  2.7515e-01,  2.4865e-01, -2.9678e-01, -1.1292e+00,\n",
              "         -8.5221e-01,  1.6890e-01,  6.2063e-02, -4.8492e-01, -3.4151e-02,\n",
              "         -8.0330e-01,  2.7242e-01, -1.0528e-01,  4.3442e-01, -4.7146e-01,\n",
              "          2.2378e-01, -4.1270e-01,  2.5082e-01, -4.8343e-01,  7.4564e-01,\n",
              "          4.7616e-01, -8.2717e-01, -1.4648e-01,  2.4035e-02, -1.6270e-01,\n",
              "          7.3562e-01, -4.8950e-01, -4.5970e-01, -2.0197e-01, -7.2348e-01,\n",
              "          9.0213e-02,  8.0830e-01, -2.3547e-01, -1.5195e-01,  2.8099e-01,\n",
              "          2.0635e-01,  3.1592e-01, -2.6653e-01,  3.1404e-01, -7.0942e-01,\n",
              "          1.8031e-01,  8.0515e-02, -3.9800e-01, -3.3782e-01, -3.0655e-01,\n",
              "         -6.8658e-01,  7.2378e-01, -3.5845e-01, -7.8874e-02,  5.4539e-01,\n",
              "         -1.0824e+00, -3.8960e-01,  9.7554e-04, -3.8816e-01, -2.7949e-01,\n",
              "          6.8341e-01,  1.1973e-02,  5.1352e-01,  2.2260e-01,  3.7636e-01,\n",
              "          5.3346e-02,  6.1184e-01, -7.4305e-01,  6.2745e-01,  2.9758e-01,\n",
              "          2.9873e-01, -7.5515e-01,  6.8209e-02, -4.6818e-01,  4.0360e-01,\n",
              "          5.2345e-01,  5.2471e-01, -6.0963e-01,  8.1128e-01, -3.2568e-01,\n",
              "         -7.8974e-01, -8.2996e-01,  3.7537e-01, -3.5042e-01, -2.5204e-01,\n",
              "          5.3042e-01,  2.6221e-01, -4.4070e-01, -7.1127e-02, -3.3026e-01,\n",
              "         -1.5602e-01, -8.3272e-02,  1.4542e-01, -1.5313e-01,  2.2611e-01,\n",
              "          1.5418e-02,  1.4555e-02,  2.9418e-01,  4.4361e-01,  5.1806e-01,\n",
              "         -3.3184e-01, -2.0985e-01,  2.3534e-01, -4.4460e-01,  5.6448e-01,\n",
              "         -3.6772e-01,  7.6782e-01, -3.1289e-03, -7.2524e-02, -4.9625e-01,\n",
              "         -1.3537e-01,  1.1732e-01, -2.1938e-02,  4.4854e-01,  6.3119e-02,\n",
              "         -8.2496e-02,  6.2359e-01,  4.6299e-01, -2.4000e-01, -6.8151e-02,\n",
              "          1.9084e-01,  2.2660e-01,  1.5879e-01,  4.3875e-01,  4.8380e-01,\n",
              "          4.2061e-01, -5.8400e-01, -3.3223e-01,  2.3598e-02, -9.4318e-02,\n",
              "          1.3365e-01,  4.7973e-01,  5.0290e-01,  1.6665e-01,  3.4503e-01,\n",
              "          2.2438e-01, -4.9178e-01,  1.1002e-01,  3.3752e-01, -4.9491e-02,\n",
              "          1.5534e-01, -3.0167e-01, -3.2851e-02,  1.0783e-01, -4.5464e-01,\n",
              "          1.3246e-01,  1.1717e-01, -2.3731e-02,  5.8442e-01, -1.7168e-01,\n",
              "          2.0347e-01,  3.4508e-01,  1.2278e-01, -1.0611e-01,  3.0223e-01,\n",
              "         -4.5900e-01,  2.5275e-01, -8.2895e-01,  2.4632e-01, -2.8056e-01,\n",
              "         -3.6157e-01,  7.8171e-02, -5.0000e-01, -6.0060e-01,  4.6392e-02,\n",
              "          6.2505e-01,  2.9956e-01,  5.8661e-02, -6.2614e-01,  2.7553e-01,\n",
              "          2.7119e-01,  1.6810e-01,  2.1623e-01,  5.7995e-01, -3.5001e-01,\n",
              "         -2.9562e-01,  1.8304e-01, -2.8857e-02,  4.8268e-01,  6.5663e-01,\n",
              "         -4.9579e-01, -4.1113e-01, -4.0287e-01,  6.1793e-01,  4.2142e-01,\n",
              "         -2.6738e-01, -5.1752e-01, -8.1070e-02,  2.0380e-01,  4.6123e-01,\n",
              "         -2.5644e-01,  3.9563e-02, -2.2761e-01,  7.3165e-02, -1.4882e-01,\n",
              "          1.5352e-01,  2.9367e-01,  3.3828e-01, -9.9751e-02,  1.2709e-01,\n",
              "          1.9263e-01,  1.2812e-01, -2.3076e-01, -7.0764e-01,  1.8810e-01,\n",
              "          9.6045e-02, -5.3057e-01,  8.6880e-02,  8.6398e-02, -2.5791e-01,\n",
              "          1.3691e-01, -6.8901e-01, -3.4021e-01,  5.5649e-01,  6.5904e-01,\n",
              "          2.1569e-01, -5.6440e-01, -7.5772e-01, -4.8507e-01,  5.0564e-01,\n",
              "         -7.0208e-02, -1.4895e-01, -1.5119e-01, -7.8455e-01, -4.3131e-01,\n",
              "          7.9706e-02,  1.0295e-01,  2.3026e-01,  4.3048e-01,  1.1951e-01,\n",
              "          1.0087e-01, -3.2127e-01, -8.0203e-01]),\n",
              " 'you': tensor([ 1.0544e-01, -1.7592e-01, -1.6792e-01, -1.3773e-01, -1.9187e-01,\n",
              "          3.9008e-01, -3.0527e-01,  5.9016e-01,  5.0243e-02, -9.6419e-02,\n",
              "         -2.2339e-01,  6.0540e-02, -5.0867e-02,  3.6353e-02, -4.5606e-01,\n",
              "          9.8892e-02,  1.6491e-01,  2.9654e-01,  7.4109e-02,  1.0298e+00,\n",
              "         -4.7298e-01,  4.0805e-01, -2.1694e-01,  5.1836e-01, -2.9954e-01,\n",
              "         -1.6120e-01,  4.0080e-02, -2.4062e-01,  6.3624e-01, -4.0886e-02,\n",
              "         -4.2734e-01, -2.4817e-01, -2.3620e-01, -3.2178e-01,  1.6342e-01,\n",
              "          3.6722e-01,  1.3304e-01,  5.6050e-01, -2.0481e-01,  6.4564e-02,\n",
              "          2.4094e-02,  2.9420e-02,  3.0567e-02,  7.2428e-02, -1.6953e-01,\n",
              "         -6.1244e-01,  5.6969e-01, -2.6503e-01,  1.1433e-01, -6.5927e-01,\n",
              "         -4.6442e-01,  6.5322e-02, -5.7165e-01,  4.2013e-01, -8.4296e-02,\n",
              "          4.9134e-01,  2.3785e-02,  4.3545e-01, -6.1722e-01,  3.0104e-01,\n",
              "         -8.9937e-01,  4.5135e-01,  7.0041e-01, -4.1089e-01, -3.7835e-01,\n",
              "          6.2074e-01, -1.4452e-01,  6.0576e-01, -4.6617e-01, -4.2395e-01,\n",
              "          1.3651e-01, -2.6603e-01, -3.5495e-01, -6.2181e-01,  5.5954e-01,\n",
              "         -1.9625e-02, -1.8419e-01, -1.0381e-01, -2.6762e-01,  2.2757e-01,\n",
              "          1.0246e-01, -4.8211e-02, -2.5442e-01,  1.7148e-01, -3.6927e-01,\n",
              "         -2.7297e-01, -7.3350e-01,  3.2248e-01,  4.2465e-01, -8.8604e-01,\n",
              "         -6.0313e-01, -2.8800e-01,  2.2242e-01,  8.4381e-01,  8.9041e-02,\n",
              "         -5.7467e-01,  1.1035e-01,  3.9422e-02,  8.6225e-01,  4.3964e-01,\n",
              "          2.8560e-01, -8.2909e-01, -1.8130e-01, -5.8214e-01, -1.2094e-02,\n",
              "         -6.1435e-02, -3.2768e-01,  3.5585e-02,  5.9649e-01, -9.3323e-01,\n",
              "         -2.1702e-01, -7.5640e-01,  1.8873e-01,  2.3104e-01,  3.5826e-02,\n",
              "          5.4446e-01, -6.4694e-03, -6.1425e-01, -3.4206e-01,  5.2142e-01,\n",
              "         -2.1781e-01, -1.2817e-01,  5.3501e-01,  8.4308e-01, -2.5112e-01,\n",
              "         -3.4747e-01, -4.4572e-02,  3.6333e-01,  7.6915e-02, -1.0717e+00,\n",
              "          5.8619e-01,  9.0944e-01, -5.8386e-02, -1.3331e-01, -2.4464e-01,\n",
              "          2.2279e-01,  9.9717e-01,  1.1005e+00,  3.9064e-01, -3.3754e-01,\n",
              "          9.3061e-01, -1.6443e-01,  2.0314e-01, -7.1068e-01,  8.1898e-01,\n",
              "          5.3051e-01, -3.5890e-01,  2.9839e-01,  9.9117e-01,  2.9027e-01,\n",
              "          2.5084e-01,  6.0069e-01,  1.6315e-01, -9.2590e-02,  1.0743e-01,\n",
              "         -4.1180e-02, -4.6083e-01,  4.7794e-01,  4.1043e-01,  1.3630e-01,\n",
              "          5.2606e-01, -7.0270e-01, -2.8799e-01,  6.1136e-01, -5.6743e-01,\n",
              "          7.5206e-02,  1.6742e-01, -1.1858e-01, -1.4621e-01,  4.6706e-03,\n",
              "         -4.2601e-01, -2.5937e-01,  6.8727e-01,  4.9694e-01, -4.5409e-01,\n",
              "         -8.4985e-01, -2.5049e-02,  8.2348e-01,  2.0148e-01, -2.9436e-01,\n",
              "         -4.9451e-01,  8.4670e-01,  1.9385e-01, -6.5714e-01, -2.1087e-01,\n",
              "          3.0620e-01,  6.5753e-01, -7.7582e-01, -5.1988e-01,  5.9143e-01,\n",
              "          1.2274e+00, -3.6301e-01, -5.5942e-02, -2.5482e-01,  8.3643e-01,\n",
              "         -1.1363e+00, -6.1164e-01, -3.1106e-01, -1.1835e-01, -4.3772e-04,\n",
              "         -1.8828e-01, -1.4578e-01,  4.5052e-01,  4.9230e-02,  1.3773e-01,\n",
              "          1.2549e+00, -1.5805e-02, -6.0876e-01,  4.2934e-01,  3.2589e-01,\n",
              "         -5.4575e-01, -7.8083e-02, -1.7759e-01, -1.8320e-01,  7.3502e-01,\n",
              "          3.6512e-01, -1.0094e-01, -8.2934e-02, -5.5825e-01, -2.8821e-01,\n",
              "          5.7841e-01, -3.8874e-01, -2.9617e-01, -4.1613e-02, -2.3652e-01,\n",
              "          7.7254e-01, -4.2450e-01,  1.0767e+00, -3.7479e-01, -2.2643e-02,\n",
              "         -5.9625e-01, -2.2278e-02,  5.0207e-01,  4.7514e-01,  1.8574e-01,\n",
              "         -3.2930e-01, -2.6038e-01, -1.7405e-01, -1.5724e-01, -5.4246e-02,\n",
              "         -1.1658e-02,  8.7735e-03, -3.5891e-02,  9.3701e-01, -9.3209e-01,\n",
              "          5.1923e-01,  2.1513e-01, -2.2467e-01, -6.6279e-01, -1.6932e-02,\n",
              "         -3.1566e-01, -1.3055e+00,  3.9124e-01, -2.8259e-02,  3.7729e-01,\n",
              "         -1.7883e-01, -3.8486e-01,  1.5725e-01, -4.7659e-01,  5.2832e-01,\n",
              "         -1.8082e-01,  6.7370e-01,  4.1538e-01, -1.5297e-01, -3.9463e-01,\n",
              "          2.9949e-01, -1.8974e-01,  6.0230e-01,  5.8301e-01,  1.7035e-01,\n",
              "          2.5157e-01, -2.3064e-02,  6.2292e-02, -4.7533e-01, -4.5802e-01,\n",
              "          4.6091e-02,  9.1098e-01,  2.9521e-01, -2.9026e-01,  4.3547e-02,\n",
              "         -3.5425e-01,  7.9520e-01, -4.1133e-02,  6.9536e-01,  3.1578e-01,\n",
              "          3.9397e-02,  4.3245e-02, -2.1262e-01, -6.6103e-01, -6.9246e-01,\n",
              "         -4.2115e-01,  7.4262e-01, -1.7642e-01, -3.1946e-01,  5.7188e-01,\n",
              "         -1.0358e+00,  2.1994e-01, -1.3934e-03,  2.4850e-01,  3.4431e-01,\n",
              "          2.3514e-01, -3.2855e-01, -1.8870e-01,  4.0289e-01, -2.0397e-01,\n",
              "         -1.6233e-01, -5.5565e-01, -8.9718e-01, -4.0075e+00, -1.1278e+00,\n",
              "         -3.6657e-01, -3.8773e-01, -9.7771e-02, -1.1382e+00,  2.1213e-01,\n",
              "          2.1563e-01, -1.8727e-01, -1.8913e-01,  5.9576e-01, -7.4310e-01,\n",
              "         -4.1910e-01,  1.1137e-01,  4.8849e-01,  1.0332e-01,  3.2030e-01,\n",
              "         -6.6798e-01,  4.7975e-02,  1.3719e+00,  1.0659e-01,  3.5234e-01,\n",
              "          3.4218e-01, -1.1847e-01, -5.4574e-01,  1.2787e+00,  4.2121e-02,\n",
              "         -4.1555e-01, -1.0045e+00,  3.2833e-01, -8.4671e-01,  8.8981e-01,\n",
              "         -1.9991e-01,  5.8978e-02,  4.9037e-01, -5.3501e-02, -4.8336e-01,\n",
              "          2.6522e-01,  5.5538e-01, -3.6016e-01,  1.1930e-01,  6.0286e-01,\n",
              "         -3.5977e-01, -7.0672e-03,  1.1415e+00,  5.3481e-01,  4.4624e-01,\n",
              "         -6.1697e-01,  6.1480e-01,  6.4450e-01, -2.0696e-01, -3.2888e-01,\n",
              "          7.1505e-01, -2.8904e-01,  2.4036e-01,  2.0243e-01,  5.6986e-01,\n",
              "          3.5082e-01,  2.9138e-01, -4.4419e-01, -1.3905e-01, -3.0402e-02,\n",
              "         -9.7717e-02,  4.1326e-01, -4.4925e-02, -6.4892e-01, -1.0665e+00,\n",
              "          9.2493e-02,  3.3040e-01,  6.0904e-01, -2.4151e-01,  5.8068e-01,\n",
              "          4.8304e-02, -1.0415e+00, -6.0162e-01,  5.7088e-01, -1.5478e-01,\n",
              "         -2.1638e-02, -1.6697e-01,  1.1911e-02, -8.9451e-01, -6.2093e-01,\n",
              "         -3.6784e-01, -1.5553e-01, -4.2489e-01, -6.1478e-01,  9.9404e-01,\n",
              "         -3.3859e-01,  6.3262e-02, -1.4675e-01,  6.9619e-01,  2.0282e-01,\n",
              "          5.1350e-01,  6.3107e-01,  2.6291e-01, -4.8479e-01,  5.7232e-01,\n",
              "         -8.1520e-01, -4.8155e-01, -2.6621e-01, -6.3394e-01, -1.9863e-01,\n",
              "          7.7354e-01,  4.5763e-01,  1.1318e+00,  3.6207e-01, -8.9700e-01,\n",
              "         -4.0779e-01, -1.6184e-02,  4.0387e-01, -4.6160e-01, -2.3014e-01,\n",
              "         -1.4914e-01,  1.7932e-01, -4.6741e-01, -4.5991e-02,  5.7249e-01,\n",
              "          1.3932e-01, -3.0255e-01,  3.7517e-01,  2.9683e-02,  7.3588e-01,\n",
              "          2.2550e-01, -8.0049e-01, -3.2352e-01, -3.4715e-01, -3.5002e-01,\n",
              "         -1.2740e+00, -1.8375e-01,  3.8601e-01,  2.8354e-01,  2.0851e-01,\n",
              "          1.1601e-01, -3.2472e-01,  3.6885e-01, -1.4761e-01, -5.0915e-01,\n",
              "         -4.4157e-01,  3.1679e-01,  3.9123e-01, -3.5883e-01,  1.6687e-02,\n",
              "         -2.8835e-01,  1.5747e-01, -6.0228e-01, -6.9711e-02, -1.0363e+00,\n",
              "         -6.2892e-01,  2.1111e-01,  6.0572e-01, -2.2968e-01, -2.5935e-02,\n",
              "         -1.9859e-01, -2.7770e-01, -1.3163e-01, -4.9810e-01,  1.8992e-01,\n",
              "         -1.7615e-01,  1.5102e-01, -3.7857e-01, -5.5092e-01,  1.0858e+00,\n",
              "         -6.0106e-01, -1.8530e-01,  5.4948e-01,  9.9042e-01,  6.0331e-01,\n",
              "          2.6548e-01, -6.5180e-01,  4.7186e-01, -1.1640e-01,  3.4489e-01,\n",
              "          1.4786e-01, -5.8579e-01, -6.8457e-01,  2.1518e-02,  2.6139e-01,\n",
              "          2.5510e-01, -6.5841e-01,  2.0663e-01, -5.7673e-02, -5.4979e-01,\n",
              "         -3.4339e-01, -3.3539e-01,  6.3409e-02, -1.4157e-01, -5.7945e-01,\n",
              "         -2.9752e-01, -3.1757e-02,  2.4006e-01, -3.9061e-01,  1.8404e-01,\n",
              "         -4.1166e-01, -6.6655e-01, -1.1643e+00, -9.9164e-01,  2.4394e-01,\n",
              "         -6.3428e-01,  4.4606e-01,  3.7274e-01,  2.0888e-01, -4.0971e-02,\n",
              "         -6.9453e-02,  3.2244e-01, -2.3812e-01, -4.5808e-01, -1.4253e-01,\n",
              "          1.4433e-01, -3.5084e-01,  9.7488e-02, -4.6946e-01,  2.4749e-01,\n",
              "         -9.5913e-01, -8.3773e-01, -1.5322e-01, -1.2293e-01, -3.7814e-02,\n",
              "         -3.2979e-02,  1.0819e-01, -1.8798e-01, -4.2049e-01, -4.4403e-01,\n",
              "         -7.1372e-01, -3.5126e-01, -1.0649e-01,  1.6130e-01, -5.6806e-01,\n",
              "         -4.3569e-01, -7.0633e-01, -5.2208e-01,  1.4790e-01, -3.9605e-01,\n",
              "          9.4523e-01,  1.2482e+00,  8.5217e-01, -7.5016e-01, -2.0978e-01,\n",
              "          1.3335e-01,  1.6586e-01,  6.1666e-01, -2.2876e-01, -1.3826e-01,\n",
              "         -2.3814e-04, -1.8758e-01, -7.7685e-03, -7.4930e-01,  4.3570e-02,\n",
              "          2.4817e-01, -4.7044e-01,  5.4308e-01,  7.0107e-01, -1.6901e-01,\n",
              "          1.9169e-01, -9.8231e-01, -2.2011e-01, -2.5912e-01, -7.4891e-01,\n",
              "          2.6366e-01,  4.0632e-01, -4.5720e-03,  2.4491e-01,  4.8827e-01,\n",
              "          7.2246e-01, -3.5594e-01, -5.0419e-01,  5.2722e-01,  1.0793e-01,\n",
              "          2.3749e-01, -2.0175e-01, -1.7403e-02,  3.5055e-01,  2.4803e-01,\n",
              "          1.7451e-01, -3.6747e-03,  6.8447e-01, -2.8208e-01, -3.4745e-01,\n",
              "         -9.8341e-02, -4.1867e-01,  1.3110e-01,  5.0942e-01,  8.9552e-01,\n",
              "         -4.4980e-02, -9.1052e-01, -9.8689e-02, -3.7719e-01, -2.9852e-01,\n",
              "          7.3089e-01, -4.4002e-01,  4.2512e-01, -2.5234e-01,  5.6303e-01,\n",
              "          4.7528e-01,  5.4067e-02,  4.3321e-01,  4.6353e-01,  4.2165e-01,\n",
              "         -1.2268e-01, -6.0523e-01,  2.5958e-01, -2.9288e-01,  4.8083e-01,\n",
              "          3.9549e-01,  8.7493e-01, -7.4151e-02,  3.6936e-01,  3.8395e-01,\n",
              "         -6.7434e-01,  3.3527e-01,  7.1862e-01, -7.2294e-01,  3.4096e-01,\n",
              "          6.8568e-01,  2.8179e-01,  2.6948e-01, -6.3569e-02,  3.3513e-01,\n",
              "         -6.8769e-02, -7.2417e-01,  2.6570e-01,  2.3638e-01, -1.0208e+00,\n",
              "          1.5755e-01, -2.6444e-01,  7.5969e-02, -3.4046e-01, -4.9865e-01,\n",
              "          1.7447e-01,  1.2357e-01,  4.9731e-01,  1.5861e-01,  4.2413e-01,\n",
              "         -2.3571e-01,  9.7292e-01,  2.1048e-01,  4.1285e-01,  4.8464e-02,\n",
              "         -4.1012e-01,  1.7046e-01, -2.2636e-01, -4.8581e-02,  6.8579e-01,\n",
              "          9.6163e-01,  2.2345e-02,  5.4144e-02,  1.5039e-01, -6.1598e-01,\n",
              "         -1.8905e-01,  1.3119e+00,  2.0385e-01,  4.5928e-01,  8.5381e-02,\n",
              "         -3.1271e-01, -1.4825e-01,  5.9325e-01, -7.8209e-02, -2.5916e-03,\n",
              "          1.0435e+00, -5.7033e-01, -7.2575e-01,  1.0409e-01,  2.0035e-02,\n",
              "          2.9219e-01, -4.9655e-01,  1.1925e-01,  1.6689e-01,  3.3382e-01,\n",
              "          4.6910e-02, -3.7383e-01,  9.0398e-02, -2.2759e-01,  3.7654e-01,\n",
              "         -3.3507e-01,  1.1372e+00, -2.2943e-01,  1.3910e+00,  4.9258e-01,\n",
              "         -8.5003e-02,  3.5593e-02,  2.0670e-01,  9.4110e-01,  3.4484e-01,\n",
              "         -5.7778e-01, -3.8736e-01,  2.8569e-02, -5.8051e-01, -4.6342e-01,\n",
              "         -4.3782e-01,  5.4257e-01,  2.7738e-01,  1.2225e+00, -5.2808e-01,\n",
              "          2.9204e-01, -4.4408e-01, -1.3788e-01, -6.4184e-01, -3.4220e-02,\n",
              "          8.6595e-01, -1.0485e-01, -3.2972e-01,  6.3664e-01,  5.2699e-02,\n",
              "          6.5759e-01, -4.1058e-01, -1.8880e-01,  7.9936e-01, -6.9050e-01,\n",
              "         -6.5365e-01, -8.9349e-01, -1.0806e+00,  7.7278e-01,  5.1320e-01,\n",
              "         -6.2441e-01,  3.4301e-01,  2.5257e-01,  6.9291e-01,  4.8708e-01,\n",
              "         -4.1852e-01, -6.4404e-01, -3.0594e-02,  1.5571e-01, -9.5206e-02,\n",
              "          7.3188e-02,  3.1095e-01,  1.9398e-01,  1.2233e-02,  1.4579e-01,\n",
              "          8.5479e-01, -4.3437e-01, -1.0448e+00, -4.7459e-01, -1.2950e-01,\n",
              "          4.6504e-01, -5.8236e-01, -2.6409e-01, -4.0664e-01,  6.9454e-01,\n",
              "          3.1051e-01,  2.0257e-01, -7.2416e-01,  2.7146e-01, -3.3114e-01,\n",
              "         -1.0330e+00, -8.2945e-01, -2.1077e+00, -6.5341e-01, -6.8880e-01,\n",
              "         -5.3506e-01, -4.4443e-01,  2.3355e-01,  8.3755e-02, -2.5864e-01,\n",
              "          5.5705e-01,  1.6004e-01,  2.8881e-01,  1.3121e-01,  3.1691e-03,\n",
              "         -5.3238e-02,  1.0252e+00, -1.5524e-01])}"
            ]
          },
          "metadata": {
            "tags": []
          },
          "execution_count": 40
        }
      ]
    },
    {
      "cell_type": "markdown",
      "metadata": {
        "id": "SjhKHNuRMxrx"
      },
      "source": [
        "# 5.Main: multi sentences"
      ]
    },
    {
      "cell_type": "code",
      "metadata": {
        "id": "hqOh1r7I3ArS"
      },
      "source": [
        "corpus = [\"i eat an apple today .\",\n",
        "          \"you eat an apple today .\",\n",
        "          \"i drink an apple juice .\",\n",
        "          \"you like an apple .\",\n",
        "          \"an apple tree is heavy with fruit .\",\n",
        "          \"this apple is sweet .\",\n",
        "          \"you make a sweet apple pie .\",\n",
        "          \"apple trees fructify .\",\n",
        "          \"i buy an apple computer at an apple store .\",\n",
        "          \"you buy an apple computer today .\"]"
      ],
      "execution_count": 41,
      "outputs": []
    },
    {
      "cell_type": "code",
      "metadata": {
        "id": "tDb-6ZQR3CK3"
      },
      "source": [
        "target_words = [\"apple\", \"you\"]"
      ],
      "execution_count": 42,
      "outputs": []
    },
    {
      "cell_type": "code",
      "metadata": {
        "id": "J-8Dw1NZ5-RV",
        "outputId": "11497086-bf91-41ae-8263-75167c2b8e03",
        "colab": {
          "base_uri": "https://localhost:8080/",
          "height": 34
        }
      },
      "source": [
        "target_ids = [word2id[word] for word in target_words if word in word2id]\n",
        "print(target_ids)\n",
        "set_target_ids = set(target_ids)"
      ],
      "execution_count": 43,
      "outputs": [
        {
          "output_type": "stream",
          "text": [
            "[6207, 2017]\n"
          ],
          "name": "stdout"
        }
      ]
    },
    {
      "cell_type": "code",
      "metadata": {
        "id": "aL5Rw76WB79A"
      },
      "source": [
        "def make_batch(corpus, batch_size):\n",
        "  \"\"\" \n",
        "  :param corpus: list of sentences\n",
        "  :param batch_size: batch_size\n",
        "  :return: samples\n",
        "  \"\"\" \n",
        "  sorted_sentence = sorted(corpus, key=lambda x: len(x.split()))\n",
        "  samples = [sorted_sentence[i:i + batch_size] if i+batch_size<len(sorted_sentence) else sorted_sentence[i:]\\\n",
        "                   for i in range(0, len(sorted_sentence), batch_size)]\n",
        "  return samples"
      ],
      "execution_count": 44,
      "outputs": []
    },
    {
      "cell_type": "code",
      "metadata": {
        "id": "tJoK_au5k6dz"
      },
      "source": [
        "from tqdm import tqdm"
      ],
      "execution_count": 45,
      "outputs": []
    },
    {
      "cell_type": "code",
      "metadata": {
        "id": "C935V6fDOuuQ",
        "outputId": "0da54149-93db-441b-ae2d-7ea61fc453e8",
        "colab": {
          "base_uri": "https://localhost:8080/",
          "height": 54
        }
      },
      "source": [
        "samples = make_batch(corpus, batch_size=3)\n",
        "print(samples)"
      ],
      "execution_count": 46,
      "outputs": [
        {
          "output_type": "stream",
          "text": [
            "[['apple trees fructify .', 'you like an apple .', 'this apple is sweet .'], ['i eat an apple today .', 'you eat an apple today .', 'i drink an apple juice .'], ['you make a sweet apple pie .', 'you buy an apple computer today .', 'an apple tree is heavy with fruit .'], ['i buy an apple computer at an apple store .']]\n"
          ],
          "name": "stdout"
        }
      ]
    },
    {
      "cell_type": "code",
      "metadata": {
        "id": "j1gMMW2XM8Mv",
        "outputId": "4db61d12-498d-4176-aa5c-e841738fccce",
        "colab": {
          "base_uri": "https://localhost:8080/",
          "height": 50
        }
      },
      "source": [
        "device = torch.device(\"cuda:0\" if torch.cuda.is_available() else \"cpu\")\n",
        "\n",
        "target_vecs = torch.zeros((len(target_ids), 768)).to(device)\n",
        "print(f'target_vecs: {target_vecs.size()}')\n",
        "\n",
        "targetid_freq = [0]*len(target_ids)\n",
        "\n",
        "model.to(device)\n",
        "with torch.no_grad():\n",
        "  for sample in tqdm(samples):\n",
        "    inputs = tokenizer(sample, return_tensors='pt', padding=True, truncation=True).to(device)\n",
        "    outputs = model(**inputs).last_hidden_state\n",
        "    input_ids = inputs['input_ids']\n",
        "    for sent_id in range(outputs.shape[0]):\n",
        "      for word_id in range(outputs.shape[1]):\n",
        "        target_id = int(input_ids[sent_id][word_id])\n",
        "        if target_id in set_target_ids:\n",
        "          target_vecs[target_ids.index(target_id)] += outputs[sent_id][word_id]\n",
        "          targetid_freq[target_ids.index(target_id)] += 1"
      ],
      "execution_count": 47,
      "outputs": [
        {
          "output_type": "stream",
          "text": [
            "\r  0%|          | 0/4 [00:00<?, ?it/s]"
          ],
          "name": "stderr"
        },
        {
          "output_type": "stream",
          "text": [
            "target_vecs: torch.Size([2, 768])\n"
          ],
          "name": "stdout"
        },
        {
          "output_type": "stream",
          "text": [
            "\r100%|██████████| 4/4 [00:00<00:00, 42.41it/s]\n"
          ],
          "name": "stderr"
        }
      ]
    },
    {
      "cell_type": "code",
      "metadata": {
        "id": "t5rXgt-PPgTH"
      },
      "source": [
        "target_vecs = {\n",
        "    id2word[target_ids[i]]: target_vecs[i] / targetid_freq[i] for i in range(len(target_ids))\n",
        "}"
      ],
      "execution_count": 48,
      "outputs": []
    },
    {
      "cell_type": "code",
      "metadata": {
        "id": "f4C5i6T-PgrZ",
        "outputId": "ca62dd53-5c63-4f30-9e3d-5d8c5feb34b5",
        "colab": {
          "base_uri": "https://localhost:8080/",
          "height": 1000
        }
      },
      "source": [
        "target_vecs"
      ],
      "execution_count": 49,
      "outputs": [
        {
          "output_type": "execute_result",
          "data": {
            "text/plain": [
              "{'apple': tensor([ 1.7210e-01,  5.2862e-01, -1.4271e-01, -2.8018e-01,  1.3012e+00,\n",
              "          8.3078e-01, -2.9777e-01,  9.5272e-01, -4.4272e-02, -2.7307e-01,\n",
              "         -2.3927e-01, -5.4391e-02, -1.9362e-01,  7.0693e-03, -2.7322e-03,\n",
              "          2.7779e-01,  5.3409e-01,  8.8904e-01, -3.7456e-01,  2.9187e-01,\n",
              "          2.8631e-01, -4.7187e-01, -1.1482e-02,  2.4948e-01,  9.2279e-01,\n",
              "         -5.7138e-01, -4.2320e-01, -1.4926e-01, -1.3720e-01, -7.1882e-01,\n",
              "         -3.9075e-01,  9.4611e-01,  1.0118e+00, -1.6861e-01, -6.6695e-01,\n",
              "         -4.4382e-01, -6.6560e-01,  8.9777e-02, -8.1163e-01,  2.3268e-01,\n",
              "         -3.6053e-01, -4.1931e-01,  4.5650e-01, -1.6648e-01,  2.8094e-01,\n",
              "         -4.8273e-01, -7.7533e-01, -3.2518e-01,  7.8259e-02,  1.2031e-01,\n",
              "         -3.3767e-01,  5.4639e-01, -2.7284e-01, -3.7865e-01,  3.3282e-01,\n",
              "          9.2420e-01, -5.8171e-02, -9.3855e-01,  4.8351e-01,  2.1065e-01,\n",
              "         -1.9986e-01, -3.5786e-01,  2.4317e-01, -3.8767e-01, -4.8860e-01,\n",
              "          3.5934e-01,  3.1637e-01,  5.6386e-01, -1.0538e+00,  2.4243e-01,\n",
              "          7.5515e-02, -8.7866e-01, -8.3485e-01, -3.7211e-01, -1.4499e-01,\n",
              "         -3.2974e-01,  2.3102e-01,  1.6182e-01, -1.5705e-01,  2.9503e-02,\n",
              "         -4.2301e-01,  7.0908e-01,  3.5626e-01,  1.0387e+00, -4.6125e-01,\n",
              "          3.3496e-01, -8.7408e-01,  2.4684e-01, -7.9664e-01, -1.2855e-02,\n",
              "         -2.2847e-01,  1.7267e-01,  2.8611e-01,  5.9999e-01, -1.1267e-01,\n",
              "         -1.9960e-01, -1.2673e-01, -3.5029e-01, -3.8755e-01,  5.6931e-01,\n",
              "          3.9599e-01, -2.7280e-03,  4.9240e-01,  6.0174e-01, -6.3374e-01,\n",
              "          1.0346e-01, -9.7899e-02,  3.5072e-01,  4.2207e-01, -5.6412e-02,\n",
              "         -5.7707e-01, -1.0841e-01,  1.6797e-01, -5.1494e-03, -8.4861e-01,\n",
              "          1.1974e-01,  2.3473e-01,  3.2848e-01, -1.9749e-01, -3.4812e-01,\n",
              "         -3.6856e-01,  9.8052e-02,  2.3687e-01,  7.4051e-01,  5.0292e-02,\n",
              "         -8.2328e-01, -2.5437e-02,  3.7534e-01, -1.2421e-01, -3.8113e-02,\n",
              "         -3.6327e-01,  1.7126e-01, -1.4044e-01, -1.5795e-01,  9.7292e-03,\n",
              "          5.8990e-01, -1.4704e-01,  8.9378e-02, -1.2032e-01,  1.2930e-01,\n",
              "         -1.7844e-01,  3.8109e-01, -1.1376e-01,  4.2497e-01,  4.7800e-01,\n",
              "          1.0244e-02, -3.1674e-01,  4.0654e-01,  2.7224e-01, -1.0272e-01,\n",
              "          4.5808e-01, -8.5215e-02, -4.4057e-01, -5.4352e-01, -9.2730e-03,\n",
              "          3.8446e-01, -5.7191e-01, -1.9911e-03,  1.5820e-01, -3.0224e-02,\n",
              "         -7.7872e-02, -2.7763e-01, -5.3443e-02,  6.5549e-02, -2.4730e-01,\n",
              "          1.8157e-01,  7.9404e-03,  3.0005e-01, -6.0701e-02, -1.0449e-01,\n",
              "          1.7792e-01,  6.6013e-02,  1.1513e+00, -3.6274e-01, -5.2631e-01,\n",
              "          4.3560e-01,  4.3537e-01,  2.2532e-01,  4.6530e-01,  6.6886e-01,\n",
              "         -4.6067e-01,  1.7049e-01,  9.8194e-01,  8.9374e-01, -6.4896e-01,\n",
              "         -4.5403e-01,  1.3122e-01, -1.2905e-01,  2.8614e-01,  4.0837e-01,\n",
              "         -5.2498e-01, -8.0358e-01,  1.7400e-01,  1.0094e-02, -1.3445e-01,\n",
              "         -4.8572e-01, -1.4167e+00, -3.8453e-01, -4.5690e-01,  3.1662e-02,\n",
              "          9.8989e-02, -1.6247e-01, -1.0227e-01, -4.7225e-01, -5.2228e-01,\n",
              "          1.9883e-01,  1.5013e-01, -1.2909e-01, -6.2883e-01,  5.3560e-01,\n",
              "         -5.4954e-01,  3.4543e-01,  2.2235e-01, -2.5448e-01,  2.4286e-01,\n",
              "          4.9151e-01,  2.7768e-02, -7.7088e-01, -1.3252e-01, -1.0147e-01,\n",
              "          3.3979e-01, -1.3073e-01, -4.3562e-01,  4.4868e-01, -5.4325e-01,\n",
              "          8.1891e-01,  5.2864e-01,  1.8067e-01,  4.8609e-01, -5.6617e-01,\n",
              "         -2.8440e-02,  3.0084e-01,  3.8275e-01,  5.0876e-01, -4.6708e-01,\n",
              "          3.2415e-02, -3.8931e-01, -3.0451e-01,  3.1546e-01,  3.1951e-01,\n",
              "         -6.1665e-01,  1.4856e-01,  3.9541e-01, -9.2591e-02,  2.8303e-01,\n",
              "         -2.5119e-01, -2.3258e-01, -4.8819e-01,  2.0018e-02, -6.5546e-01,\n",
              "         -8.0307e-01, -1.9172e-01,  3.3210e-01, -3.4298e-01,  4.1726e-01,\n",
              "         -7.7061e-01,  2.2976e-02,  1.0981e+00,  2.8089e-01,  5.2136e-01,\n",
              "          2.7787e-01,  3.8009e-02,  1.6226e-01,  6.3539e-01, -2.9261e-01,\n",
              "         -7.9263e-01,  3.1635e-02, -3.4585e-01,  3.9654e-01, -1.3371e-01,\n",
              "          2.6403e-01,  2.7243e-01, -2.3215e-01,  1.5446e-01, -4.2957e-01,\n",
              "         -8.3155e-01, -1.6150e-01,  2.0810e-01, -2.4142e-01, -8.3059e-01,\n",
              "          7.2248e-01,  1.0719e+00, -2.9166e-01,  2.9511e-01,  2.3292e-01,\n",
              "         -6.5784e-01,  3.8303e-01, -2.3189e-01, -2.3806e-01,  4.3043e-02,\n",
              "         -2.1257e-01,  4.6581e-01, -3.1843e-01, -1.0316e+00,  1.5093e+00,\n",
              "          2.9356e-01,  1.0073e-01, -8.6903e-02,  4.1955e-02, -7.5553e-01,\n",
              "          7.0786e-01,  2.7956e-01,  3.9914e-01, -4.8409e-01, -7.8949e-01,\n",
              "          1.1084e+00,  4.4606e-01, -2.3797e-01, -3.4203e+00, -1.1673e-01,\n",
              "          1.8038e-02, -3.0466e-01, -1.6890e-01, -4.6771e-02, -6.3675e-01,\n",
              "         -4.4119e-01, -9.0691e-02, -1.7149e-01,  1.3246e-03, -4.8318e-01,\n",
              "          8.7745e-01,  5.8139e-01,  3.4370e-01, -4.8257e-02,  1.9680e-01,\n",
              "         -4.4179e-01,  3.0592e-02,  1.0413e+00, -3.1828e-01, -6.9553e-01,\n",
              "         -1.9283e-01,  2.5797e-01, -4.0629e-02, -5.8617e-02,  8.0284e-01,\n",
              "         -1.3277e-01, -7.7181e-02,  3.2233e-01, -3.7240e-01,  6.5048e-02,\n",
              "          2.7612e-01,  1.2548e-02, -2.3617e-02, -4.0699e-01, -2.3129e-01,\n",
              "         -1.2795e-01,  3.0379e-01, -6.1764e-02,  4.2428e-01, -6.6299e-01,\n",
              "         -1.2369e-02,  3.0888e-01,  2.5494e-01, -1.7226e-01, -4.5830e-01,\n",
              "         -5.5050e-01,  1.8713e-01,  1.4478e-01,  1.9536e-01,  4.9491e-01,\n",
              "         -2.6442e-01, -1.4434e-01,  5.0097e-01,  4.8437e-02,  4.9210e-01,\n",
              "          1.0718e+00,  2.8685e-01, -6.2294e-01,  5.9661e-01, -1.7521e-02,\n",
              "         -2.5367e-01, -2.9104e-01,  7.5066e-01, -5.3018e-01, -1.3538e+00,\n",
              "          2.0799e-01,  4.2184e-01,  1.9443e-01, -3.2113e-01, -6.1474e-01,\n",
              "         -3.0843e-01, -1.2563e+00, -3.3220e-01, -1.2743e-01,  2.4605e-01,\n",
              "          1.0504e-01, -6.5832e-01, -6.8420e-02, -7.4933e-01, -1.4885e-01,\n",
              "          7.1578e-01,  2.7553e-01, -4.0683e-02, -5.2469e-01, -1.2150e-01,\n",
              "          4.0019e-01, -1.3914e-01,  4.0251e-01,  1.1995e-01, -2.0441e-01,\n",
              "          4.6115e-01,  3.5149e-01,  2.7001e-01,  1.9384e-02,  5.3459e-02,\n",
              "          1.6642e-01,  4.6858e-01, -5.3064e-01, -6.2253e-01,  4.7533e-01,\n",
              "          4.9269e-01, -3.0923e-01, -3.4808e-01,  6.1435e-01, -4.9984e-01,\n",
              "         -2.7722e-01,  4.2969e-01, -2.5861e-02,  1.3414e-01, -6.6753e-01,\n",
              "          7.7993e-01, -8.5468e-01, -6.9548e-01, -2.4718e-01,  4.5441e-01,\n",
              "          6.7457e-01,  8.1140e-02, -6.4673e-01, -1.1269e+00,  5.8447e-01,\n",
              "          3.9921e-01, -4.5964e-02, -5.7138e-01,  2.0251e-01,  1.4033e-01,\n",
              "          6.4013e-01, -2.2270e-01,  1.5856e-01, -4.4286e-01, -1.4153e-01,\n",
              "         -7.4094e-02,  7.9055e-01,  5.9641e-02,  5.3739e-01, -6.0595e-01,\n",
              "         -5.1112e-01, -2.0196e-01,  2.2285e-01,  5.6136e-01,  7.5334e-02,\n",
              "          1.3822e-01,  5.1046e-01,  6.2517e-01,  1.1419e-01,  1.1873e-01,\n",
              "         -5.3590e-01, -2.5502e-01, -2.0787e-01, -1.6254e-01,  2.2711e-01,\n",
              "          2.1123e-02, -2.7250e-03, -8.4240e-02, -2.1650e-01,  7.8012e-02,\n",
              "         -3.4255e-01, -6.0262e-01, -3.2937e-01,  7.4465e-01,  4.5466e-01,\n",
              "          5.7396e-01, -3.2025e-01, -6.4819e-02,  3.9036e-01,  2.0047e-01,\n",
              "         -1.1880e-01,  5.0905e-02,  3.7791e-01,  5.7715e-02, -4.3059e-01,\n",
              "         -3.6846e-01,  2.1138e-01, -5.9272e-02,  3.6494e-01,  3.9601e-01,\n",
              "         -1.1074e+00, -6.1750e-01,  4.4566e-01,  3.5757e-01, -3.9382e-01,\n",
              "         -1.6156e-01, -2.1215e-01,  3.7177e-01, -1.0383e+00, -9.2752e-02,\n",
              "         -4.0987e-01, -3.8662e-02, -6.7187e-01, -6.8157e-01,  3.2832e-01,\n",
              "          4.7087e-01, -4.2390e-01, -4.5878e-01, -2.8511e-01,  7.2317e-02,\n",
              "         -4.1810e-01,  4.7872e-01, -2.4050e-01, -5.9519e-02, -4.5945e-01,\n",
              "         -1.0087e-01,  2.6962e-01, -3.9541e-01,  4.1017e-01,  3.4758e-01,\n",
              "          5.2037e-01,  1.6236e-01,  5.4516e-01, -2.0830e-02, -1.0801e+00,\n",
              "          3.0331e-01, -4.2752e-02,  7.1683e-01,  7.7536e-01, -2.3368e-01,\n",
              "          2.5460e-01, -2.8401e-01,  4.1848e-01, -1.7806e-01,  1.5286e-01,\n",
              "          2.2260e-02, -1.8442e-01, -1.8301e-01,  4.9791e-01,  8.7227e-02,\n",
              "          3.2524e-01,  1.7175e-01,  1.6367e-01,  3.2301e-01, -8.1398e-01,\n",
              "         -3.3314e-01,  2.7515e-01,  2.4865e-01, -2.9678e-01, -1.1292e+00,\n",
              "         -8.5221e-01,  1.6890e-01,  6.2063e-02, -4.8492e-01, -3.4151e-02,\n",
              "         -8.0330e-01,  2.7242e-01, -1.0528e-01,  4.3442e-01, -4.7146e-01,\n",
              "          2.2378e-01, -4.1270e-01,  2.5082e-01, -4.8343e-01,  7.4564e-01,\n",
              "          4.7616e-01, -8.2717e-01, -1.4648e-01,  2.4035e-02, -1.6270e-01,\n",
              "          7.3562e-01, -4.8950e-01, -4.5970e-01, -2.0197e-01, -7.2348e-01,\n",
              "          9.0213e-02,  8.0830e-01, -2.3547e-01, -1.5195e-01,  2.8099e-01,\n",
              "          2.0635e-01,  3.1592e-01, -2.6653e-01,  3.1404e-01, -7.0942e-01,\n",
              "          1.8031e-01,  8.0515e-02, -3.9800e-01, -3.3782e-01, -3.0655e-01,\n",
              "         -6.8658e-01,  7.2378e-01, -3.5845e-01, -7.8874e-02,  5.4539e-01,\n",
              "         -1.0824e+00, -3.8960e-01,  9.7560e-04, -3.8816e-01, -2.7949e-01,\n",
              "          6.8341e-01,  1.1973e-02,  5.1352e-01,  2.2260e-01,  3.7636e-01,\n",
              "          5.3346e-02,  6.1184e-01, -7.4305e-01,  6.2745e-01,  2.9758e-01,\n",
              "          2.9873e-01, -7.5515e-01,  6.8209e-02, -4.6818e-01,  4.0360e-01,\n",
              "          5.2345e-01,  5.2471e-01, -6.0963e-01,  8.1128e-01, -3.2568e-01,\n",
              "         -7.8974e-01, -8.2996e-01,  3.7537e-01, -3.5042e-01, -2.5204e-01,\n",
              "          5.3042e-01,  2.6221e-01, -4.4070e-01, -7.1126e-02, -3.3026e-01,\n",
              "         -1.5602e-01, -8.3272e-02,  1.4542e-01, -1.5313e-01,  2.2611e-01,\n",
              "          1.5418e-02,  1.4554e-02,  2.9418e-01,  4.4361e-01,  5.1806e-01,\n",
              "         -3.3184e-01, -2.0985e-01,  2.3534e-01, -4.4460e-01,  5.6448e-01,\n",
              "         -3.6772e-01,  7.6782e-01, -3.1288e-03, -7.2524e-02, -4.9625e-01,\n",
              "         -1.3537e-01,  1.1732e-01, -2.1938e-02,  4.4854e-01,  6.3119e-02,\n",
              "         -8.2496e-02,  6.2359e-01,  4.6299e-01, -2.4000e-01, -6.8151e-02,\n",
              "          1.9084e-01,  2.2660e-01,  1.5879e-01,  4.3875e-01,  4.8380e-01,\n",
              "          4.2061e-01, -5.8400e-01, -3.3223e-01,  2.3597e-02, -9.4318e-02,\n",
              "          1.3365e-01,  4.7973e-01,  5.0290e-01,  1.6665e-01,  3.4503e-01,\n",
              "          2.2438e-01, -4.9178e-01,  1.1002e-01,  3.3752e-01, -4.9491e-02,\n",
              "          1.5534e-01, -3.0167e-01, -3.2851e-02,  1.0783e-01, -4.5464e-01,\n",
              "          1.3246e-01,  1.1717e-01, -2.3731e-02,  5.8442e-01, -1.7168e-01,\n",
              "          2.0347e-01,  3.4508e-01,  1.2278e-01, -1.0611e-01,  3.0223e-01,\n",
              "         -4.5900e-01,  2.5275e-01, -8.2895e-01,  2.4632e-01, -2.8056e-01,\n",
              "         -3.6157e-01,  7.8170e-02, -5.0000e-01, -6.0060e-01,  4.6392e-02,\n",
              "          6.2505e-01,  2.9956e-01,  5.8660e-02, -6.2614e-01,  2.7553e-01,\n",
              "          2.7119e-01,  1.6810e-01,  2.1623e-01,  5.7995e-01, -3.5001e-01,\n",
              "         -2.9562e-01,  1.8304e-01, -2.8857e-02,  4.8268e-01,  6.5663e-01,\n",
              "         -4.9579e-01, -4.1113e-01, -4.0287e-01,  6.1793e-01,  4.2142e-01,\n",
              "         -2.6738e-01, -5.1752e-01, -8.1071e-02,  2.0380e-01,  4.6123e-01,\n",
              "         -2.5644e-01,  3.9563e-02, -2.2761e-01,  7.3165e-02, -1.4882e-01,\n",
              "          1.5352e-01,  2.9367e-01,  3.3828e-01, -9.9752e-02,  1.2709e-01,\n",
              "          1.9263e-01,  1.2812e-01, -2.3076e-01, -7.0764e-01,  1.8810e-01,\n",
              "          9.6045e-02, -5.3057e-01,  8.6880e-02,  8.6398e-02, -2.5791e-01,\n",
              "          1.3691e-01, -6.8901e-01, -3.4021e-01,  5.5649e-01,  6.5904e-01,\n",
              "          2.1569e-01, -5.6440e-01, -7.5772e-01, -4.8507e-01,  5.0564e-01,\n",
              "         -7.0208e-02, -1.4895e-01, -1.5119e-01, -7.8455e-01, -4.3131e-01,\n",
              "          7.9706e-02,  1.0295e-01,  2.3026e-01,  4.3048e-01,  1.1951e-01,\n",
              "          1.0087e-01, -3.2127e-01, -8.0203e-01], device='cuda:0'),\n",
              " 'you': tensor([ 1.0544e-01, -1.7592e-01, -1.6792e-01, -1.3773e-01, -1.9187e-01,\n",
              "          3.9008e-01, -3.0527e-01,  5.9016e-01,  5.0244e-02, -9.6419e-02,\n",
              "         -2.2339e-01,  6.0540e-02, -5.0867e-02,  3.6353e-02, -4.5606e-01,\n",
              "          9.8893e-02,  1.6491e-01,  2.9654e-01,  7.4109e-02,  1.0298e+00,\n",
              "         -4.7298e-01,  4.0805e-01, -2.1694e-01,  5.1836e-01, -2.9954e-01,\n",
              "         -1.6120e-01,  4.0081e-02, -2.4062e-01,  6.3624e-01, -4.0886e-02,\n",
              "         -4.2734e-01, -2.4817e-01, -2.3620e-01, -3.2178e-01,  1.6342e-01,\n",
              "          3.6722e-01,  1.3304e-01,  5.6050e-01, -2.0481e-01,  6.4564e-02,\n",
              "          2.4095e-02,  2.9420e-02,  3.0566e-02,  7.2429e-02, -1.6953e-01,\n",
              "         -6.1244e-01,  5.6969e-01, -2.6503e-01,  1.1433e-01, -6.5927e-01,\n",
              "         -4.6442e-01,  6.5322e-02, -5.7165e-01,  4.2013e-01, -8.4296e-02,\n",
              "          4.9134e-01,  2.3784e-02,  4.3545e-01, -6.1722e-01,  3.0104e-01,\n",
              "         -8.9937e-01,  4.5135e-01,  7.0041e-01, -4.1089e-01, -3.7835e-01,\n",
              "          6.2074e-01, -1.4452e-01,  6.0576e-01, -4.6617e-01, -4.2395e-01,\n",
              "          1.3651e-01, -2.6603e-01, -3.5495e-01, -6.2181e-01,  5.5954e-01,\n",
              "         -1.9625e-02, -1.8419e-01, -1.0381e-01, -2.6762e-01,  2.2757e-01,\n",
              "          1.0246e-01, -4.8211e-02, -2.5442e-01,  1.7148e-01, -3.6927e-01,\n",
              "         -2.7297e-01, -7.3350e-01,  3.2248e-01,  4.2465e-01, -8.8604e-01,\n",
              "         -6.0313e-01, -2.8800e-01,  2.2242e-01,  8.4381e-01,  8.9041e-02,\n",
              "         -5.7467e-01,  1.1035e-01,  3.9422e-02,  8.6225e-01,  4.3964e-01,\n",
              "          2.8560e-01, -8.2909e-01, -1.8130e-01, -5.8214e-01, -1.2094e-02,\n",
              "         -6.1435e-02, -3.2768e-01,  3.5585e-02,  5.9649e-01, -9.3323e-01,\n",
              "         -2.1702e-01, -7.5640e-01,  1.8873e-01,  2.3104e-01,  3.5827e-02,\n",
              "          5.4446e-01, -6.4694e-03, -6.1425e-01, -3.4206e-01,  5.2142e-01,\n",
              "         -2.1781e-01, -1.2817e-01,  5.3501e-01,  8.4308e-01, -2.5112e-01,\n",
              "         -3.4747e-01, -4.4572e-02,  3.6333e-01,  7.6915e-02, -1.0717e+00,\n",
              "          5.8619e-01,  9.0944e-01, -5.8386e-02, -1.3331e-01, -2.4464e-01,\n",
              "          2.2279e-01,  9.9717e-01,  1.1005e+00,  3.9064e-01, -3.3754e-01,\n",
              "          9.3061e-01, -1.6443e-01,  2.0314e-01, -7.1068e-01,  8.1898e-01,\n",
              "          5.3051e-01, -3.5890e-01,  2.9839e-01,  9.9117e-01,  2.9027e-01,\n",
              "          2.5084e-01,  6.0069e-01,  1.6315e-01, -9.2590e-02,  1.0743e-01,\n",
              "         -4.1181e-02, -4.6083e-01,  4.7794e-01,  4.1043e-01,  1.3630e-01,\n",
              "          5.2606e-01, -7.0270e-01, -2.8799e-01,  6.1136e-01, -5.6743e-01,\n",
              "          7.5206e-02,  1.6742e-01, -1.1858e-01, -1.4621e-01,  4.6706e-03,\n",
              "         -4.2601e-01, -2.5937e-01,  6.8727e-01,  4.9694e-01, -4.5409e-01,\n",
              "         -8.4985e-01, -2.5049e-02,  8.2348e-01,  2.0148e-01, -2.9436e-01,\n",
              "         -4.9451e-01,  8.4670e-01,  1.9385e-01, -6.5714e-01, -2.1087e-01,\n",
              "          3.0620e-01,  6.5754e-01, -7.7582e-01, -5.1988e-01,  5.9143e-01,\n",
              "          1.2274e+00, -3.6301e-01, -5.5942e-02, -2.5482e-01,  8.3643e-01,\n",
              "         -1.1363e+00, -6.1164e-01, -3.1106e-01, -1.1835e-01, -4.3767e-04,\n",
              "         -1.8828e-01, -1.4578e-01,  4.5052e-01,  4.9230e-02,  1.3773e-01,\n",
              "          1.2549e+00, -1.5805e-02, -6.0876e-01,  4.2934e-01,  3.2589e-01,\n",
              "         -5.4575e-01, -7.8083e-02, -1.7759e-01, -1.8320e-01,  7.3502e-01,\n",
              "          3.6512e-01, -1.0094e-01, -8.2934e-02, -5.5825e-01, -2.8821e-01,\n",
              "          5.7841e-01, -3.8874e-01, -2.9617e-01, -4.1614e-02, -2.3652e-01,\n",
              "          7.7254e-01, -4.2450e-01,  1.0767e+00, -3.7479e-01, -2.2642e-02,\n",
              "         -5.9625e-01, -2.2278e-02,  5.0207e-01,  4.7514e-01,  1.8574e-01,\n",
              "         -3.2930e-01, -2.6038e-01, -1.7405e-01, -1.5724e-01, -5.4246e-02,\n",
              "         -1.1658e-02,  8.7735e-03, -3.5891e-02,  9.3701e-01, -9.3209e-01,\n",
              "          5.1923e-01,  2.1513e-01, -2.2467e-01, -6.6279e-01, -1.6932e-02,\n",
              "         -3.1566e-01, -1.3055e+00,  3.9124e-01, -2.8259e-02,  3.7729e-01,\n",
              "         -1.7883e-01, -3.8486e-01,  1.5725e-01, -4.7659e-01,  5.2832e-01,\n",
              "         -1.8082e-01,  6.7370e-01,  4.1538e-01, -1.5297e-01, -3.9463e-01,\n",
              "          2.9949e-01, -1.8974e-01,  6.0230e-01,  5.8301e-01,  1.7035e-01,\n",
              "          2.5157e-01, -2.3064e-02,  6.2293e-02, -4.7533e-01, -4.5802e-01,\n",
              "          4.6091e-02,  9.1098e-01,  2.9521e-01, -2.9026e-01,  4.3547e-02,\n",
              "         -3.5425e-01,  7.9520e-01, -4.1133e-02,  6.9536e-01,  3.1578e-01,\n",
              "          3.9397e-02,  4.3245e-02, -2.1262e-01, -6.6103e-01, -6.9246e-01,\n",
              "         -4.2115e-01,  7.4262e-01, -1.7642e-01, -3.1946e-01,  5.7188e-01,\n",
              "         -1.0358e+00,  2.1994e-01, -1.3929e-03,  2.4850e-01,  3.4431e-01,\n",
              "          2.3514e-01, -3.2855e-01, -1.8870e-01,  4.0289e-01, -2.0397e-01,\n",
              "         -1.6233e-01, -5.5565e-01, -8.9718e-01, -4.0075e+00, -1.1278e+00,\n",
              "         -3.6657e-01, -3.8772e-01, -9.7771e-02, -1.1382e+00,  2.1213e-01,\n",
              "          2.1563e-01, -1.8727e-01, -1.8913e-01,  5.9576e-01, -7.4310e-01,\n",
              "         -4.1910e-01,  1.1137e-01,  4.8849e-01,  1.0332e-01,  3.2030e-01,\n",
              "         -6.6798e-01,  4.7975e-02,  1.3719e+00,  1.0659e-01,  3.5234e-01,\n",
              "          3.4218e-01, -1.1847e-01, -5.4574e-01,  1.2787e+00,  4.2121e-02,\n",
              "         -4.1555e-01, -1.0045e+00,  3.2833e-01, -8.4671e-01,  8.8981e-01,\n",
              "         -1.9991e-01,  5.8978e-02,  4.9037e-01, -5.3502e-02, -4.8336e-01,\n",
              "          2.6522e-01,  5.5538e-01, -3.6016e-01,  1.1930e-01,  6.0286e-01,\n",
              "         -3.5977e-01, -7.0673e-03,  1.1415e+00,  5.3481e-01,  4.4624e-01,\n",
              "         -6.1697e-01,  6.1480e-01,  6.4450e-01, -2.0696e-01, -3.2888e-01,\n",
              "          7.1505e-01, -2.8904e-01,  2.4036e-01,  2.0243e-01,  5.6986e-01,\n",
              "          3.5082e-01,  2.9138e-01, -4.4419e-01, -1.3905e-01, -3.0403e-02,\n",
              "         -9.7717e-02,  4.1326e-01, -4.4926e-02, -6.4892e-01, -1.0665e+00,\n",
              "          9.2493e-02,  3.3040e-01,  6.0904e-01, -2.4151e-01,  5.8068e-01,\n",
              "          4.8304e-02, -1.0415e+00, -6.0162e-01,  5.7088e-01, -1.5478e-01,\n",
              "         -2.1638e-02, -1.6697e-01,  1.1911e-02, -8.9451e-01, -6.2093e-01,\n",
              "         -3.6784e-01, -1.5553e-01, -4.2489e-01, -6.1478e-01,  9.9404e-01,\n",
              "         -3.3859e-01,  6.3262e-02, -1.4675e-01,  6.9619e-01,  2.0282e-01,\n",
              "          5.1350e-01,  6.3107e-01,  2.6291e-01, -4.8479e-01,  5.7232e-01,\n",
              "         -8.1520e-01, -4.8155e-01, -2.6621e-01, -6.3394e-01, -1.9863e-01,\n",
              "          7.7353e-01,  4.5763e-01,  1.1318e+00,  3.6207e-01, -8.9700e-01,\n",
              "         -4.0779e-01, -1.6183e-02,  4.0387e-01, -4.6160e-01, -2.3014e-01,\n",
              "         -1.4914e-01,  1.7932e-01, -4.6741e-01, -4.5991e-02,  5.7250e-01,\n",
              "          1.3932e-01, -3.0255e-01,  3.7517e-01,  2.9683e-02,  7.3588e-01,\n",
              "          2.2550e-01, -8.0049e-01, -3.2352e-01, -3.4715e-01, -3.5002e-01,\n",
              "         -1.2740e+00, -1.8375e-01,  3.8601e-01,  2.8354e-01,  2.0851e-01,\n",
              "          1.1601e-01, -3.2472e-01,  3.6885e-01, -1.4761e-01, -5.0914e-01,\n",
              "         -4.4158e-01,  3.1679e-01,  3.9123e-01, -3.5883e-01,  1.6687e-02,\n",
              "         -2.8835e-01,  1.5747e-01, -6.0228e-01, -6.9711e-02, -1.0363e+00,\n",
              "         -6.2892e-01,  2.1111e-01,  6.0572e-01, -2.2968e-01, -2.5934e-02,\n",
              "         -1.9859e-01, -2.7770e-01, -1.3163e-01, -4.9810e-01,  1.8992e-01,\n",
              "         -1.7615e-01,  1.5103e-01, -3.7857e-01, -5.5092e-01,  1.0858e+00,\n",
              "         -6.0106e-01, -1.8530e-01,  5.4948e-01,  9.9042e-01,  6.0331e-01,\n",
              "          2.6547e-01, -6.5180e-01,  4.7186e-01, -1.1640e-01,  3.4489e-01,\n",
              "          1.4786e-01, -5.8579e-01, -6.8457e-01,  2.1518e-02,  2.6139e-01,\n",
              "          2.5510e-01, -6.5841e-01,  2.0663e-01, -5.7672e-02, -5.4979e-01,\n",
              "         -3.4339e-01, -3.3539e-01,  6.3409e-02, -1.4157e-01, -5.7945e-01,\n",
              "         -2.9752e-01, -3.1757e-02,  2.4006e-01, -3.9061e-01,  1.8404e-01,\n",
              "         -4.1166e-01, -6.6655e-01, -1.1643e+00, -9.9164e-01,  2.4394e-01,\n",
              "         -6.3428e-01,  4.4606e-01,  3.7274e-01,  2.0888e-01, -4.0971e-02,\n",
              "         -6.9454e-02,  3.2244e-01, -2.3812e-01, -4.5808e-01, -1.4253e-01,\n",
              "          1.4433e-01, -3.5084e-01,  9.7488e-02, -4.6946e-01,  2.4749e-01,\n",
              "         -9.5913e-01, -8.3773e-01, -1.5322e-01, -1.2293e-01, -3.7815e-02,\n",
              "         -3.2979e-02,  1.0819e-01, -1.8797e-01, -4.2049e-01, -4.4403e-01,\n",
              "         -7.1372e-01, -3.5126e-01, -1.0649e-01,  1.6130e-01, -5.6806e-01,\n",
              "         -4.3569e-01, -7.0633e-01, -5.2208e-01,  1.4790e-01, -3.9605e-01,\n",
              "          9.4523e-01,  1.2482e+00,  8.5217e-01, -7.5016e-01, -2.0978e-01,\n",
              "          1.3335e-01,  1.6586e-01,  6.1666e-01, -2.2876e-01, -1.3826e-01,\n",
              "         -2.3859e-04, -1.8758e-01, -7.7685e-03, -7.4930e-01,  4.3570e-02,\n",
              "          2.4817e-01, -4.7044e-01,  5.4308e-01,  7.0107e-01, -1.6901e-01,\n",
              "          1.9169e-01, -9.8231e-01, -2.2011e-01, -2.5912e-01, -7.4891e-01,\n",
              "          2.6366e-01,  4.0632e-01, -4.5717e-03,  2.4491e-01,  4.8827e-01,\n",
              "          7.2246e-01, -3.5594e-01, -5.0419e-01,  5.2722e-01,  1.0793e-01,\n",
              "          2.3749e-01, -2.0175e-01, -1.7403e-02,  3.5055e-01,  2.4803e-01,\n",
              "          1.7451e-01, -3.6744e-03,  6.8447e-01, -2.8208e-01, -3.4745e-01,\n",
              "         -9.8341e-02, -4.1867e-01,  1.3110e-01,  5.0941e-01,  8.9552e-01,\n",
              "         -4.4980e-02, -9.1052e-01, -9.8690e-02, -3.7719e-01, -2.9852e-01,\n",
              "          7.3089e-01, -4.4002e-01,  4.2512e-01, -2.5234e-01,  5.6303e-01,\n",
              "          4.7528e-01,  5.4067e-02,  4.3321e-01,  4.6353e-01,  4.2165e-01,\n",
              "         -1.2268e-01, -6.0523e-01,  2.5958e-01, -2.9288e-01,  4.8083e-01,\n",
              "          3.9549e-01,  8.7493e-01, -7.4151e-02,  3.6936e-01,  3.8395e-01,\n",
              "         -6.7434e-01,  3.3527e-01,  7.1862e-01, -7.2294e-01,  3.4096e-01,\n",
              "          6.8568e-01,  2.8179e-01,  2.6948e-01, -6.3569e-02,  3.3513e-01,\n",
              "         -6.8769e-02, -7.2417e-01,  2.6570e-01,  2.3638e-01, -1.0208e+00,\n",
              "          1.5754e-01, -2.6444e-01,  7.5969e-02, -3.4046e-01, -4.9865e-01,\n",
              "          1.7447e-01,  1.2357e-01,  4.9731e-01,  1.5861e-01,  4.2413e-01,\n",
              "         -2.3571e-01,  9.7292e-01,  2.1048e-01,  4.1285e-01,  4.8464e-02,\n",
              "         -4.1012e-01,  1.7046e-01, -2.2636e-01, -4.8581e-02,  6.8579e-01,\n",
              "          9.6163e-01,  2.2345e-02,  5.4144e-02,  1.5039e-01, -6.1598e-01,\n",
              "         -1.8905e-01,  1.3119e+00,  2.0385e-01,  4.5928e-01,  8.5381e-02,\n",
              "         -3.1271e-01, -1.4825e-01,  5.9325e-01, -7.8209e-02, -2.5917e-03,\n",
              "          1.0435e+00, -5.7033e-01, -7.2575e-01,  1.0409e-01,  2.0035e-02,\n",
              "          2.9219e-01, -4.9655e-01,  1.1925e-01,  1.6689e-01,  3.3382e-01,\n",
              "          4.6910e-02, -3.7383e-01,  9.0398e-02, -2.2759e-01,  3.7654e-01,\n",
              "         -3.3507e-01,  1.1372e+00, -2.2943e-01,  1.3910e+00,  4.9258e-01,\n",
              "         -8.5002e-02,  3.5593e-02,  2.0670e-01,  9.4110e-01,  3.4484e-01,\n",
              "         -5.7778e-01, -3.8736e-01,  2.8569e-02, -5.8051e-01, -4.6342e-01,\n",
              "         -4.3782e-01,  5.4257e-01,  2.7738e-01,  1.2225e+00, -5.2808e-01,\n",
              "          2.9204e-01, -4.4408e-01, -1.3788e-01, -6.4184e-01, -3.4220e-02,\n",
              "          8.6595e-01, -1.0485e-01, -3.2972e-01,  6.3664e-01,  5.2699e-02,\n",
              "          6.5759e-01, -4.1058e-01, -1.8880e-01,  7.9936e-01, -6.9050e-01,\n",
              "         -6.5365e-01, -8.9349e-01, -1.0806e+00,  7.7278e-01,  5.1320e-01,\n",
              "         -6.2440e-01,  3.4301e-01,  2.5256e-01,  6.9291e-01,  4.8708e-01,\n",
              "         -4.1852e-01, -6.4404e-01, -3.0594e-02,  1.5571e-01, -9.5206e-02,\n",
              "          7.3188e-02,  3.1095e-01,  1.9398e-01,  1.2233e-02,  1.4579e-01,\n",
              "          8.5479e-01, -4.3437e-01, -1.0448e+00, -4.7459e-01, -1.2951e-01,\n",
              "          4.6504e-01, -5.8236e-01, -2.6409e-01, -4.0664e-01,  6.9454e-01,\n",
              "          3.1051e-01,  2.0257e-01, -7.2416e-01,  2.7146e-01, -3.3114e-01,\n",
              "         -1.0330e+00, -8.2945e-01, -2.1077e+00, -6.5341e-01, -6.8880e-01,\n",
              "         -5.3506e-01, -4.4443e-01,  2.3355e-01,  8.3755e-02, -2.5864e-01,\n",
              "          5.5705e-01,  1.6004e-01,  2.8881e-01,  1.3121e-01,  3.1690e-03,\n",
              "         -5.3238e-02,  1.0252e+00, -1.5524e-01], device='cuda:0')}"
            ]
          },
          "metadata": {
            "tags": []
          },
          "execution_count": 49
        }
      ]
    }
  ]
}