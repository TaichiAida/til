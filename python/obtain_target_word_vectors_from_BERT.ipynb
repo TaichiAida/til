{
  "nbformat": 4,
  "nbformat_minor": 0,
  "metadata": {
    "colab": {
      "name": "BERT_Embeddings.ipynb",
      "provenance": [],
      "toc_visible": true
    },
    "kernelspec": {
      "name": "python3",
      "display_name": "Python 3"
    },
    "widgets": {
      "application/vnd.jupyter.widget-state+json": {
        "9d075d410467488283ebc07863923586": {
          "model_module": "@jupyter-widgets/controls",
          "model_name": "HBoxModel",
          "state": {
            "_view_name": "HBoxView",
            "_dom_classes": [],
            "_model_name": "HBoxModel",
            "_view_module": "@jupyter-widgets/controls",
            "_model_module_version": "1.5.0",
            "_view_count": null,
            "_view_module_version": "1.5.0",
            "box_style": "",
            "layout": "IPY_MODEL_d7ebf942d4c143198c5c4a7ddc7f29ab",
            "_model_module": "@jupyter-widgets/controls",
            "children": [
              "IPY_MODEL_3452265f257c4ebbaa7b786595ecdb9b",
              "IPY_MODEL_eaa328774d2246ae9e4f0fed3516e062"
            ]
          }
        },
        "d7ebf942d4c143198c5c4a7ddc7f29ab": {
          "model_module": "@jupyter-widgets/base",
          "model_name": "LayoutModel",
          "state": {
            "_view_name": "LayoutView",
            "grid_template_rows": null,
            "right": null,
            "justify_content": null,
            "_view_module": "@jupyter-widgets/base",
            "overflow": null,
            "_model_module_version": "1.2.0",
            "_view_count": null,
            "flex_flow": null,
            "width": null,
            "min_width": null,
            "border": null,
            "align_items": null,
            "bottom": null,
            "_model_module": "@jupyter-widgets/base",
            "top": null,
            "grid_column": null,
            "overflow_y": null,
            "overflow_x": null,
            "grid_auto_flow": null,
            "grid_area": null,
            "grid_template_columns": null,
            "flex": null,
            "_model_name": "LayoutModel",
            "justify_items": null,
            "grid_row": null,
            "max_height": null,
            "align_content": null,
            "visibility": null,
            "align_self": null,
            "height": null,
            "min_height": null,
            "padding": null,
            "grid_auto_rows": null,
            "grid_gap": null,
            "max_width": null,
            "order": null,
            "_view_module_version": "1.2.0",
            "grid_template_areas": null,
            "object_position": null,
            "object_fit": null,
            "grid_auto_columns": null,
            "margin": null,
            "display": null,
            "left": null
          }
        },
        "3452265f257c4ebbaa7b786595ecdb9b": {
          "model_module": "@jupyter-widgets/controls",
          "model_name": "FloatProgressModel",
          "state": {
            "_view_name": "ProgressView",
            "style": "IPY_MODEL_52108624fc084c1698ce1fbb5259a338",
            "_dom_classes": [],
            "description": "Downloading: 100%",
            "_model_name": "FloatProgressModel",
            "bar_style": "success",
            "max": 433,
            "_view_module": "@jupyter-widgets/controls",
            "_model_module_version": "1.5.0",
            "value": 433,
            "_view_count": null,
            "_view_module_version": "1.5.0",
            "orientation": "horizontal",
            "min": 0,
            "description_tooltip": null,
            "_model_module": "@jupyter-widgets/controls",
            "layout": "IPY_MODEL_fc2882d255714e6f9f52909cb16c3fa7"
          }
        },
        "eaa328774d2246ae9e4f0fed3516e062": {
          "model_module": "@jupyter-widgets/controls",
          "model_name": "HTMLModel",
          "state": {
            "_view_name": "HTMLView",
            "style": "IPY_MODEL_4a8effda71a14254bf892115c60c36a8",
            "_dom_classes": [],
            "description": "",
            "_model_name": "HTMLModel",
            "placeholder": "​",
            "_view_module": "@jupyter-widgets/controls",
            "_model_module_version": "1.5.0",
            "value": " 433/433 [00:42&lt;00:00, 10.2B/s]",
            "_view_count": null,
            "_view_module_version": "1.5.0",
            "description_tooltip": null,
            "_model_module": "@jupyter-widgets/controls",
            "layout": "IPY_MODEL_cdecb6af4a654ba583074049014cffd5"
          }
        },
        "52108624fc084c1698ce1fbb5259a338": {
          "model_module": "@jupyter-widgets/controls",
          "model_name": "ProgressStyleModel",
          "state": {
            "_view_name": "StyleView",
            "_model_name": "ProgressStyleModel",
            "description_width": "initial",
            "_view_module": "@jupyter-widgets/base",
            "_model_module_version": "1.5.0",
            "_view_count": null,
            "_view_module_version": "1.2.0",
            "bar_color": null,
            "_model_module": "@jupyter-widgets/controls"
          }
        },
        "fc2882d255714e6f9f52909cb16c3fa7": {
          "model_module": "@jupyter-widgets/base",
          "model_name": "LayoutModel",
          "state": {
            "_view_name": "LayoutView",
            "grid_template_rows": null,
            "right": null,
            "justify_content": null,
            "_view_module": "@jupyter-widgets/base",
            "overflow": null,
            "_model_module_version": "1.2.0",
            "_view_count": null,
            "flex_flow": null,
            "width": null,
            "min_width": null,
            "border": null,
            "align_items": null,
            "bottom": null,
            "_model_module": "@jupyter-widgets/base",
            "top": null,
            "grid_column": null,
            "overflow_y": null,
            "overflow_x": null,
            "grid_auto_flow": null,
            "grid_area": null,
            "grid_template_columns": null,
            "flex": null,
            "_model_name": "LayoutModel",
            "justify_items": null,
            "grid_row": null,
            "max_height": null,
            "align_content": null,
            "visibility": null,
            "align_self": null,
            "height": null,
            "min_height": null,
            "padding": null,
            "grid_auto_rows": null,
            "grid_gap": null,
            "max_width": null,
            "order": null,
            "_view_module_version": "1.2.0",
            "grid_template_areas": null,
            "object_position": null,
            "object_fit": null,
            "grid_auto_columns": null,
            "margin": null,
            "display": null,
            "left": null
          }
        },
        "4a8effda71a14254bf892115c60c36a8": {
          "model_module": "@jupyter-widgets/controls",
          "model_name": "DescriptionStyleModel",
          "state": {
            "_view_name": "StyleView",
            "_model_name": "DescriptionStyleModel",
            "description_width": "",
            "_view_module": "@jupyter-widgets/base",
            "_model_module_version": "1.5.0",
            "_view_count": null,
            "_view_module_version": "1.2.0",
            "_model_module": "@jupyter-widgets/controls"
          }
        },
        "cdecb6af4a654ba583074049014cffd5": {
          "model_module": "@jupyter-widgets/base",
          "model_name": "LayoutModel",
          "state": {
            "_view_name": "LayoutView",
            "grid_template_rows": null,
            "right": null,
            "justify_content": null,
            "_view_module": "@jupyter-widgets/base",
            "overflow": null,
            "_model_module_version": "1.2.0",
            "_view_count": null,
            "flex_flow": null,
            "width": null,
            "min_width": null,
            "border": null,
            "align_items": null,
            "bottom": null,
            "_model_module": "@jupyter-widgets/base",
            "top": null,
            "grid_column": null,
            "overflow_y": null,
            "overflow_x": null,
            "grid_auto_flow": null,
            "grid_area": null,
            "grid_template_columns": null,
            "flex": null,
            "_model_name": "LayoutModel",
            "justify_items": null,
            "grid_row": null,
            "max_height": null,
            "align_content": null,
            "visibility": null,
            "align_self": null,
            "height": null,
            "min_height": null,
            "padding": null,
            "grid_auto_rows": null,
            "grid_gap": null,
            "max_width": null,
            "order": null,
            "_view_module_version": "1.2.0",
            "grid_template_areas": null,
            "object_position": null,
            "object_fit": null,
            "grid_auto_columns": null,
            "margin": null,
            "display": null,
            "left": null
          }
        },
        "469bc2d6027d4befb563b14c3c36c801": {
          "model_module": "@jupyter-widgets/controls",
          "model_name": "HBoxModel",
          "state": {
            "_view_name": "HBoxView",
            "_dom_classes": [],
            "_model_name": "HBoxModel",
            "_view_module": "@jupyter-widgets/controls",
            "_model_module_version": "1.5.0",
            "_view_count": null,
            "_view_module_version": "1.5.0",
            "box_style": "",
            "layout": "IPY_MODEL_1b65f3b6bdd44d8bb644f1385185d1bd",
            "_model_module": "@jupyter-widgets/controls",
            "children": [
              "IPY_MODEL_02b95e6533de47799a12256154be2db8",
              "IPY_MODEL_036a1cf418b546889a58478afee81beb"
            ]
          }
        },
        "1b65f3b6bdd44d8bb644f1385185d1bd": {
          "model_module": "@jupyter-widgets/base",
          "model_name": "LayoutModel",
          "state": {
            "_view_name": "LayoutView",
            "grid_template_rows": null,
            "right": null,
            "justify_content": null,
            "_view_module": "@jupyter-widgets/base",
            "overflow": null,
            "_model_module_version": "1.2.0",
            "_view_count": null,
            "flex_flow": null,
            "width": null,
            "min_width": null,
            "border": null,
            "align_items": null,
            "bottom": null,
            "_model_module": "@jupyter-widgets/base",
            "top": null,
            "grid_column": null,
            "overflow_y": null,
            "overflow_x": null,
            "grid_auto_flow": null,
            "grid_area": null,
            "grid_template_columns": null,
            "flex": null,
            "_model_name": "LayoutModel",
            "justify_items": null,
            "grid_row": null,
            "max_height": null,
            "align_content": null,
            "visibility": null,
            "align_self": null,
            "height": null,
            "min_height": null,
            "padding": null,
            "grid_auto_rows": null,
            "grid_gap": null,
            "max_width": null,
            "order": null,
            "_view_module_version": "1.2.0",
            "grid_template_areas": null,
            "object_position": null,
            "object_fit": null,
            "grid_auto_columns": null,
            "margin": null,
            "display": null,
            "left": null
          }
        },
        "02b95e6533de47799a12256154be2db8": {
          "model_module": "@jupyter-widgets/controls",
          "model_name": "FloatProgressModel",
          "state": {
            "_view_name": "ProgressView",
            "style": "IPY_MODEL_3690cb40a6fe4823b3f93d3afc1d2a96",
            "_dom_classes": [],
            "description": "Downloading: 100%",
            "_model_name": "FloatProgressModel",
            "bar_style": "success",
            "max": 440473133,
            "_view_module": "@jupyter-widgets/controls",
            "_model_module_version": "1.5.0",
            "value": 440473133,
            "_view_count": null,
            "_view_module_version": "1.5.0",
            "orientation": "horizontal",
            "min": 0,
            "description_tooltip": null,
            "_model_module": "@jupyter-widgets/controls",
            "layout": "IPY_MODEL_cd2fa1fe364747499939699c1f163a2b"
          }
        },
        "036a1cf418b546889a58478afee81beb": {
          "model_module": "@jupyter-widgets/controls",
          "model_name": "HTMLModel",
          "state": {
            "_view_name": "HTMLView",
            "style": "IPY_MODEL_1d35f646c46c456a878d621e11d1e9f1",
            "_dom_classes": [],
            "description": "",
            "_model_name": "HTMLModel",
            "placeholder": "​",
            "_view_module": "@jupyter-widgets/controls",
            "_model_module_version": "1.5.0",
            "value": " 440M/440M [00:38&lt;00:00, 11.3MB/s]",
            "_view_count": null,
            "_view_module_version": "1.5.0",
            "description_tooltip": null,
            "_model_module": "@jupyter-widgets/controls",
            "layout": "IPY_MODEL_1a0da179304a467cb311a3bf326fcb41"
          }
        },
        "3690cb40a6fe4823b3f93d3afc1d2a96": {
          "model_module": "@jupyter-widgets/controls",
          "model_name": "ProgressStyleModel",
          "state": {
            "_view_name": "StyleView",
            "_model_name": "ProgressStyleModel",
            "description_width": "initial",
            "_view_module": "@jupyter-widgets/base",
            "_model_module_version": "1.5.0",
            "_view_count": null,
            "_view_module_version": "1.2.0",
            "bar_color": null,
            "_model_module": "@jupyter-widgets/controls"
          }
        },
        "cd2fa1fe364747499939699c1f163a2b": {
          "model_module": "@jupyter-widgets/base",
          "model_name": "LayoutModel",
          "state": {
            "_view_name": "LayoutView",
            "grid_template_rows": null,
            "right": null,
            "justify_content": null,
            "_view_module": "@jupyter-widgets/base",
            "overflow": null,
            "_model_module_version": "1.2.0",
            "_view_count": null,
            "flex_flow": null,
            "width": null,
            "min_width": null,
            "border": null,
            "align_items": null,
            "bottom": null,
            "_model_module": "@jupyter-widgets/base",
            "top": null,
            "grid_column": null,
            "overflow_y": null,
            "overflow_x": null,
            "grid_auto_flow": null,
            "grid_area": null,
            "grid_template_columns": null,
            "flex": null,
            "_model_name": "LayoutModel",
            "justify_items": null,
            "grid_row": null,
            "max_height": null,
            "align_content": null,
            "visibility": null,
            "align_self": null,
            "height": null,
            "min_height": null,
            "padding": null,
            "grid_auto_rows": null,
            "grid_gap": null,
            "max_width": null,
            "order": null,
            "_view_module_version": "1.2.0",
            "grid_template_areas": null,
            "object_position": null,
            "object_fit": null,
            "grid_auto_columns": null,
            "margin": null,
            "display": null,
            "left": null
          }
        },
        "1d35f646c46c456a878d621e11d1e9f1": {
          "model_module": "@jupyter-widgets/controls",
          "model_name": "DescriptionStyleModel",
          "state": {
            "_view_name": "StyleView",
            "_model_name": "DescriptionStyleModel",
            "description_width": "",
            "_view_module": "@jupyter-widgets/base",
            "_model_module_version": "1.5.0",
            "_view_count": null,
            "_view_module_version": "1.2.0",
            "_model_module": "@jupyter-widgets/controls"
          }
        },
        "1a0da179304a467cb311a3bf326fcb41": {
          "model_module": "@jupyter-widgets/base",
          "model_name": "LayoutModel",
          "state": {
            "_view_name": "LayoutView",
            "grid_template_rows": null,
            "right": null,
            "justify_content": null,
            "_view_module": "@jupyter-widgets/base",
            "overflow": null,
            "_model_module_version": "1.2.0",
            "_view_count": null,
            "flex_flow": null,
            "width": null,
            "min_width": null,
            "border": null,
            "align_items": null,
            "bottom": null,
            "_model_module": "@jupyter-widgets/base",
            "top": null,
            "grid_column": null,
            "overflow_y": null,
            "overflow_x": null,
            "grid_auto_flow": null,
            "grid_area": null,
            "grid_template_columns": null,
            "flex": null,
            "_model_name": "LayoutModel",
            "justify_items": null,
            "grid_row": null,
            "max_height": null,
            "align_content": null,
            "visibility": null,
            "align_self": null,
            "height": null,
            "min_height": null,
            "padding": null,
            "grid_auto_rows": null,
            "grid_gap": null,
            "max_width": null,
            "order": null,
            "_view_module_version": "1.2.0",
            "grid_template_areas": null,
            "object_position": null,
            "object_fit": null,
            "grid_auto_columns": null,
            "margin": null,
            "display": null,
            "left": null
          }
        },
        "657981bb957a4188a9ae31ba5d81e464": {
          "model_module": "@jupyter-widgets/controls",
          "model_name": "HBoxModel",
          "state": {
            "_view_name": "HBoxView",
            "_dom_classes": [],
            "_model_name": "HBoxModel",
            "_view_module": "@jupyter-widgets/controls",
            "_model_module_version": "1.5.0",
            "_view_count": null,
            "_view_module_version": "1.5.0",
            "box_style": "",
            "layout": "IPY_MODEL_ec9690b72ab8468498d02fb731ea123c",
            "_model_module": "@jupyter-widgets/controls",
            "children": [
              "IPY_MODEL_743e29b81af34ae8be8dfbde9b003937",
              "IPY_MODEL_908aae2cd02e413bbee1668481cb35c6"
            ]
          }
        },
        "ec9690b72ab8468498d02fb731ea123c": {
          "model_module": "@jupyter-widgets/base",
          "model_name": "LayoutModel",
          "state": {
            "_view_name": "LayoutView",
            "grid_template_rows": null,
            "right": null,
            "justify_content": null,
            "_view_module": "@jupyter-widgets/base",
            "overflow": null,
            "_model_module_version": "1.2.0",
            "_view_count": null,
            "flex_flow": null,
            "width": null,
            "min_width": null,
            "border": null,
            "align_items": null,
            "bottom": null,
            "_model_module": "@jupyter-widgets/base",
            "top": null,
            "grid_column": null,
            "overflow_y": null,
            "overflow_x": null,
            "grid_auto_flow": null,
            "grid_area": null,
            "grid_template_columns": null,
            "flex": null,
            "_model_name": "LayoutModel",
            "justify_items": null,
            "grid_row": null,
            "max_height": null,
            "align_content": null,
            "visibility": null,
            "align_self": null,
            "height": null,
            "min_height": null,
            "padding": null,
            "grid_auto_rows": null,
            "grid_gap": null,
            "max_width": null,
            "order": null,
            "_view_module_version": "1.2.0",
            "grid_template_areas": null,
            "object_position": null,
            "object_fit": null,
            "grid_auto_columns": null,
            "margin": null,
            "display": null,
            "left": null
          }
        },
        "743e29b81af34ae8be8dfbde9b003937": {
          "model_module": "@jupyter-widgets/controls",
          "model_name": "FloatProgressModel",
          "state": {
            "_view_name": "ProgressView",
            "style": "IPY_MODEL_334d6d261fee41d6a6331211b133c1db",
            "_dom_classes": [],
            "description": "Downloading: 100%",
            "_model_name": "FloatProgressModel",
            "bar_style": "success",
            "max": 231508,
            "_view_module": "@jupyter-widgets/controls",
            "_model_module_version": "1.5.0",
            "value": 231508,
            "_view_count": null,
            "_view_module_version": "1.5.0",
            "orientation": "horizontal",
            "min": 0,
            "description_tooltip": null,
            "_model_module": "@jupyter-widgets/controls",
            "layout": "IPY_MODEL_7210ba90a7d548a08fce80f3db6cea34"
          }
        },
        "908aae2cd02e413bbee1668481cb35c6": {
          "model_module": "@jupyter-widgets/controls",
          "model_name": "HTMLModel",
          "state": {
            "_view_name": "HTMLView",
            "style": "IPY_MODEL_5a1e796c22014624a013eaa6aa5e3b75",
            "_dom_classes": [],
            "description": "",
            "_model_name": "HTMLModel",
            "placeholder": "​",
            "_view_module": "@jupyter-widgets/controls",
            "_model_module_version": "1.5.0",
            "value": " 232k/232k [00:00&lt;00:00, 1.96MB/s]",
            "_view_count": null,
            "_view_module_version": "1.5.0",
            "description_tooltip": null,
            "_model_module": "@jupyter-widgets/controls",
            "layout": "IPY_MODEL_c967c371461e4f20bda08a981d7d23e4"
          }
        },
        "334d6d261fee41d6a6331211b133c1db": {
          "model_module": "@jupyter-widgets/controls",
          "model_name": "ProgressStyleModel",
          "state": {
            "_view_name": "StyleView",
            "_model_name": "ProgressStyleModel",
            "description_width": "initial",
            "_view_module": "@jupyter-widgets/base",
            "_model_module_version": "1.5.0",
            "_view_count": null,
            "_view_module_version": "1.2.0",
            "bar_color": null,
            "_model_module": "@jupyter-widgets/controls"
          }
        },
        "7210ba90a7d548a08fce80f3db6cea34": {
          "model_module": "@jupyter-widgets/base",
          "model_name": "LayoutModel",
          "state": {
            "_view_name": "LayoutView",
            "grid_template_rows": null,
            "right": null,
            "justify_content": null,
            "_view_module": "@jupyter-widgets/base",
            "overflow": null,
            "_model_module_version": "1.2.0",
            "_view_count": null,
            "flex_flow": null,
            "width": null,
            "min_width": null,
            "border": null,
            "align_items": null,
            "bottom": null,
            "_model_module": "@jupyter-widgets/base",
            "top": null,
            "grid_column": null,
            "overflow_y": null,
            "overflow_x": null,
            "grid_auto_flow": null,
            "grid_area": null,
            "grid_template_columns": null,
            "flex": null,
            "_model_name": "LayoutModel",
            "justify_items": null,
            "grid_row": null,
            "max_height": null,
            "align_content": null,
            "visibility": null,
            "align_self": null,
            "height": null,
            "min_height": null,
            "padding": null,
            "grid_auto_rows": null,
            "grid_gap": null,
            "max_width": null,
            "order": null,
            "_view_module_version": "1.2.0",
            "grid_template_areas": null,
            "object_position": null,
            "object_fit": null,
            "grid_auto_columns": null,
            "margin": null,
            "display": null,
            "left": null
          }
        },
        "5a1e796c22014624a013eaa6aa5e3b75": {
          "model_module": "@jupyter-widgets/controls",
          "model_name": "DescriptionStyleModel",
          "state": {
            "_view_name": "StyleView",
            "_model_name": "DescriptionStyleModel",
            "description_width": "",
            "_view_module": "@jupyter-widgets/base",
            "_model_module_version": "1.5.0",
            "_view_count": null,
            "_view_module_version": "1.2.0",
            "_model_module": "@jupyter-widgets/controls"
          }
        },
        "c967c371461e4f20bda08a981d7d23e4": {
          "model_module": "@jupyter-widgets/base",
          "model_name": "LayoutModel",
          "state": {
            "_view_name": "LayoutView",
            "grid_template_rows": null,
            "right": null,
            "justify_content": null,
            "_view_module": "@jupyter-widgets/base",
            "overflow": null,
            "_model_module_version": "1.2.0",
            "_view_count": null,
            "flex_flow": null,
            "width": null,
            "min_width": null,
            "border": null,
            "align_items": null,
            "bottom": null,
            "_model_module": "@jupyter-widgets/base",
            "top": null,
            "grid_column": null,
            "overflow_y": null,
            "overflow_x": null,
            "grid_auto_flow": null,
            "grid_area": null,
            "grid_template_columns": null,
            "flex": null,
            "_model_name": "LayoutModel",
            "justify_items": null,
            "grid_row": null,
            "max_height": null,
            "align_content": null,
            "visibility": null,
            "align_self": null,
            "height": null,
            "min_height": null,
            "padding": null,
            "grid_auto_rows": null,
            "grid_gap": null,
            "max_width": null,
            "order": null,
            "_view_module_version": "1.2.0",
            "grid_template_areas": null,
            "object_position": null,
            "object_fit": null,
            "grid_auto_columns": null,
            "margin": null,
            "display": null,
            "left": null
          }
        }
      }
    }
  },
  "cells": [
    {
      "cell_type": "markdown",
      "metadata": {
        "id": "wVNJLrCin2Xn"
      },
      "source": [
        "# 0.Introduction\n",
        "Use BERT to get the average vector of any word from multiple given sentences"
      ]
    },
    {
      "cell_type": "markdown",
      "metadata": {
        "id": "PHONzQMfoKT-"
      },
      "source": [
        "# 1.Settings"
      ]
    },
    {
      "cell_type": "code",
      "metadata": {
        "id": "VtwG0Phrnxwt",
        "outputId": "e6d2ca98-d576-4be2-b739-e47edae2e0e1",
        "colab": {
          "base_uri": "https://localhost:8080/",
          "height": 608
        }
      },
      "source": [
        "!pip install transformers"
      ],
      "execution_count": 1,
      "outputs": [
        {
          "output_type": "stream",
          "text": [
            "Collecting transformers\n",
            "\u001b[?25l  Downloading https://files.pythonhosted.org/packages/19/22/aff234f4a841f8999e68a7a94bdd4b60b4cebcfeca5d67d61cd08c9179de/transformers-3.3.1-py3-none-any.whl (1.1MB)\n",
            "\u001b[K     |████████████████████████████████| 1.1MB 2.7MB/s \n",
            "\u001b[?25hRequirement already satisfied: dataclasses; python_version < \"3.7\" in /usr/local/lib/python3.6/dist-packages (from transformers) (0.7)\n",
            "Requirement already satisfied: requests in /usr/local/lib/python3.6/dist-packages (from transformers) (2.23.0)\n",
            "Collecting sentencepiece!=0.1.92\n",
            "\u001b[?25l  Downloading https://files.pythonhosted.org/packages/d4/a4/d0a884c4300004a78cca907a6ff9a5e9fe4f090f5d95ab341c53d28cbc58/sentencepiece-0.1.91-cp36-cp36m-manylinux1_x86_64.whl (1.1MB)\n",
            "\u001b[K     |████████████████████████████████| 1.1MB 16.7MB/s \n",
            "\u001b[?25hRequirement already satisfied: regex!=2019.12.17 in /usr/local/lib/python3.6/dist-packages (from transformers) (2019.12.20)\n",
            "Requirement already satisfied: numpy in /usr/local/lib/python3.6/dist-packages (from transformers) (1.18.5)\n",
            "Requirement already satisfied: tqdm>=4.27 in /usr/local/lib/python3.6/dist-packages (from transformers) (4.41.1)\n",
            "Requirement already satisfied: packaging in /usr/local/lib/python3.6/dist-packages (from transformers) (20.4)\n",
            "Collecting sacremoses\n",
            "\u001b[?25l  Downloading https://files.pythonhosted.org/packages/7d/34/09d19aff26edcc8eb2a01bed8e98f13a1537005d31e95233fd48216eed10/sacremoses-0.0.43.tar.gz (883kB)\n",
            "\u001b[K     |████████████████████████████████| 890kB 19.7MB/s \n",
            "\u001b[?25hRequirement already satisfied: filelock in /usr/local/lib/python3.6/dist-packages (from transformers) (3.0.12)\n",
            "Collecting tokenizers==0.8.1.rc2\n",
            "\u001b[?25l  Downloading https://files.pythonhosted.org/packages/80/83/8b9fccb9e48eeb575ee19179e2bdde0ee9a1904f97de5f02d19016b8804f/tokenizers-0.8.1rc2-cp36-cp36m-manylinux1_x86_64.whl (3.0MB)\n",
            "\u001b[K     |████████████████████████████████| 3.0MB 26.0MB/s \n",
            "\u001b[?25hRequirement already satisfied: urllib3!=1.25.0,!=1.25.1,<1.26,>=1.21.1 in /usr/local/lib/python3.6/dist-packages (from requests->transformers) (1.24.3)\n",
            "Requirement already satisfied: chardet<4,>=3.0.2 in /usr/local/lib/python3.6/dist-packages (from requests->transformers) (3.0.4)\n",
            "Requirement already satisfied: certifi>=2017.4.17 in /usr/local/lib/python3.6/dist-packages (from requests->transformers) (2020.6.20)\n",
            "Requirement already satisfied: idna<3,>=2.5 in /usr/local/lib/python3.6/dist-packages (from requests->transformers) (2.10)\n",
            "Requirement already satisfied: pyparsing>=2.0.2 in /usr/local/lib/python3.6/dist-packages (from packaging->transformers) (2.4.7)\n",
            "Requirement already satisfied: six in /usr/local/lib/python3.6/dist-packages (from packaging->transformers) (1.15.0)\n",
            "Requirement already satisfied: click in /usr/local/lib/python3.6/dist-packages (from sacremoses->transformers) (7.1.2)\n",
            "Requirement already satisfied: joblib in /usr/local/lib/python3.6/dist-packages (from sacremoses->transformers) (0.16.0)\n",
            "Building wheels for collected packages: sacremoses\n",
            "  Building wheel for sacremoses (setup.py) ... \u001b[?25l\u001b[?25hdone\n",
            "  Created wheel for sacremoses: filename=sacremoses-0.0.43-cp36-none-any.whl size=893257 sha256=fbb60ae7b6cd1d3297911d6bdc06d5961e6d9cdd616cb6db5620a21bf4c02f87\n",
            "  Stored in directory: /root/.cache/pip/wheels/29/3c/fd/7ce5c3f0666dab31a50123635e6fb5e19ceb42ce38d4e58f45\n",
            "Successfully built sacremoses\n",
            "Installing collected packages: sentencepiece, sacremoses, tokenizers, transformers\n",
            "Successfully installed sacremoses-0.0.43 sentencepiece-0.1.91 tokenizers-0.8.1rc2 transformers-3.3.1\n"
          ],
          "name": "stdout"
        }
      ]
    },
    {
      "cell_type": "code",
      "metadata": {
        "id": "vMrbjwL8oO-r"
      },
      "source": [
        "import torch\n",
        "from transformers import BertModel, BertTokenizer"
      ],
      "execution_count": 2,
      "outputs": []
    },
    {
      "cell_type": "markdown",
      "metadata": {
        "id": "XpUaTZznrs8q"
      },
      "source": [
        "# 2.Load Models"
      ]
    },
    {
      "cell_type": "code",
      "metadata": {
        "id": "TC43a_OAoqB1",
        "outputId": "3cf7fe15-415f-4e98-fdd8-281b3dfb3bc7",
        "colab": {
          "base_uri": "https://localhost:8080/",
          "height": 163,
          "referenced_widgets": [
            "9d075d410467488283ebc07863923586",
            "d7ebf942d4c143198c5c4a7ddc7f29ab",
            "3452265f257c4ebbaa7b786595ecdb9b",
            "eaa328774d2246ae9e4f0fed3516e062",
            "52108624fc084c1698ce1fbb5259a338",
            "fc2882d255714e6f9f52909cb16c3fa7",
            "4a8effda71a14254bf892115c60c36a8",
            "cdecb6af4a654ba583074049014cffd5",
            "469bc2d6027d4befb563b14c3c36c801",
            "1b65f3b6bdd44d8bb644f1385185d1bd",
            "02b95e6533de47799a12256154be2db8",
            "036a1cf418b546889a58478afee81beb",
            "3690cb40a6fe4823b3f93d3afc1d2a96",
            "cd2fa1fe364747499939699c1f163a2b",
            "1d35f646c46c456a878d621e11d1e9f1",
            "1a0da179304a467cb311a3bf326fcb41",
            "657981bb957a4188a9ae31ba5d81e464",
            "ec9690b72ab8468498d02fb731ea123c",
            "743e29b81af34ae8be8dfbde9b003937",
            "908aae2cd02e413bbee1668481cb35c6",
            "334d6d261fee41d6a6331211b133c1db",
            "7210ba90a7d548a08fce80f3db6cea34",
            "5a1e796c22014624a013eaa6aa5e3b75",
            "c967c371461e4f20bda08a981d7d23e4"
          ]
        }
      },
      "source": [
        "model = BertModel.from_pretrained('bert-base-uncased', return_dict=True)\n",
        "tokenizer = BertTokenizer.from_pretrained('bert-base-uncased')"
      ],
      "execution_count": 3,
      "outputs": [
        {
          "output_type": "display_data",
          "data": {
            "application/vnd.jupyter.widget-view+json": {
              "model_id": "9d075d410467488283ebc07863923586",
              "version_minor": 0,
              "version_major": 2
            },
            "text/plain": [
              "HBox(children=(FloatProgress(value=0.0, description='Downloading', max=433.0, style=ProgressStyle(description_…"
            ]
          },
          "metadata": {
            "tags": []
          }
        },
        {
          "output_type": "stream",
          "text": [
            "\n"
          ],
          "name": "stdout"
        },
        {
          "output_type": "display_data",
          "data": {
            "application/vnd.jupyter.widget-view+json": {
              "model_id": "469bc2d6027d4befb563b14c3c36c801",
              "version_minor": 0,
              "version_major": 2
            },
            "text/plain": [
              "HBox(children=(FloatProgress(value=0.0, description='Downloading', max=440473133.0, style=ProgressStyle(descri…"
            ]
          },
          "metadata": {
            "tags": []
          }
        },
        {
          "output_type": "stream",
          "text": [
            "\n"
          ],
          "name": "stdout"
        },
        {
          "output_type": "display_data",
          "data": {
            "application/vnd.jupyter.widget-view+json": {
              "model_id": "657981bb957a4188a9ae31ba5d81e464",
              "version_minor": 0,
              "version_major": 2
            },
            "text/plain": [
              "HBox(children=(FloatProgress(value=0.0, description='Downloading', max=231508.0, style=ProgressStyle(descripti…"
            ]
          },
          "metadata": {
            "tags": []
          }
        },
        {
          "output_type": "stream",
          "text": [
            "\n"
          ],
          "name": "stdout"
        }
      ]
    },
    {
      "cell_type": "markdown",
      "metadata": {
        "id": "E4MHVBFerw2V"
      },
      "source": [
        "# 3.Obtain word vectors from each sentence vector"
      ]
    },
    {
      "cell_type": "code",
      "metadata": {
        "id": "C780RX-ZpItX"
      },
      "source": [
        "s1 = \"i eat an apple today .\"\n",
        "s2 = \"you eat an apple today .\""
      ],
      "execution_count": 54,
      "outputs": []
    },
    {
      "cell_type": "code",
      "metadata": {
        "id": "2lZLIG5ArcwV"
      },
      "source": [
        "inputs1 = tokenizer(s1, return_tensors=\"pt\")\n",
        "inputs2 = tokenizer(s2, return_tensors=\"pt\")"
      ],
      "execution_count": 55,
      "outputs": []
    },
    {
      "cell_type": "code",
      "metadata": {
        "id": "gwA1JR-7rn4f",
        "outputId": "f0ca61aa-4335-4340-906d-a5891adbc628",
        "colab": {
          "base_uri": "https://localhost:8080/",
          "height": 54
        }
      },
      "source": [
        "inputs1"
      ],
      "execution_count": 56,
      "outputs": [
        {
          "output_type": "execute_result",
          "data": {
            "text/plain": [
              "{'input_ids': tensor([[ 101, 1045, 4521, 2019, 6207, 2651, 1012,  102]]), 'token_type_ids': tensor([[0, 0, 0, 0, 0, 0, 0, 0]]), 'attention_mask': tensor([[1, 1, 1, 1, 1, 1, 1, 1]])}"
            ]
          },
          "metadata": {
            "tags": []
          },
          "execution_count": 56
        }
      ]
    },
    {
      "cell_type": "code",
      "metadata": {
        "id": "POFNzM9yrpRo",
        "outputId": "38e98625-d62b-4aaa-d863-7d25bb7a6a14",
        "colab": {
          "base_uri": "https://localhost:8080/",
          "height": 54
        }
      },
      "source": [
        "inputs2"
      ],
      "execution_count": 57,
      "outputs": [
        {
          "output_type": "execute_result",
          "data": {
            "text/plain": [
              "{'input_ids': tensor([[ 101, 2017, 4521, 2019, 6207, 2651, 1012,  102]]), 'token_type_ids': tensor([[0, 0, 0, 0, 0, 0, 0, 0]]), 'attention_mask': tensor([[1, 1, 1, 1, 1, 1, 1, 1]])}"
            ]
          },
          "metadata": {
            "tags": []
          },
          "execution_count": 57
        }
      ]
    },
    {
      "cell_type": "code",
      "metadata": {
        "id": "sdRO2JsJrrri"
      },
      "source": [
        "outputs1 = model(**inputs1)\n",
        "outputs2 = model(**inputs2)"
      ],
      "execution_count": 58,
      "outputs": []
    },
    {
      "cell_type": "code",
      "metadata": {
        "id": "KyGIPwCatwi7"
      },
      "source": [
        "last_hidden_state1 = outputs1.last_hidden_state[0]\n",
        "last_hidden_state2 = outputs1.last_hidden_state[0]"
      ],
      "execution_count": 59,
      "outputs": []
    },
    {
      "cell_type": "code",
      "metadata": {
        "id": "j_Dc2TMOuNB3",
        "outputId": "edebc1d0-9f8e-4bfa-a363-1a08f294019e",
        "colab": {
          "base_uri": "https://localhost:8080/",
          "height": 151
        }
      },
      "source": [
        "last_hidden_state1"
      ],
      "execution_count": 60,
      "outputs": [
        {
          "output_type": "execute_result",
          "data": {
            "text/plain": [
              "tensor([[ 0.0465,  0.1496, -0.3968,  ...,  0.0412,  0.5392,  0.5326],\n",
              "        [ 0.2066,  0.0756, -0.3788,  ..., -0.0933,  1.1465,  0.3369],\n",
              "        [-0.0625,  0.7618,  0.1640,  ...,  0.3169,  0.8769,  0.1139],\n",
              "        ...,\n",
              "        [-0.4008, -0.0939, -0.3059,  ..., -0.2158,  0.2630, -0.7132],\n",
              "        [ 0.3049, -0.0819, -0.3699,  ...,  0.3447,  0.2585, -0.5883],\n",
              "        [ 0.7464,  0.2905, -0.1306,  ...,  0.3689, -0.2140, -0.4930]],\n",
              "       grad_fn=<SelectBackward>)"
            ]
          },
          "metadata": {
            "tags": []
          },
          "execution_count": 60
        }
      ]
    },
    {
      "cell_type": "code",
      "metadata": {
        "id": "SYN653z4ubcU"
      },
      "source": [
        "apple1 = last_hidden_state1[4]\n",
        "apple2 = last_hidden_state2[4]"
      ],
      "execution_count": 61,
      "outputs": []
    },
    {
      "cell_type": "code",
      "metadata": {
        "id": "p3unP2ZcxDNd"
      },
      "source": [
        "cos = torch.nn.CosineSimilarity(dim=0)"
      ],
      "execution_count": 62,
      "outputs": []
    },
    {
      "cell_type": "code",
      "metadata": {
        "id": "uwzhbt5oxdYy",
        "outputId": "230cd83f-05ab-4871-8660-d7a541a69afd",
        "colab": {
          "base_uri": "https://localhost:8080/",
          "height": 34
        }
      },
      "source": [
        "cos(apple1, apple2)"
      ],
      "execution_count": 65,
      "outputs": [
        {
          "output_type": "execute_result",
          "data": {
            "text/plain": [
              "tensor(1., grad_fn=<DivBackward0>)"
            ]
          },
          "metadata": {
            "tags": []
          },
          "execution_count": 65
        }
      ]
    },
    {
      "cell_type": "code",
      "metadata": {
        "id": "hmT49SCux7Cr",
        "outputId": "33cfc846-c634-421c-8d1a-301ed6b1d376",
        "colab": {
          "base_uri": "https://localhost:8080/",
          "height": 34
        }
      },
      "source": [
        "torch.dot(apple1, apple2)/(torch.norm(apple1)*torch.norm(apple2) + 1e-8)"
      ],
      "execution_count": 66,
      "outputs": [
        {
          "output_type": "execute_result",
          "data": {
            "text/plain": [
              "tensor(1.0000, grad_fn=<DivBackward0>)"
            ]
          },
          "metadata": {
            "tags": []
          },
          "execution_count": 66
        }
      ]
    },
    {
      "cell_type": "markdown",
      "metadata": {
        "id": "uv1ZmnUusbkg"
      },
      "source": [
        "## 3.1 What is '**'?"
      ]
    },
    {
      "cell_type": "code",
      "metadata": {
        "id": "DCkIdeD1sKci"
      },
      "source": [
        "def print_kwargs(**kwargs):\n",
        "    print(\"Keyword arguments:\", kwargs)"
      ],
      "execution_count": 67,
      "outputs": []
    },
    {
      "cell_type": "code",
      "metadata": {
        "id": "jKkYpXsKslNP",
        "outputId": "c7d6fd6d-b480-4231-9c6d-27ae062655cb",
        "colab": {
          "base_uri": "https://localhost:8080/",
          "height": 50
        }
      },
      "source": [
        "print_kwargs()\n",
        "\n",
        "print_kwargs(num=1, text=\"aaa\")"
      ],
      "execution_count": 68,
      "outputs": [
        {
          "output_type": "stream",
          "text": [
            "Keyword arguments: {}\n",
            "Keyword arguments: {'num': 1, 'text': 'aaa'}\n"
          ],
          "name": "stdout"
        }
      ]
    },
    {
      "cell_type": "code",
      "metadata": {
        "id": "mciclVJasnk3",
        "outputId": "1bbddf57-d620-4f1a-b13e-a044a2a49f24",
        "colab": {
          "base_uri": "https://localhost:8080/",
          "height": 54
        }
      },
      "source": [
        "print_kwargs(**inputs1)"
      ],
      "execution_count": 69,
      "outputs": [
        {
          "output_type": "stream",
          "text": [
            "Keyword arguments: {'input_ids': tensor([[ 101, 1045, 4521, 2019, 6207, 2651, 1012,  102]]), 'token_type_ids': tensor([[0, 0, 0, 0, 0, 0, 0, 0]]), 'attention_mask': tensor([[1, 1, 1, 1, 1, 1, 1, 1]])}\n"
          ],
          "name": "stdout"
        }
      ]
    },
    {
      "cell_type": "markdown",
      "metadata": {
        "id": "hG5JP_5xdxb5"
      },
      "source": [
        "# 4.Main\n",
        "Create average target word vectors from a corpus.  \n",
        "target words: 'apple', 'you'\n",
        "1. convert word->id by tokenizer\n",
        "1. get the ***word_id*** contained in ***target_words*** and the ***position*** in the sentence in the word_id\n",
        "1. obtain sentence vectors by BERT\n",
        "1. store the target word vectors"
      ]
    },
    {
      "cell_type": "code",
      "metadata": {
        "id": "Jwqsblifswhi"
      },
      "source": [
        "corpus = [\"i eat an apple today .\",\n",
        "                \"you eat an apple today .\",\n",
        "                \"i drink an apple juice .\",\n",
        "                \"you like an apple .\",\n",
        "                \"an apple tree is heavy with fruit .\",\n",
        "                \"this apple is sweet .\",\n",
        "                \"you make a sweet apple pie .\",\n",
        "                \"apple trees fructify .\",\n",
        "                \"i buy an apple computer at an apple store .\",\n",
        "                \"you buy an apple computer today .\"]"
      ],
      "execution_count": 9,
      "outputs": []
    },
    {
      "cell_type": "code",
      "metadata": {
        "id": "fCYfGfGQ4obh"
      },
      "source": [
        "target_words = [\"apple\", \"you\"]"
      ],
      "execution_count": 10,
      "outputs": []
    },
    {
      "cell_type": "markdown",
      "metadata": {
        "id": "boUvAoiEOoZz"
      },
      "source": [
        "## 4.1 Prepare word2id and id2word dictionaries from BERT vocaburary"
      ]
    },
    {
      "cell_type": "code",
      "metadata": {
        "id": "i_QbBZ4e_tcQ",
        "outputId": "1d5701b8-9d3c-476b-8a78-b07d30f48d03",
        "colab": {
          "base_uri": "https://localhost:8080/",
          "height": 222
        }
      },
      "source": [
        " !wget https://raw.githubusercontent.com/microsoft/SDNet/master/bert_vocab_files/bert-base-uncased-vocab.txt"
      ],
      "execution_count": 11,
      "outputs": [
        {
          "output_type": "stream",
          "text": [
            "--2020-10-10 06:38:08--  https://raw.githubusercontent.com/microsoft/SDNet/master/bert_vocab_files/bert-base-uncased-vocab.txt\n",
            "Resolving raw.githubusercontent.com (raw.githubusercontent.com)... 151.101.0.133, 151.101.64.133, 151.101.128.133, ...\n",
            "Connecting to raw.githubusercontent.com (raw.githubusercontent.com)|151.101.0.133|:443... connected.\n",
            "HTTP request sent, awaiting response... 200 OK\n",
            "Length: 231508 (226K) [text/plain]\n",
            "Saving to: ‘bert-base-uncased-vocab.txt’\n",
            "\n",
            "\r          bert-base   0%[                    ]       0  --.-KB/s               \rbert-base-uncased-v 100%[===================>] 226.08K  --.-KB/s    in 0.05s   \n",
            "\n",
            "2020-10-10 06:38:08 (4.04 MB/s) - ‘bert-base-uncased-vocab.txt’ saved [231508/231508]\n",
            "\n"
          ],
          "name": "stdout"
        }
      ]
    },
    {
      "cell_type": "code",
      "metadata": {
        "id": "tCQVSFS3Oxe8"
      },
      "source": [
        "word2id = {}\n",
        "id2word = {}"
      ],
      "execution_count": 23,
      "outputs": []
    },
    {
      "cell_type": "code",
      "metadata": {
        "id": "ZrRlqHu0O0Sl"
      },
      "source": [
        "id = 0\n",
        "with open('bert-base-uncased-vocab.txt') as fp:\n",
        "  for line in fp:\n",
        "    word = line.strip()\n",
        "    word2id[word] = id\n",
        "    id2word[id] = word\n",
        "    id += 1"
      ],
      "execution_count": 24,
      "outputs": []
    },
    {
      "cell_type": "code",
      "metadata": {
        "id": "HVp1Fwe9PT90",
        "outputId": "af580062-c4d1-4250-f2a8-1c4d41fe2719",
        "colab": {
          "base_uri": "https://localhost:8080/",
          "height": 34
        }
      },
      "source": [
        "word2id['apple']"
      ],
      "execution_count": 20,
      "outputs": [
        {
          "output_type": "execute_result",
          "data": {
            "text/plain": [
              "6207"
            ]
          },
          "metadata": {
            "tags": []
          },
          "execution_count": 20
        }
      ]
    },
    {
      "cell_type": "code",
      "metadata": {
        "id": "xsBUMlRiPYm_",
        "outputId": "b34ded42-75e2-4221-ef64-fbd8ac7adb10",
        "colab": {
          "base_uri": "https://localhost:8080/",
          "height": 34
        }
      },
      "source": [
        "word2id['you']"
      ],
      "execution_count": 21,
      "outputs": [
        {
          "output_type": "execute_result",
          "data": {
            "text/plain": [
              "2017"
            ]
          },
          "metadata": {
            "tags": []
          },
          "execution_count": 21
        }
      ]
    },
    {
      "cell_type": "markdown",
      "metadata": {
        "id": "mQw2mzV8PcMU"
      },
      "source": [
        "## 4.2 Obtain target word's id and position in the sentence"
      ]
    },
    {
      "cell_type": "code",
      "metadata": {
        "id": "A3AGqAQQWAii"
      },
      "source": [
        "target_ids = [word2id[word] for word in target_words]"
      ],
      "execution_count": 25,
      "outputs": []
    },
    {
      "cell_type": "code",
      "metadata": {
        "id": "41wvRsZbTyVp"
      },
      "source": [
        "def search_index(sentence_tokenized, target_ids):\n",
        "  \"\"\" Outputs the word id that matches target_words from the sentence and the current position.\n",
        "  :return: targets[{'word_id': word_id, 'position': position in sentence}]\n",
        "  \"\"\"\n",
        "  targets = []\n",
        "  for id, word_id in enumerate(sentence_tokenized['input_ids'][0]):\n",
        "    if word_id in target_ids:\n",
        "      targets.append({'word_id': int(word_id), 'position': id})\n",
        "  return targets"
      ],
      "execution_count": 33,
      "outputs": []
    },
    {
      "cell_type": "code",
      "metadata": {
        "id": "0WGoGhrWPatG",
        "outputId": "412206dd-cd56-45a3-9fd8-93fa06a80f44",
        "colab": {
          "base_uri": "https://localhost:8080/",
          "height": 185
        }
      },
      "source": [
        "for sentence in corpus:\n",
        "  sentence_tokenized = tokenizer(sentence, return_tensors=\"pt\")\n",
        "  targets = search_index(sentence_tokenized, target_ids)\n",
        "  print(targets)"
      ],
      "execution_count": 34,
      "outputs": [
        {
          "output_type": "stream",
          "text": [
            "[{'word_id': 6207, 'position': 4}]\n",
            "[{'word_id': 2017, 'position': 1}, {'word_id': 6207, 'position': 4}]\n",
            "[{'word_id': 6207, 'position': 4}]\n",
            "[{'word_id': 2017, 'position': 1}, {'word_id': 6207, 'position': 4}]\n",
            "[{'word_id': 6207, 'position': 2}]\n",
            "[{'word_id': 6207, 'position': 2}]\n",
            "[{'word_id': 2017, 'position': 1}, {'word_id': 6207, 'position': 5}]\n",
            "[{'word_id': 6207, 'position': 1}]\n",
            "[{'word_id': 6207, 'position': 4}, {'word_id': 6207, 'position': 8}]\n",
            "[{'word_id': 2017, 'position': 1}, {'word_id': 6207, 'position': 4}]\n"
          ],
          "name": "stdout"
        }
      ]
    },
    {
      "cell_type": "markdown",
      "metadata": {
        "id": "hUWiqrFUjcDO"
      },
      "source": [
        "## 4.3 Store the target word vectors"
      ]
    },
    {
      "cell_type": "code",
      "metadata": {
        "id": "tjgthARVXARt"
      },
      "source": [
        "target_vecs = {}"
      ],
      "execution_count": 50,
      "outputs": []
    },
    {
      "cell_type": "code",
      "metadata": {
        "id": "H4mn1nJkYz7U",
        "outputId": "b41b98fe-d040-45d5-e687-9cef89781c26",
        "colab": {
          "base_uri": "https://localhost:8080/",
          "height": 504
        }
      },
      "source": [
        "for sentence in corpus:\n",
        "  sentence_tokenized = tokenizer(sentence, return_tensors=\"pt\")\n",
        "  targets = search_index(sentence_tokenized, target_ids)\n",
        "  print(targets)\n",
        "  last_hidden_states = model(**sentence_tokenized).last_hidden_state[0]\n",
        "  for target in targets:\n",
        "    if target['word_id'] not in target_vecs:\n",
        "      target_vecs[target['word_id']] = {'vec': last_hidden_states[target['position']],\n",
        "                                                      'num': 1}\n",
        "    else:\n",
        "      target_vecs[target['word_id']]['vec'] += last_hidden_states[target['position']]\n",
        "      target_vecs[target['word_id']]['num'] += 1\n",
        "  for key in target_vecs:\n",
        "    print(f' - target_id: {key}, num: {target_vecs[key][\"num\"]}')"
      ],
      "execution_count": 51,
      "outputs": [
        {
          "output_type": "stream",
          "text": [
            "[{'word_id': 6207, 'position': 4}]\n",
            " - target_id: 6207, num: 1\n",
            "[{'word_id': 2017, 'position': 1}, {'word_id': 6207, 'position': 4}]\n",
            " - target_id: 6207, num: 2\n",
            " - target_id: 2017, num: 1\n",
            "[{'word_id': 6207, 'position': 4}]\n",
            " - target_id: 6207, num: 3\n",
            " - target_id: 2017, num: 1\n",
            "[{'word_id': 2017, 'position': 1}, {'word_id': 6207, 'position': 4}]\n",
            " - target_id: 6207, num: 4\n",
            " - target_id: 2017, num: 2\n",
            "[{'word_id': 6207, 'position': 2}]\n",
            " - target_id: 6207, num: 5\n",
            " - target_id: 2017, num: 2\n",
            "[{'word_id': 6207, 'position': 2}]\n",
            " - target_id: 6207, num: 6\n",
            " - target_id: 2017, num: 2\n",
            "[{'word_id': 2017, 'position': 1}, {'word_id': 6207, 'position': 5}]\n",
            " - target_id: 6207, num: 7\n",
            " - target_id: 2017, num: 3\n",
            "[{'word_id': 6207, 'position': 1}]\n",
            " - target_id: 6207, num: 8\n",
            " - target_id: 2017, num: 3\n",
            "[{'word_id': 6207, 'position': 4}, {'word_id': 6207, 'position': 8}]\n",
            " - target_id: 6207, num: 10\n",
            " - target_id: 2017, num: 3\n",
            "[{'word_id': 2017, 'position': 1}, {'word_id': 6207, 'position': 4}]\n",
            " - target_id: 6207, num: 11\n",
            " - target_id: 2017, num: 4\n"
          ],
          "name": "stdout"
        }
      ]
    },
    {
      "cell_type": "markdown",
      "metadata": {
        "id": "Y_2ZOxPYbH2R"
      },
      "source": [
        "## 4.4 Calcurate average target word vectors"
      ]
    },
    {
      "cell_type": "code",
      "metadata": {
        "id": "xt4HjU4Dd1C1",
        "outputId": "5143dcb9-4dfe-4ae4-9ccb-3bc3b473876d",
        "colab": {
          "base_uri": "https://localhost:8080/",
          "height": 50
        }
      },
      "source": [
        "for word_id in target_vecs:\n",
        "  print(id2word[word_id])"
      ],
      "execution_count": 45,
      "outputs": [
        {
          "output_type": "stream",
          "text": [
            "apple\n",
            "you\n"
          ],
          "name": "stdout"
        }
      ]
    },
    {
      "cell_type": "code",
      "metadata": {
        "id": "VhasJR1WaIi6"
      },
      "source": [
        "target_vecs = {id2word[word_id]: target_vecs[word_id]['vec'] / target_vecs[word_id]['num'] for word_id in target_vecs}"
      ],
      "execution_count": 52,
      "outputs": []
    },
    {
      "cell_type": "code",
      "metadata": {
        "id": "nUlTWgYscL8Z",
        "outputId": "193ef728-5d31-4db0-851c-91dab53579d3",
        "colab": {
          "base_uri": "https://localhost:8080/",
          "height": 1000
        }
      },
      "source": [
        "target_vecs"
      ],
      "execution_count": 53,
      "outputs": [
        {
          "output_type": "execute_result",
          "data": {
            "text/plain": [
              "{'apple': tensor([ 1.7210e-01,  5.2862e-01, -1.4271e-01, -2.8018e-01,  1.3012e+00,\n",
              "          8.3078e-01, -2.9777e-01,  9.5272e-01, -4.4272e-02, -2.7307e-01,\n",
              "         -2.3927e-01, -5.4391e-02, -1.9362e-01,  7.0691e-03, -2.7320e-03,\n",
              "          2.7779e-01,  5.3409e-01,  8.8904e-01, -3.7456e-01,  2.9187e-01,\n",
              "          2.8631e-01, -4.7187e-01, -1.1482e-02,  2.4948e-01,  9.2279e-01,\n",
              "         -5.7138e-01, -4.2320e-01, -1.4926e-01, -1.3720e-01, -7.1882e-01,\n",
              "         -3.9075e-01,  9.4611e-01,  1.0118e+00, -1.6861e-01, -6.6695e-01,\n",
              "         -4.4382e-01, -6.6560e-01,  8.9777e-02, -8.1163e-01,  2.3268e-01,\n",
              "         -3.6053e-01, -4.1931e-01,  4.5650e-01, -1.6648e-01,  2.8094e-01,\n",
              "         -4.8273e-01, -7.7533e-01, -3.2518e-01,  7.8259e-02,  1.2031e-01,\n",
              "         -3.3767e-01,  5.4639e-01, -2.7284e-01, -3.7865e-01,  3.3282e-01,\n",
              "          9.2420e-01, -5.8171e-02, -9.3855e-01,  4.8351e-01,  2.1065e-01,\n",
              "         -1.9986e-01, -3.5786e-01,  2.4317e-01, -3.8767e-01, -4.8860e-01,\n",
              "          3.5934e-01,  3.1637e-01,  5.6386e-01, -1.0538e+00,  2.4243e-01,\n",
              "          7.5516e-02, -8.7866e-01, -8.3485e-01, -3.7211e-01, -1.4499e-01,\n",
              "         -3.2974e-01,  2.3102e-01,  1.6182e-01, -1.5705e-01,  2.9503e-02,\n",
              "         -4.2301e-01,  7.0908e-01,  3.5626e-01,  1.0387e+00, -4.6125e-01,\n",
              "          3.3496e-01, -8.7408e-01,  2.4684e-01, -7.9664e-01, -1.2855e-02,\n",
              "         -2.2847e-01,  1.7267e-01,  2.8611e-01,  5.9999e-01, -1.1267e-01,\n",
              "         -1.9960e-01, -1.2673e-01, -3.5029e-01, -3.8755e-01,  5.6931e-01,\n",
              "          3.9599e-01, -2.7279e-03,  4.9240e-01,  6.0174e-01, -6.3374e-01,\n",
              "          1.0346e-01, -9.7899e-02,  3.5072e-01,  4.2207e-01, -5.6412e-02,\n",
              "         -5.7708e-01, -1.0841e-01,  1.6797e-01, -5.1496e-03, -8.4861e-01,\n",
              "          1.1974e-01,  2.3473e-01,  3.2848e-01, -1.9749e-01, -3.4812e-01,\n",
              "         -3.6856e-01,  9.8052e-02,  2.3687e-01,  7.4051e-01,  5.0292e-02,\n",
              "         -8.2328e-01, -2.5437e-02,  3.7534e-01, -1.2421e-01, -3.8113e-02,\n",
              "         -3.6327e-01,  1.7126e-01, -1.4044e-01, -1.5795e-01,  9.7297e-03,\n",
              "          5.8990e-01, -1.4704e-01,  8.9379e-02, -1.2032e-01,  1.2930e-01,\n",
              "         -1.7844e-01,  3.8109e-01, -1.1376e-01,  4.2497e-01,  4.7800e-01,\n",
              "          1.0244e-02, -3.1674e-01,  4.0654e-01,  2.7224e-01, -1.0272e-01,\n",
              "          4.5808e-01, -8.5215e-02, -4.4057e-01, -5.4352e-01, -9.2731e-03,\n",
              "          3.8446e-01, -5.7191e-01, -1.9913e-03,  1.5820e-01, -3.0224e-02,\n",
              "         -7.7872e-02, -2.7763e-01, -5.3443e-02,  6.5549e-02, -2.4730e-01,\n",
              "          1.8157e-01,  7.9403e-03,  3.0005e-01, -6.0701e-02, -1.0449e-01,\n",
              "          1.7792e-01,  6.6013e-02,  1.1513e+00, -3.6274e-01, -5.2631e-01,\n",
              "          4.3560e-01,  4.3537e-01,  2.2532e-01,  4.6530e-01,  6.6886e-01,\n",
              "         -4.6067e-01,  1.7049e-01,  9.8194e-01,  8.9374e-01, -6.4896e-01,\n",
              "         -4.5403e-01,  1.3122e-01, -1.2905e-01,  2.8614e-01,  4.0837e-01,\n",
              "         -5.2498e-01, -8.0358e-01,  1.7400e-01,  1.0094e-02, -1.3445e-01,\n",
              "         -4.8572e-01, -1.4167e+00, -3.8453e-01, -4.5690e-01,  3.1662e-02,\n",
              "          9.8990e-02, -1.6247e-01, -1.0228e-01, -4.7225e-01, -5.2228e-01,\n",
              "          1.9883e-01,  1.5013e-01, -1.2909e-01, -6.2883e-01,  5.3560e-01,\n",
              "         -5.4954e-01,  3.4543e-01,  2.2235e-01, -2.5448e-01,  2.4286e-01,\n",
              "          4.9151e-01,  2.7768e-02, -7.7088e-01, -1.3252e-01, -1.0147e-01,\n",
              "          3.3979e-01, -1.3073e-01, -4.3562e-01,  4.4868e-01, -5.4325e-01,\n",
              "          8.1891e-01,  5.2864e-01,  1.8067e-01,  4.8609e-01, -5.6617e-01,\n",
              "         -2.8440e-02,  3.0084e-01,  3.8275e-01,  5.0876e-01, -4.6708e-01,\n",
              "          3.2416e-02, -3.8931e-01, -3.0451e-01,  3.1546e-01,  3.1951e-01,\n",
              "         -6.1665e-01,  1.4856e-01,  3.9541e-01, -9.2591e-02,  2.8303e-01,\n",
              "         -2.5119e-01, -2.3258e-01, -4.8819e-01,  2.0018e-02, -6.5546e-01,\n",
              "         -8.0307e-01, -1.9172e-01,  3.3210e-01, -3.4298e-01,  4.1726e-01,\n",
              "         -7.7061e-01,  2.2976e-02,  1.0981e+00,  2.8089e-01,  5.2136e-01,\n",
              "          2.7787e-01,  3.8008e-02,  1.6226e-01,  6.3539e-01, -2.9261e-01,\n",
              "         -7.9263e-01,  3.1635e-02, -3.4585e-01,  3.9654e-01, -1.3371e-01,\n",
              "          2.6403e-01,  2.7243e-01, -2.3215e-01,  1.5446e-01, -4.2957e-01,\n",
              "         -8.3155e-01, -1.6150e-01,  2.0810e-01, -2.4142e-01, -8.3059e-01,\n",
              "          7.2248e-01,  1.0719e+00, -2.9166e-01,  2.9511e-01,  2.3292e-01,\n",
              "         -6.5784e-01,  3.8303e-01, -2.3189e-01, -2.3806e-01,  4.3043e-02,\n",
              "         -2.1257e-01,  4.6581e-01, -3.1843e-01, -1.0316e+00,  1.5093e+00,\n",
              "          2.9356e-01,  1.0073e-01, -8.6903e-02,  4.1955e-02, -7.5553e-01,\n",
              "          7.0786e-01,  2.7956e-01,  3.9914e-01, -4.8409e-01, -7.8949e-01,\n",
              "          1.1084e+00,  4.4606e-01, -2.3797e-01, -3.4203e+00, -1.1673e-01,\n",
              "          1.8038e-02, -3.0466e-01, -1.6890e-01, -4.6771e-02, -6.3675e-01,\n",
              "         -4.4119e-01, -9.0692e-02, -1.7149e-01,  1.3245e-03, -4.8318e-01,\n",
              "          8.7745e-01,  5.8139e-01,  3.4370e-01, -4.8257e-02,  1.9680e-01,\n",
              "         -4.4179e-01,  3.0592e-02,  1.0413e+00, -3.1828e-01, -6.9553e-01,\n",
              "         -1.9283e-01,  2.5797e-01, -4.0629e-02, -5.8617e-02,  8.0284e-01,\n",
              "         -1.3277e-01, -7.7181e-02,  3.2233e-01, -3.7240e-01,  6.5048e-02,\n",
              "          2.7612e-01,  1.2548e-02, -2.3618e-02, -4.0699e-01, -2.3129e-01,\n",
              "         -1.2795e-01,  3.0379e-01, -6.1764e-02,  4.2428e-01, -6.6299e-01,\n",
              "         -1.2369e-02,  3.0888e-01,  2.5494e-01, -1.7226e-01, -4.5830e-01,\n",
              "         -5.5050e-01,  1.8713e-01,  1.4478e-01,  1.9536e-01,  4.9491e-01,\n",
              "         -2.6442e-01, -1.4434e-01,  5.0097e-01,  4.8437e-02,  4.9210e-01,\n",
              "          1.0718e+00,  2.8685e-01, -6.2294e-01,  5.9661e-01, -1.7521e-02,\n",
              "         -2.5367e-01, -2.9104e-01,  7.5066e-01, -5.3018e-01, -1.3538e+00,\n",
              "          2.0799e-01,  4.2184e-01,  1.9443e-01, -3.2113e-01, -6.1474e-01,\n",
              "         -3.0843e-01, -1.2563e+00, -3.3220e-01, -1.2743e-01,  2.4605e-01,\n",
              "          1.0504e-01, -6.5832e-01, -6.8420e-02, -7.4933e-01, -1.4885e-01,\n",
              "          7.1578e-01,  2.7553e-01, -4.0683e-02, -5.2469e-01, -1.2150e-01,\n",
              "          4.0019e-01, -1.3914e-01,  4.0251e-01,  1.1995e-01, -2.0441e-01,\n",
              "          4.6115e-01,  3.5149e-01,  2.7001e-01,  1.9384e-02,  5.3459e-02,\n",
              "          1.6642e-01,  4.6858e-01, -5.3064e-01, -6.2253e-01,  4.7533e-01,\n",
              "          4.9269e-01, -3.0923e-01, -3.4808e-01,  6.1435e-01, -4.9984e-01,\n",
              "         -2.7722e-01,  4.2969e-01, -2.5861e-02,  1.3414e-01, -6.6753e-01,\n",
              "          7.7993e-01, -8.5468e-01, -6.9548e-01, -2.4718e-01,  4.5441e-01,\n",
              "          6.7457e-01,  8.1140e-02, -6.4673e-01, -1.1269e+00,  5.8447e-01,\n",
              "          3.9921e-01, -4.5964e-02, -5.7138e-01,  2.0251e-01,  1.4033e-01,\n",
              "          6.4013e-01, -2.2270e-01,  1.5856e-01, -4.4286e-01, -1.4153e-01,\n",
              "         -7.4094e-02,  7.9055e-01,  5.9641e-02,  5.3739e-01, -6.0595e-01,\n",
              "         -5.1112e-01, -2.0196e-01,  2.2285e-01,  5.6136e-01,  7.5334e-02,\n",
              "          1.3822e-01,  5.1046e-01,  6.2517e-01,  1.1419e-01,  1.1873e-01,\n",
              "         -5.3590e-01, -2.5502e-01, -2.0787e-01, -1.6254e-01,  2.2711e-01,\n",
              "          2.1123e-02, -2.7253e-03, -8.4241e-02, -2.1650e-01,  7.8012e-02,\n",
              "         -3.4255e-01, -6.0262e-01, -3.2937e-01,  7.4465e-01,  4.5466e-01,\n",
              "          5.7396e-01, -3.2025e-01, -6.4819e-02,  3.9036e-01,  2.0047e-01,\n",
              "         -1.1880e-01,  5.0905e-02,  3.7791e-01,  5.7716e-02, -4.3059e-01,\n",
              "         -3.6846e-01,  2.1138e-01, -5.9272e-02,  3.6494e-01,  3.9601e-01,\n",
              "         -1.1074e+00, -6.1750e-01,  4.4566e-01,  3.5757e-01, -3.9382e-01,\n",
              "         -1.6156e-01, -2.1215e-01,  3.7177e-01, -1.0383e+00, -9.2752e-02,\n",
              "         -4.0987e-01, -3.8662e-02, -6.7187e-01, -6.8157e-01,  3.2832e-01,\n",
              "          4.7087e-01, -4.2390e-01, -4.5878e-01, -2.8511e-01,  7.2317e-02,\n",
              "         -4.1810e-01,  4.7872e-01, -2.4050e-01, -5.9518e-02, -4.5945e-01,\n",
              "         -1.0087e-01,  2.6962e-01, -3.9541e-01,  4.1017e-01,  3.4758e-01,\n",
              "          5.2037e-01,  1.6236e-01,  5.4516e-01, -2.0830e-02, -1.0801e+00,\n",
              "          3.0331e-01, -4.2752e-02,  7.1683e-01,  7.7536e-01, -2.3368e-01,\n",
              "          2.5460e-01, -2.8401e-01,  4.1848e-01, -1.7806e-01,  1.5286e-01,\n",
              "          2.2260e-02, -1.8442e-01, -1.8301e-01,  4.9791e-01,  8.7228e-02,\n",
              "          3.2524e-01,  1.7175e-01,  1.6367e-01,  3.2301e-01, -8.1398e-01,\n",
              "         -3.3314e-01,  2.7515e-01,  2.4865e-01, -2.9678e-01, -1.1292e+00,\n",
              "         -8.5221e-01,  1.6890e-01,  6.2063e-02, -4.8492e-01, -3.4151e-02,\n",
              "         -8.0330e-01,  2.7242e-01, -1.0528e-01,  4.3442e-01, -4.7146e-01,\n",
              "          2.2378e-01, -4.1270e-01,  2.5082e-01, -4.8343e-01,  7.4564e-01,\n",
              "          4.7616e-01, -8.2717e-01, -1.4648e-01,  2.4035e-02, -1.6270e-01,\n",
              "          7.3562e-01, -4.8950e-01, -4.5970e-01, -2.0197e-01, -7.2348e-01,\n",
              "          9.0213e-02,  8.0830e-01, -2.3547e-01, -1.5195e-01,  2.8099e-01,\n",
              "          2.0635e-01,  3.1592e-01, -2.6653e-01,  3.1404e-01, -7.0942e-01,\n",
              "          1.8031e-01,  8.0515e-02, -3.9800e-01, -3.3782e-01, -3.0655e-01,\n",
              "         -6.8658e-01,  7.2378e-01, -3.5845e-01, -7.8874e-02,  5.4539e-01,\n",
              "         -1.0824e+00, -3.8960e-01,  9.7554e-04, -3.8816e-01, -2.7949e-01,\n",
              "          6.8341e-01,  1.1973e-02,  5.1352e-01,  2.2260e-01,  3.7636e-01,\n",
              "          5.3346e-02,  6.1184e-01, -7.4305e-01,  6.2745e-01,  2.9758e-01,\n",
              "          2.9873e-01, -7.5515e-01,  6.8209e-02, -4.6818e-01,  4.0360e-01,\n",
              "          5.2345e-01,  5.2471e-01, -6.0963e-01,  8.1128e-01, -3.2568e-01,\n",
              "         -7.8974e-01, -8.2996e-01,  3.7537e-01, -3.5042e-01, -2.5204e-01,\n",
              "          5.3042e-01,  2.6221e-01, -4.4070e-01, -7.1127e-02, -3.3026e-01,\n",
              "         -1.5602e-01, -8.3272e-02,  1.4542e-01, -1.5313e-01,  2.2611e-01,\n",
              "          1.5418e-02,  1.4555e-02,  2.9418e-01,  4.4361e-01,  5.1806e-01,\n",
              "         -3.3184e-01, -2.0985e-01,  2.3534e-01, -4.4460e-01,  5.6448e-01,\n",
              "         -3.6772e-01,  7.6782e-01, -3.1289e-03, -7.2524e-02, -4.9625e-01,\n",
              "         -1.3537e-01,  1.1732e-01, -2.1938e-02,  4.4854e-01,  6.3119e-02,\n",
              "         -8.2496e-02,  6.2359e-01,  4.6299e-01, -2.4000e-01, -6.8151e-02,\n",
              "          1.9084e-01,  2.2660e-01,  1.5879e-01,  4.3875e-01,  4.8380e-01,\n",
              "          4.2061e-01, -5.8400e-01, -3.3223e-01,  2.3598e-02, -9.4318e-02,\n",
              "          1.3365e-01,  4.7973e-01,  5.0290e-01,  1.6665e-01,  3.4503e-01,\n",
              "          2.2438e-01, -4.9178e-01,  1.1002e-01,  3.3752e-01, -4.9491e-02,\n",
              "          1.5534e-01, -3.0167e-01, -3.2851e-02,  1.0783e-01, -4.5464e-01,\n",
              "          1.3246e-01,  1.1717e-01, -2.3731e-02,  5.8442e-01, -1.7168e-01,\n",
              "          2.0347e-01,  3.4508e-01,  1.2278e-01, -1.0611e-01,  3.0223e-01,\n",
              "         -4.5900e-01,  2.5275e-01, -8.2895e-01,  2.4632e-01, -2.8056e-01,\n",
              "         -3.6157e-01,  7.8171e-02, -5.0000e-01, -6.0060e-01,  4.6392e-02,\n",
              "          6.2505e-01,  2.9956e-01,  5.8661e-02, -6.2614e-01,  2.7553e-01,\n",
              "          2.7119e-01,  1.6810e-01,  2.1623e-01,  5.7995e-01, -3.5001e-01,\n",
              "         -2.9562e-01,  1.8304e-01, -2.8857e-02,  4.8268e-01,  6.5663e-01,\n",
              "         -4.9579e-01, -4.1113e-01, -4.0287e-01,  6.1793e-01,  4.2142e-01,\n",
              "         -2.6738e-01, -5.1752e-01, -8.1070e-02,  2.0380e-01,  4.6123e-01,\n",
              "         -2.5644e-01,  3.9563e-02, -2.2761e-01,  7.3165e-02, -1.4882e-01,\n",
              "          1.5352e-01,  2.9367e-01,  3.3828e-01, -9.9751e-02,  1.2709e-01,\n",
              "          1.9263e-01,  1.2812e-01, -2.3076e-01, -7.0764e-01,  1.8810e-01,\n",
              "          9.6045e-02, -5.3057e-01,  8.6880e-02,  8.6398e-02, -2.5791e-01,\n",
              "          1.3691e-01, -6.8901e-01, -3.4021e-01,  5.5649e-01,  6.5904e-01,\n",
              "          2.1569e-01, -5.6440e-01, -7.5772e-01, -4.8507e-01,  5.0564e-01,\n",
              "         -7.0208e-02, -1.4895e-01, -1.5119e-01, -7.8455e-01, -4.3131e-01,\n",
              "          7.9706e-02,  1.0295e-01,  2.3026e-01,  4.3048e-01,  1.1951e-01,\n",
              "          1.0087e-01, -3.2127e-01, -8.0203e-01], grad_fn=<DivBackward0>),\n",
              " 'you': tensor([ 1.0544e-01, -1.7592e-01, -1.6792e-01, -1.3773e-01, -1.9187e-01,\n",
              "          3.9008e-01, -3.0527e-01,  5.9016e-01,  5.0243e-02, -9.6419e-02,\n",
              "         -2.2339e-01,  6.0540e-02, -5.0867e-02,  3.6353e-02, -4.5606e-01,\n",
              "          9.8892e-02,  1.6491e-01,  2.9654e-01,  7.4109e-02,  1.0298e+00,\n",
              "         -4.7298e-01,  4.0805e-01, -2.1694e-01,  5.1836e-01, -2.9954e-01,\n",
              "         -1.6120e-01,  4.0080e-02, -2.4062e-01,  6.3624e-01, -4.0886e-02,\n",
              "         -4.2734e-01, -2.4817e-01, -2.3620e-01, -3.2178e-01,  1.6342e-01,\n",
              "          3.6722e-01,  1.3304e-01,  5.6050e-01, -2.0481e-01,  6.4564e-02,\n",
              "          2.4094e-02,  2.9420e-02,  3.0567e-02,  7.2428e-02, -1.6953e-01,\n",
              "         -6.1244e-01,  5.6969e-01, -2.6503e-01,  1.1433e-01, -6.5927e-01,\n",
              "         -4.6442e-01,  6.5322e-02, -5.7165e-01,  4.2013e-01, -8.4296e-02,\n",
              "          4.9134e-01,  2.3785e-02,  4.3545e-01, -6.1722e-01,  3.0104e-01,\n",
              "         -8.9937e-01,  4.5135e-01,  7.0041e-01, -4.1089e-01, -3.7835e-01,\n",
              "          6.2074e-01, -1.4452e-01,  6.0576e-01, -4.6617e-01, -4.2395e-01,\n",
              "          1.3651e-01, -2.6603e-01, -3.5495e-01, -6.2181e-01,  5.5954e-01,\n",
              "         -1.9625e-02, -1.8419e-01, -1.0381e-01, -2.6762e-01,  2.2757e-01,\n",
              "          1.0246e-01, -4.8211e-02, -2.5442e-01,  1.7148e-01, -3.6927e-01,\n",
              "         -2.7297e-01, -7.3350e-01,  3.2248e-01,  4.2465e-01, -8.8604e-01,\n",
              "         -6.0313e-01, -2.8800e-01,  2.2242e-01,  8.4381e-01,  8.9041e-02,\n",
              "         -5.7467e-01,  1.1035e-01,  3.9422e-02,  8.6225e-01,  4.3964e-01,\n",
              "          2.8560e-01, -8.2909e-01, -1.8130e-01, -5.8214e-01, -1.2094e-02,\n",
              "         -6.1435e-02, -3.2768e-01,  3.5585e-02,  5.9649e-01, -9.3323e-01,\n",
              "         -2.1702e-01, -7.5640e-01,  1.8873e-01,  2.3104e-01,  3.5826e-02,\n",
              "          5.4446e-01, -6.4694e-03, -6.1425e-01, -3.4206e-01,  5.2142e-01,\n",
              "         -2.1781e-01, -1.2817e-01,  5.3501e-01,  8.4308e-01, -2.5112e-01,\n",
              "         -3.4747e-01, -4.4572e-02,  3.6333e-01,  7.6915e-02, -1.0717e+00,\n",
              "          5.8619e-01,  9.0944e-01, -5.8386e-02, -1.3331e-01, -2.4464e-01,\n",
              "          2.2279e-01,  9.9717e-01,  1.1005e+00,  3.9064e-01, -3.3754e-01,\n",
              "          9.3061e-01, -1.6443e-01,  2.0314e-01, -7.1068e-01,  8.1898e-01,\n",
              "          5.3051e-01, -3.5890e-01,  2.9839e-01,  9.9117e-01,  2.9027e-01,\n",
              "          2.5084e-01,  6.0069e-01,  1.6315e-01, -9.2590e-02,  1.0743e-01,\n",
              "         -4.1180e-02, -4.6083e-01,  4.7794e-01,  4.1043e-01,  1.3630e-01,\n",
              "          5.2606e-01, -7.0270e-01, -2.8799e-01,  6.1136e-01, -5.6743e-01,\n",
              "          7.5206e-02,  1.6742e-01, -1.1858e-01, -1.4621e-01,  4.6706e-03,\n",
              "         -4.2601e-01, -2.5937e-01,  6.8727e-01,  4.9694e-01, -4.5409e-01,\n",
              "         -8.4985e-01, -2.5049e-02,  8.2348e-01,  2.0148e-01, -2.9436e-01,\n",
              "         -4.9451e-01,  8.4670e-01,  1.9385e-01, -6.5714e-01, -2.1087e-01,\n",
              "          3.0620e-01,  6.5753e-01, -7.7582e-01, -5.1988e-01,  5.9143e-01,\n",
              "          1.2274e+00, -3.6301e-01, -5.5942e-02, -2.5482e-01,  8.3643e-01,\n",
              "         -1.1363e+00, -6.1164e-01, -3.1106e-01, -1.1835e-01, -4.3772e-04,\n",
              "         -1.8828e-01, -1.4578e-01,  4.5052e-01,  4.9230e-02,  1.3773e-01,\n",
              "          1.2549e+00, -1.5805e-02, -6.0876e-01,  4.2934e-01,  3.2589e-01,\n",
              "         -5.4575e-01, -7.8083e-02, -1.7759e-01, -1.8320e-01,  7.3502e-01,\n",
              "          3.6512e-01, -1.0094e-01, -8.2934e-02, -5.5825e-01, -2.8821e-01,\n",
              "          5.7841e-01, -3.8874e-01, -2.9617e-01, -4.1613e-02, -2.3652e-01,\n",
              "          7.7254e-01, -4.2450e-01,  1.0767e+00, -3.7479e-01, -2.2643e-02,\n",
              "         -5.9625e-01, -2.2278e-02,  5.0207e-01,  4.7514e-01,  1.8574e-01,\n",
              "         -3.2930e-01, -2.6038e-01, -1.7405e-01, -1.5724e-01, -5.4246e-02,\n",
              "         -1.1658e-02,  8.7735e-03, -3.5891e-02,  9.3701e-01, -9.3209e-01,\n",
              "          5.1923e-01,  2.1513e-01, -2.2467e-01, -6.6279e-01, -1.6932e-02,\n",
              "         -3.1566e-01, -1.3055e+00,  3.9124e-01, -2.8259e-02,  3.7729e-01,\n",
              "         -1.7883e-01, -3.8486e-01,  1.5725e-01, -4.7659e-01,  5.2832e-01,\n",
              "         -1.8082e-01,  6.7370e-01,  4.1538e-01, -1.5297e-01, -3.9463e-01,\n",
              "          2.9949e-01, -1.8974e-01,  6.0230e-01,  5.8301e-01,  1.7035e-01,\n",
              "          2.5157e-01, -2.3064e-02,  6.2292e-02, -4.7533e-01, -4.5802e-01,\n",
              "          4.6091e-02,  9.1098e-01,  2.9521e-01, -2.9026e-01,  4.3547e-02,\n",
              "         -3.5425e-01,  7.9520e-01, -4.1133e-02,  6.9536e-01,  3.1578e-01,\n",
              "          3.9397e-02,  4.3245e-02, -2.1262e-01, -6.6103e-01, -6.9246e-01,\n",
              "         -4.2115e-01,  7.4262e-01, -1.7642e-01, -3.1946e-01,  5.7188e-01,\n",
              "         -1.0358e+00,  2.1994e-01, -1.3934e-03,  2.4850e-01,  3.4431e-01,\n",
              "          2.3514e-01, -3.2855e-01, -1.8870e-01,  4.0289e-01, -2.0397e-01,\n",
              "         -1.6233e-01, -5.5565e-01, -8.9718e-01, -4.0075e+00, -1.1278e+00,\n",
              "         -3.6657e-01, -3.8773e-01, -9.7771e-02, -1.1382e+00,  2.1213e-01,\n",
              "          2.1563e-01, -1.8727e-01, -1.8913e-01,  5.9576e-01, -7.4310e-01,\n",
              "         -4.1910e-01,  1.1137e-01,  4.8849e-01,  1.0332e-01,  3.2030e-01,\n",
              "         -6.6798e-01,  4.7975e-02,  1.3719e+00,  1.0659e-01,  3.5234e-01,\n",
              "          3.4218e-01, -1.1847e-01, -5.4574e-01,  1.2787e+00,  4.2121e-02,\n",
              "         -4.1555e-01, -1.0045e+00,  3.2833e-01, -8.4671e-01,  8.8981e-01,\n",
              "         -1.9991e-01,  5.8978e-02,  4.9037e-01, -5.3501e-02, -4.8336e-01,\n",
              "          2.6522e-01,  5.5538e-01, -3.6016e-01,  1.1930e-01,  6.0286e-01,\n",
              "         -3.5977e-01, -7.0672e-03,  1.1415e+00,  5.3481e-01,  4.4624e-01,\n",
              "         -6.1697e-01,  6.1480e-01,  6.4450e-01, -2.0696e-01, -3.2888e-01,\n",
              "          7.1505e-01, -2.8904e-01,  2.4036e-01,  2.0243e-01,  5.6986e-01,\n",
              "          3.5082e-01,  2.9138e-01, -4.4419e-01, -1.3905e-01, -3.0402e-02,\n",
              "         -9.7717e-02,  4.1326e-01, -4.4925e-02, -6.4892e-01, -1.0665e+00,\n",
              "          9.2493e-02,  3.3040e-01,  6.0904e-01, -2.4151e-01,  5.8068e-01,\n",
              "          4.8304e-02, -1.0415e+00, -6.0162e-01,  5.7088e-01, -1.5478e-01,\n",
              "         -2.1638e-02, -1.6697e-01,  1.1911e-02, -8.9451e-01, -6.2093e-01,\n",
              "         -3.6784e-01, -1.5553e-01, -4.2489e-01, -6.1478e-01,  9.9404e-01,\n",
              "         -3.3859e-01,  6.3262e-02, -1.4675e-01,  6.9619e-01,  2.0282e-01,\n",
              "          5.1350e-01,  6.3107e-01,  2.6291e-01, -4.8479e-01,  5.7232e-01,\n",
              "         -8.1520e-01, -4.8155e-01, -2.6621e-01, -6.3394e-01, -1.9863e-01,\n",
              "          7.7354e-01,  4.5763e-01,  1.1318e+00,  3.6207e-01, -8.9700e-01,\n",
              "         -4.0779e-01, -1.6184e-02,  4.0387e-01, -4.6160e-01, -2.3014e-01,\n",
              "         -1.4914e-01,  1.7932e-01, -4.6741e-01, -4.5991e-02,  5.7249e-01,\n",
              "          1.3932e-01, -3.0255e-01,  3.7517e-01,  2.9683e-02,  7.3588e-01,\n",
              "          2.2550e-01, -8.0049e-01, -3.2352e-01, -3.4715e-01, -3.5002e-01,\n",
              "         -1.2740e+00, -1.8375e-01,  3.8601e-01,  2.8354e-01,  2.0851e-01,\n",
              "          1.1601e-01, -3.2472e-01,  3.6885e-01, -1.4761e-01, -5.0915e-01,\n",
              "         -4.4157e-01,  3.1679e-01,  3.9123e-01, -3.5883e-01,  1.6687e-02,\n",
              "         -2.8835e-01,  1.5747e-01, -6.0228e-01, -6.9711e-02, -1.0363e+00,\n",
              "         -6.2892e-01,  2.1111e-01,  6.0572e-01, -2.2968e-01, -2.5935e-02,\n",
              "         -1.9859e-01, -2.7770e-01, -1.3163e-01, -4.9810e-01,  1.8992e-01,\n",
              "         -1.7615e-01,  1.5102e-01, -3.7857e-01, -5.5092e-01,  1.0858e+00,\n",
              "         -6.0106e-01, -1.8530e-01,  5.4948e-01,  9.9042e-01,  6.0331e-01,\n",
              "          2.6548e-01, -6.5180e-01,  4.7186e-01, -1.1640e-01,  3.4489e-01,\n",
              "          1.4786e-01, -5.8579e-01, -6.8457e-01,  2.1518e-02,  2.6139e-01,\n",
              "          2.5510e-01, -6.5841e-01,  2.0663e-01, -5.7673e-02, -5.4979e-01,\n",
              "         -3.4339e-01, -3.3539e-01,  6.3409e-02, -1.4157e-01, -5.7945e-01,\n",
              "         -2.9752e-01, -3.1757e-02,  2.4006e-01, -3.9061e-01,  1.8404e-01,\n",
              "         -4.1166e-01, -6.6655e-01, -1.1643e+00, -9.9164e-01,  2.4394e-01,\n",
              "         -6.3428e-01,  4.4606e-01,  3.7274e-01,  2.0888e-01, -4.0971e-02,\n",
              "         -6.9453e-02,  3.2244e-01, -2.3812e-01, -4.5808e-01, -1.4253e-01,\n",
              "          1.4433e-01, -3.5084e-01,  9.7488e-02, -4.6946e-01,  2.4749e-01,\n",
              "         -9.5913e-01, -8.3773e-01, -1.5322e-01, -1.2293e-01, -3.7814e-02,\n",
              "         -3.2979e-02,  1.0819e-01, -1.8798e-01, -4.2049e-01, -4.4403e-01,\n",
              "         -7.1372e-01, -3.5126e-01, -1.0649e-01,  1.6130e-01, -5.6806e-01,\n",
              "         -4.3569e-01, -7.0633e-01, -5.2208e-01,  1.4790e-01, -3.9605e-01,\n",
              "          9.4523e-01,  1.2482e+00,  8.5217e-01, -7.5016e-01, -2.0978e-01,\n",
              "          1.3335e-01,  1.6586e-01,  6.1666e-01, -2.2876e-01, -1.3826e-01,\n",
              "         -2.3814e-04, -1.8758e-01, -7.7685e-03, -7.4930e-01,  4.3570e-02,\n",
              "          2.4817e-01, -4.7044e-01,  5.4308e-01,  7.0107e-01, -1.6901e-01,\n",
              "          1.9169e-01, -9.8231e-01, -2.2011e-01, -2.5912e-01, -7.4891e-01,\n",
              "          2.6366e-01,  4.0632e-01, -4.5720e-03,  2.4491e-01,  4.8827e-01,\n",
              "          7.2246e-01, -3.5594e-01, -5.0419e-01,  5.2722e-01,  1.0793e-01,\n",
              "          2.3749e-01, -2.0175e-01, -1.7403e-02,  3.5055e-01,  2.4803e-01,\n",
              "          1.7451e-01, -3.6747e-03,  6.8447e-01, -2.8208e-01, -3.4745e-01,\n",
              "         -9.8341e-02, -4.1867e-01,  1.3110e-01,  5.0942e-01,  8.9552e-01,\n",
              "         -4.4980e-02, -9.1052e-01, -9.8689e-02, -3.7719e-01, -2.9852e-01,\n",
              "          7.3089e-01, -4.4002e-01,  4.2512e-01, -2.5234e-01,  5.6303e-01,\n",
              "          4.7528e-01,  5.4067e-02,  4.3321e-01,  4.6353e-01,  4.2165e-01,\n",
              "         -1.2268e-01, -6.0523e-01,  2.5958e-01, -2.9288e-01,  4.8083e-01,\n",
              "          3.9549e-01,  8.7493e-01, -7.4151e-02,  3.6936e-01,  3.8395e-01,\n",
              "         -6.7434e-01,  3.3527e-01,  7.1862e-01, -7.2294e-01,  3.4096e-01,\n",
              "          6.8568e-01,  2.8179e-01,  2.6948e-01, -6.3569e-02,  3.3513e-01,\n",
              "         -6.8769e-02, -7.2417e-01,  2.6570e-01,  2.3638e-01, -1.0208e+00,\n",
              "          1.5755e-01, -2.6444e-01,  7.5969e-02, -3.4046e-01, -4.9865e-01,\n",
              "          1.7447e-01,  1.2357e-01,  4.9731e-01,  1.5861e-01,  4.2413e-01,\n",
              "         -2.3571e-01,  9.7292e-01,  2.1048e-01,  4.1285e-01,  4.8464e-02,\n",
              "         -4.1012e-01,  1.7046e-01, -2.2636e-01, -4.8581e-02,  6.8579e-01,\n",
              "          9.6163e-01,  2.2345e-02,  5.4144e-02,  1.5039e-01, -6.1598e-01,\n",
              "         -1.8905e-01,  1.3119e+00,  2.0385e-01,  4.5928e-01,  8.5381e-02,\n",
              "         -3.1271e-01, -1.4825e-01,  5.9325e-01, -7.8209e-02, -2.5916e-03,\n",
              "          1.0435e+00, -5.7033e-01, -7.2575e-01,  1.0409e-01,  2.0035e-02,\n",
              "          2.9219e-01, -4.9655e-01,  1.1925e-01,  1.6689e-01,  3.3382e-01,\n",
              "          4.6910e-02, -3.7383e-01,  9.0398e-02, -2.2759e-01,  3.7654e-01,\n",
              "         -3.3507e-01,  1.1372e+00, -2.2943e-01,  1.3910e+00,  4.9258e-01,\n",
              "         -8.5003e-02,  3.5593e-02,  2.0670e-01,  9.4110e-01,  3.4484e-01,\n",
              "         -5.7778e-01, -3.8736e-01,  2.8569e-02, -5.8051e-01, -4.6342e-01,\n",
              "         -4.3782e-01,  5.4257e-01,  2.7738e-01,  1.2225e+00, -5.2808e-01,\n",
              "          2.9204e-01, -4.4408e-01, -1.3788e-01, -6.4184e-01, -3.4220e-02,\n",
              "          8.6595e-01, -1.0485e-01, -3.2972e-01,  6.3664e-01,  5.2699e-02,\n",
              "          6.5759e-01, -4.1058e-01, -1.8880e-01,  7.9936e-01, -6.9050e-01,\n",
              "         -6.5365e-01, -8.9349e-01, -1.0806e+00,  7.7278e-01,  5.1320e-01,\n",
              "         -6.2441e-01,  3.4301e-01,  2.5257e-01,  6.9291e-01,  4.8708e-01,\n",
              "         -4.1852e-01, -6.4404e-01, -3.0594e-02,  1.5571e-01, -9.5206e-02,\n",
              "          7.3188e-02,  3.1095e-01,  1.9398e-01,  1.2233e-02,  1.4579e-01,\n",
              "          8.5479e-01, -4.3437e-01, -1.0448e+00, -4.7459e-01, -1.2950e-01,\n",
              "          4.6504e-01, -5.8236e-01, -2.6409e-01, -4.0664e-01,  6.9454e-01,\n",
              "          3.1051e-01,  2.0257e-01, -7.2416e-01,  2.7146e-01, -3.3114e-01,\n",
              "         -1.0330e+00, -8.2945e-01, -2.1077e+00, -6.5341e-01, -6.8880e-01,\n",
              "         -5.3506e-01, -4.4443e-01,  2.3355e-01,  8.3755e-02, -2.5864e-01,\n",
              "          5.5705e-01,  1.6004e-01,  2.8881e-01,  1.3121e-01,  3.1691e-03,\n",
              "         -5.3238e-02,  1.0252e+00, -1.5524e-01], grad_fn=<DivBackward0>)}"
            ]
          },
          "metadata": {
            "tags": []
          },
          "execution_count": 53
        }
      ]
    },
    {
      "cell_type": "code",
      "metadata": {
        "id": "ed-8nN01cM0r"
      },
      "source": [
        ""
      ],
      "execution_count": null,
      "outputs": []
    }
  ]
}